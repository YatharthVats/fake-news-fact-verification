{
 "cells": [
  {
   "cell_type": "code",
   "execution_count": 1,
   "metadata": {},
   "outputs": [
    {
     "data": {
      "text/plain": [
       "'\\nSteps:\\n1 enter query get google search results(done)\\n2 go to outline with url and scrape it (done)\\n3 separate all sentences and compare them with your claim to determine what sentences are useful to you (done)\\n4 apply stance detection to determine if the claim and the sentence match with each other or oppose one another(done)\\n5 return the result\\n'"
      ]
     },
     "execution_count": 1,
     "metadata": {},
     "output_type": "execute_result"
    }
   ],
   "source": [
    "'''\n",
    "Steps:\n",
    "1 enter query get google search results(done)\n",
    "2 go to outline with url and scrape it (done)\n",
    "3 separate all sentences and compare them with your claim to determine what sentences are useful to you (done)\n",
    "4 apply stance detection to determine if the claim and the sentence match with each other or oppose one another(done)\n",
    "5 return the result\n",
    "'''"
   ]
  },
  {
   "cell_type": "code",
   "execution_count": 2,
   "metadata": {},
   "outputs": [],
   "source": [
    "#all are developed just have to do integration"
   ]
  },
  {
   "cell_type": "code",
   "execution_count": 12,
   "metadata": {},
   "outputs": [],
   "source": [
    "#2nd\n",
    "#import requests\n",
    "#from bs4 import BeautifulSoup\n",
    "\n",
    "#url=\"https://outline.com/fgsAGF\"\n",
    "#url = \"https://outline.com/8gKLZb\"\n",
    "#response = requests.get(url)"
   ]
  },
  {
   "cell_type": "code",
   "execution_count": 23,
   "metadata": {
    "scrolled": false
   },
   "outputs": [],
   "source": [
    "#print(response.text)\n",
    "#extracted_url=\"https://edition.cnn.com/2020/10/06/politics/trump-flu-covid-lethal-tweet-fact-check/index.html\"\n"
   ]
  },
  {
   "cell_type": "code",
   "execution_count": 52,
   "metadata": {},
   "outputs": [],
   "source": [
    "#soup = BeautifulSoup(response.text, 'html.parser')\n",
    "#soup.findAll('p')"
   ]
  },
  {
   "cell_type": "code",
   "execution_count": 2,
   "metadata": {},
   "outputs": [],
   "source": [
    "#1st part Using Bing News API\n",
    "subscription_key = ''\n",
    "assert subscription_key"
   ]
  },
  {
   "cell_type": "code",
   "execution_count": 3,
   "metadata": {},
   "outputs": [
    {
     "name": "stdout",
     "output_type": "stream",
     "text": [
      "coronavirus is a hoax\n",
      "coronavirus is a hoax fact check\n"
     ]
    }
   ],
   "source": [
    "search_url = \"https://api.bing.microsoft.com/v7.0/search\"\n",
    "inp=input()\n",
    "search_term = inp+ \" fact check\"\n",
    "print(search_term)"
   ]
  },
  {
   "cell_type": "code",
   "execution_count": 4,
   "metadata": {},
   "outputs": [],
   "source": [
    "import requests\n",
    "\n",
    "headers = {\"Ocp-Apim-Subscription-Key\" : subscription_key}\n",
    "params  = {\"q\": search_term, \"textDecorations\":True, \"textFormat\":\"HTML\"}\n",
    "response = requests.get(search_url, headers=headers, params=params)\n",
    "response.raise_for_status()\n",
    "search_results = response.json()"
   ]
  },
  {
   "cell_type": "code",
   "execution_count": 5,
   "metadata": {},
   "outputs": [
    {
     "data": {
      "text/plain": [
       "{'_type': 'SearchResponse',\n",
       " 'queryContext': {'originalQuery': 'coronavirus is a hoax fact check'},\n",
       " 'webPages': {'webSearchUrl': 'https://www.bing.com/search?q=coronavirus+is+a+hoax+fact+check',\n",
       "  'totalEstimatedMatches': 3060000,\n",
       "  'value': [{'id': 'https://api.bing.microsoft.com/api/v7/#WebPages.0',\n",
       "    'name': 'Fact check: The coronavirus pandemic is not a hoax or a conspiracy to ...',\n",
       "    'url': 'https://www.reuters.com/article/uk-factcheck-hoax-idUSKBN25G2KM',\n",
       "    'isFamilyFriendly': True,\n",
       "    'displayUrl': 'https://<b>www.reuters.com</b>/article/uk-<b>factcheck</b>-<b>hoax</b>-idUSKBN25G2KM',\n",
       "    'snippet': 'The coronavirus pandemic is not a hoax; it is a global outbreak caused by the virus SARS-CoV-2. This article was produced by the Reuters Fact Check team. Read more about our work to fact-check...',\n",
       "    'dateLastCrawled': '2020-11-26T14:21:00.0000000Z',\n",
       "    'language': 'en',\n",
       "    'isNavigational': False},\n",
       "   {'id': 'https://api.bing.microsoft.com/api/v7/#WebPages.1',\n",
       "    'name': 'Pathologist falsely claims COVID-19 is a hoax, no worse than the flu',\n",
       "    'url': 'https://apnews.com/article/fact-checking-9785042487',\n",
       "    'isFamilyFriendly': True,\n",
       "    'displayUrl': 'https://apnews.com/article/<b>fact</b>-<b>checking</b>-9785042487',\n",
       "    'snippet': 'CLAIM: <b>COVID-19</b> is “the greatest <b>hoax</b> ever perpetrated” and “just another bad flu.” Roger Hodkinson, a pathologist who identifies himself as a former chairman of the Royal College of Physicians and Surgeons of Canada, made the comments by phone during a public meeting in Edmonton, the capital of Alberta, Canada.',\n",
       "    'dateLastCrawled': '2020-11-28T07:20:00.0000000Z',\n",
       "    'language': 'en',\n",
       "    'isNavigational': False},\n",
       "   {'id': 'https://api.bing.microsoft.com/api/v7/#WebPages.2',\n",
       "    'name': 'Did President Trump Refer to the Coronavirus as a &#39;Hoax&#39;?',\n",
       "    'url': 'https://www.snopes.com/fact-check/trump-coronavirus-rally-remark/',\n",
       "    'isFamilyFriendly': True,\n",
       "    'displayUrl': 'https://<b>www.snopes.com</b>/<b>fact</b>-<b>check</b>/trump-<b>coronavirus</b>-r',\n",
       "    'snippet': 'And in an article headlined “Trump calls coronavirus Democrats’ ‘new hoax,&#39;” NBC News correspondent Lauren Egan wrote: “President Donald Trump accused Democrats of ‘politicizing’ the deadly...',\n",
       "    'dateLastCrawled': '2020-11-26T23:04:00.0000000Z',\n",
       "    'language': 'en',\n",
       "    'isNavigational': False},\n",
       "   {'id': 'https://api.bing.microsoft.com/api/v7/#WebPages.3',\n",
       "    'name': 'Fact Check: Statistics Show COVID-19 Is NOT &#39;The Greatest Hoax Ever ...',\n",
       "    'url': 'https://leadstories.com/hoax-alert/2020/11/fact-check-statistics-show-covid-19-is-not-the-greatest-hoax-ever-perpetrated-on-an-unsuspecting-public-and-is-not-just-another-bad-flu.html',\n",
       "    'isFamilyFriendly': True,\n",
       "    'displayUrl': 'https://leadstories.com/<b>hoax</b>-alert/2020/11/<b>fact</b>-<b>check</b>-statistics-show-<b>covid-19</b>-is-not...',\n",
       "    'snippet': '<b>COVID-19</b> is also more infectious than the flu and has a higher death rate. <b>COVID-19</b> also has a higher rate of hospitalizations. Hodkinson, who believes <b>COVID-19</b> concerns are a <b>hoax</b>, also appears to adhere to the belief that herd immunity through contagion is the best way to deal with the pandemic. The Mayo Clinic defines herd immunity this way:',\n",
       "    'dateLastCrawled': '2020-11-26T10:11:00.0000000Z',\n",
       "    'language': 'en',\n",
       "    'isNavigational': False},\n",
       "   {'id': 'https://api.bing.microsoft.com/api/v7/#WebPages.4',\n",
       "    'name': 'Fact Check: Do not believe this hoax about microchip implant in ...',\n",
       "    'url': 'https://www.indiatoday.in/fact-check/story/fact-check-do-not-believe-this-hoax-about-microchip-implant-in-coronavirus-vaccine-1726551-2020-09-29',\n",
       "    'isFamilyFriendly': True,\n",
       "    'displayUrl': 'https://www.indiatoday.in/<b>fact</b>-<b>check</b>/story/<b>fact</b>-<b>check</b>-do-not-believe-this-<b>hoax</b>-about...',\n",
       "    'snippet': 'Fact Check: Do not believe this hoax about microchip implant in coronavirus vaccine India Today Anti Fake News War Room (AFWA) has found the video to be almost 12 years old. It is true that he was speaking about microchips but there was no reference to Covid-19.',\n",
       "    'dateLastCrawled': '2020-11-26T20:41:00.0000000Z',\n",
       "    'language': 'en',\n",
       "    'isNavigational': False},\n",
       "   {'id': 'https://api.bing.microsoft.com/api/v7/#WebPages.5',\n",
       "    'name': 'COVID-19 debunked rumors and hoaxes | Fact Check',\n",
       "    'url': 'https://factcheck.afp.com/covid-19-debunked-rumors-and-hoaxes',\n",
       "    'isFamilyFriendly': True,\n",
       "    'displayUrl': 'https://<b>factcheck</b>.afp.com/<b>covid-19</b>-debunked-rumors-and-<b>hoax</b>es',\n",
       "    'snippet': 'Below is a complete list of coronavirus/COVID-19 rumors and hoaxes debunked by AFP Digital Verification the world over, starting with the most recent: - The CDC in the US did not cut Covid-19 death...',\n",
       "    'dateLastCrawled': '2020-11-25T13:27:00.0000000Z',\n",
       "    'language': 'en',\n",
       "    'isNavigational': False},\n",
       "   {'id': 'https://api.bing.microsoft.com/api/v7/#WebPages.6',\n",
       "    'name': 'FACT CHECK: Did Trump Call The Coronavirus A ‘Hoax’ At His South ...',\n",
       "    'url': 'https://checkyourfact.com/2020/02/29/fact-check-donald-trump-coronavirus-hoax-south-carolina-rally/',\n",
       "    'isFamilyFriendly': True,\n",
       "    'displayUrl': 'https://<b>check</b>your<b>fact</b>.com/2020/02/29/<b>fact</b>-<b>check</b>-donald-trump-<b>coronavirus</b>-<b>hoax</b>-south...',\n",
       "    'snippet': 'At no point in the rally does Trump directly call the novel coronavirus outbreak a “hoax” or “conspiracy.” In fact, he refers to the respiratory virus as a “public health threat” and reiterates “we have to take it very, very seriously. That’s what we’re doing. We are preparing for the worst.”',\n",
       "    'dateLastCrawled': '2020-11-26T06:16:00.0000000Z',\n",
       "    'language': 'en',\n",
       "    'isNavigational': False},\n",
       "   {'id': 'https://api.bing.microsoft.com/api/v7/#WebPages.7',\n",
       "    'name': 'Fact-Check | Taking Steam Inhalation Daily Will Not ‘Kill’ Coronavirus',\n",
       "    'url': 'https://www.thequint.com/news/webqoof/taking-steam-inhalation-daily-will-not-kill-coronavirus',\n",
       "    'isFamilyFriendly': True,\n",
       "    'displayUrl': 'https://www.thequint.com/.../taking-steam-inhalation-daily-will-not-kill-<b>coronavirus</b>',\n",
       "    'snippet': '<b>Fact</b>-<b>Check</b> on <b>coronavirus</b> | Posts claiming steam inhalation will ‘kill’ the novel <b>coronavirus</b> has gone viral on social media. However, there is no study to back the claim that steam inhalation ...',\n",
       "    'dateLastCrawled': '2020-11-27T22:27:00.0000000Z',\n",
       "    'language': 'en',\n",
       "    'isNavigational': False},\n",
       "   {'id': 'https://api.bing.microsoft.com/api/v7/#WebPages.8',\n",
       "    'name': 'Trump and the &#39;New Hoax&#39; - FactCheck.org',\n",
       "    'url': 'https://www.factcheck.org/2020/03/trump-and-the-new-hoax/',\n",
       "    'isFamilyFriendly': True,\n",
       "    'displayUrl': 'https://<b>www.factcheck.org</b>/2020/03/trump-and-the-new-<b>hoax</b>',\n",
       "    'snippet': 'Democratic presidential candidates harshly criticized President Donald Trump for using the term “hoax” in connection with the coronavirus outbreak. There’s no question that the president described...',\n",
       "    'dateLastCrawled': '2020-11-26T10:18:00.0000000Z',\n",
       "    'language': 'en',\n",
       "    'isNavigational': False},\n",
       "   {'id': 'https://api.bing.microsoft.com/api/v7/#WebPages.9',\n",
       "    'name': 'A Guide to Our Coronavirus Coverage - FactCheck.org',\n",
       "    'url': 'https://www.factcheck.org/a-guide-to-our-coronavirus-coverage/',\n",
       "    'isFamilyFriendly': True,\n",
       "    'displayUrl': 'https://<b>www.factcheck.org</b>/a-guide-to-our-<b>coronavirus</b>-coverage',\n",
       "    'snippet': 'Trump and the ‘New Hoax’ Democratic presidential candidates harshly criticized President Donald Trump for using the term “hoax” in connection with the coronavirus outbreak. There’s no question that...',\n",
       "    'dateLastCrawled': '2020-11-26T03:14:00.0000000Z',\n",
       "    'language': 'en',\n",
       "    'isNavigational': False}]},\n",
       " 'rankingResponse': {'mainline': {'items': [{'answerType': 'WebPages',\n",
       "     'resultIndex': 0,\n",
       "     'value': {'id': 'https://api.bing.microsoft.com/api/v7/#WebPages.0'}},\n",
       "    {'answerType': 'WebPages',\n",
       "     'resultIndex': 1,\n",
       "     'value': {'id': 'https://api.bing.microsoft.com/api/v7/#WebPages.1'}},\n",
       "    {'answerType': 'WebPages',\n",
       "     'resultIndex': 2,\n",
       "     'value': {'id': 'https://api.bing.microsoft.com/api/v7/#WebPages.2'}},\n",
       "    {'answerType': 'WebPages',\n",
       "     'resultIndex': 3,\n",
       "     'value': {'id': 'https://api.bing.microsoft.com/api/v7/#WebPages.3'}},\n",
       "    {'answerType': 'WebPages',\n",
       "     'resultIndex': 4,\n",
       "     'value': {'id': 'https://api.bing.microsoft.com/api/v7/#WebPages.4'}},\n",
       "    {'answerType': 'WebPages',\n",
       "     'resultIndex': 5,\n",
       "     'value': {'id': 'https://api.bing.microsoft.com/api/v7/#WebPages.5'}},\n",
       "    {'answerType': 'WebPages',\n",
       "     'resultIndex': 6,\n",
       "     'value': {'id': 'https://api.bing.microsoft.com/api/v7/#WebPages.6'}},\n",
       "    {'answerType': 'WebPages',\n",
       "     'resultIndex': 7,\n",
       "     'value': {'id': 'https://api.bing.microsoft.com/api/v7/#WebPages.7'}},\n",
       "    {'answerType': 'WebPages',\n",
       "     'resultIndex': 8,\n",
       "     'value': {'id': 'https://api.bing.microsoft.com/api/v7/#WebPages.8'}},\n",
       "    {'answerType': 'WebPages',\n",
       "     'resultIndex': 9,\n",
       "     'value': {'id': 'https://api.bing.microsoft.com/api/v7/#WebPages.9'}}]}}}"
      ]
     },
     "execution_count": 5,
     "metadata": {},
     "output_type": "execute_result"
    }
   ],
   "source": [
    "search_results"
   ]
  },
  {
   "cell_type": "code",
   "execution_count": 6,
   "metadata": {
    "scrolled": true
   },
   "outputs": [
    {
     "data": {
      "text/html": [
       "<table><tr>\n",
       "                       <td><a href=\"https://www.reuters.com/article/uk-factcheck-hoax-idUSKBN25G2KM\">Fact check: The coronavirus pandemic is not a hoax or a conspiracy to ...</a></td>\n",
       "                       <td>The coronavirus pandemic is not a hoax; it is a global outbreak caused by the virus SARS-CoV-2. This article was produced by the Reuters Fact Check team. Read more about our work to fact-check...</td>\n",
       "                     </tr>\n",
       "<tr>\n",
       "                       <td><a href=\"https://apnews.com/article/fact-checking-9785042487\">Pathologist falsely claims COVID-19 is a hoax, no worse than the flu</a></td>\n",
       "                       <td>CLAIM: <b>COVID-19</b> is “the greatest <b>hoax</b> ever perpetrated” and “just another bad flu.” Roger Hodkinson, a pathologist who identifies himself as a former chairman of the Royal College of Physicians and Surgeons of Canada, made the comments by phone during a public meeting in Edmonton, the capital of Alberta, Canada.</td>\n",
       "                     </tr>\n",
       "<tr>\n",
       "                       <td><a href=\"https://www.snopes.com/fact-check/trump-coronavirus-rally-remark/\">Did President Trump Refer to the Coronavirus as a &#39;Hoax&#39;?</a></td>\n",
       "                       <td>And in an article headlined “Trump calls coronavirus Democrats’ ‘new hoax,&#39;” NBC News correspondent Lauren Egan wrote: “President Donald Trump accused Democrats of ‘politicizing’ the deadly...</td>\n",
       "                     </tr>\n",
       "<tr>\n",
       "                       <td><a href=\"https://leadstories.com/hoax-alert/2020/11/fact-check-statistics-show-covid-19-is-not-the-greatest-hoax-ever-perpetrated-on-an-unsuspecting-public-and-is-not-just-another-bad-flu.html\">Fact Check: Statistics Show COVID-19 Is NOT &#39;The Greatest Hoax Ever ...</a></td>\n",
       "                       <td><b>COVID-19</b> is also more infectious than the flu and has a higher death rate. <b>COVID-19</b> also has a higher rate of hospitalizations. Hodkinson, who believes <b>COVID-19</b> concerns are a <b>hoax</b>, also appears to adhere to the belief that herd immunity through contagion is the best way to deal with the pandemic. The Mayo Clinic defines herd immunity this way:</td>\n",
       "                     </tr>\n",
       "<tr>\n",
       "                       <td><a href=\"https://www.indiatoday.in/fact-check/story/fact-check-do-not-believe-this-hoax-about-microchip-implant-in-coronavirus-vaccine-1726551-2020-09-29\">Fact Check: Do not believe this hoax about microchip implant in ...</a></td>\n",
       "                       <td>Fact Check: Do not believe this hoax about microchip implant in coronavirus vaccine India Today Anti Fake News War Room (AFWA) has found the video to be almost 12 years old. It is true that he was speaking about microchips but there was no reference to Covid-19.</td>\n",
       "                     </tr>\n",
       "<tr>\n",
       "                       <td><a href=\"https://factcheck.afp.com/covid-19-debunked-rumors-and-hoaxes\">COVID-19 debunked rumors and hoaxes | Fact Check</a></td>\n",
       "                       <td>Below is a complete list of coronavirus/COVID-19 rumors and hoaxes debunked by AFP Digital Verification the world over, starting with the most recent: - The CDC in the US did not cut Covid-19 death...</td>\n",
       "                     </tr>\n",
       "<tr>\n",
       "                       <td><a href=\"https://checkyourfact.com/2020/02/29/fact-check-donald-trump-coronavirus-hoax-south-carolina-rally/\">FACT CHECK: Did Trump Call The Coronavirus A ‘Hoax’ At His South ...</a></td>\n",
       "                       <td>At no point in the rally does Trump directly call the novel coronavirus outbreak a “hoax” or “conspiracy.” In fact, he refers to the respiratory virus as a “public health threat” and reiterates “we have to take it very, very seriously. That’s what we’re doing. We are preparing for the worst.”</td>\n",
       "                     </tr>\n",
       "<tr>\n",
       "                       <td><a href=\"https://www.thequint.com/news/webqoof/taking-steam-inhalation-daily-will-not-kill-coronavirus\">Fact-Check | Taking Steam Inhalation Daily Will Not ‘Kill’ Coronavirus</a></td>\n",
       "                       <td><b>Fact</b>-<b>Check</b> on <b>coronavirus</b> | Posts claiming steam inhalation will ‘kill’ the novel <b>coronavirus</b> has gone viral on social media. However, there is no study to back the claim that steam inhalation ...</td>\n",
       "                     </tr>\n",
       "<tr>\n",
       "                       <td><a href=\"https://www.factcheck.org/2020/03/trump-and-the-new-hoax/\">Trump and the &#39;New Hoax&#39; - FactCheck.org</a></td>\n",
       "                       <td>Democratic presidential candidates harshly criticized President Donald Trump for using the term “hoax” in connection with the coronavirus outbreak. There’s no question that the president described...</td>\n",
       "                     </tr>\n",
       "<tr>\n",
       "                       <td><a href=\"https://www.factcheck.org/a-guide-to-our-coronavirus-coverage/\">A Guide to Our Coronavirus Coverage - FactCheck.org</a></td>\n",
       "                       <td>Trump and the ‘New Hoax’ Democratic presidential candidates harshly criticized President Donald Trump for using the term “hoax” in connection with the coronavirus outbreak. There’s no question that...</td>\n",
       "                     </tr></table>"
      ],
      "text/plain": [
       "<IPython.core.display.HTML object>"
      ]
     },
     "execution_count": 6,
     "metadata": {},
     "output_type": "execute_result"
    }
   ],
   "source": [
    "from IPython.display import HTML\n",
    "\n",
    "rows = \"\\n\".join([\"\"\"<tr>\n",
    "                       <td><a href=\\\"{0}\\\">{1}</a></td>\n",
    "                       <td>{2}</td>\n",
    "                     </tr>\"\"\".format(v[\"url\"], v[\"name\"], v[\"snippet\"])\n",
    "                  for v in search_results[\"webPages\"][\"value\"]])\n",
    "HTML(\"<table>{0}</table>\".format(rows))"
   ]
  },
  {
   "cell_type": "code",
   "execution_count": 7,
   "metadata": {},
   "outputs": [],
   "source": [
    "number_of_results=0\n",
    "maxRes=10\n",
    "results=[]\n",
    "for v in search_results[\"webPages\"][\"value\"]:\n",
    "    if number_of_results>=maxRes:\n",
    "        break\n",
    "    number_of_results+=1\n",
    "    results.append([v[\"url\"],v[\"name\"]])"
   ]
  },
  {
   "cell_type": "code",
   "execution_count": 8,
   "metadata": {
    "scrolled": true
   },
   "outputs": [
    {
     "data": {
      "text/plain": [
       "[['https://www.reuters.com/article/uk-factcheck-hoax-idUSKBN25G2KM',\n",
       "  'Fact check: The coronavirus pandemic is not a hoax or a conspiracy to ...'],\n",
       " ['https://apnews.com/article/fact-checking-9785042487',\n",
       "  'Pathologist falsely claims COVID-19 is a hoax, no worse than the flu'],\n",
       " ['https://www.snopes.com/fact-check/trump-coronavirus-rally-remark/',\n",
       "  'Did President Trump Refer to the Coronavirus as a &#39;Hoax&#39;?'],\n",
       " ['https://leadstories.com/hoax-alert/2020/11/fact-check-statistics-show-covid-19-is-not-the-greatest-hoax-ever-perpetrated-on-an-unsuspecting-public-and-is-not-just-another-bad-flu.html',\n",
       "  'Fact Check: Statistics Show COVID-19 Is NOT &#39;The Greatest Hoax Ever ...'],\n",
       " ['https://www.indiatoday.in/fact-check/story/fact-check-do-not-believe-this-hoax-about-microchip-implant-in-coronavirus-vaccine-1726551-2020-09-29',\n",
       "  'Fact Check: Do not believe this hoax about microchip implant in ...'],\n",
       " ['https://factcheck.afp.com/covid-19-debunked-rumors-and-hoaxes',\n",
       "  'COVID-19 debunked rumors and hoaxes | Fact Check'],\n",
       " ['https://checkyourfact.com/2020/02/29/fact-check-donald-trump-coronavirus-hoax-south-carolina-rally/',\n",
       "  'FACT CHECK: Did Trump Call The Coronavirus A ‘Hoax’ At His South ...'],\n",
       " ['https://www.thequint.com/news/webqoof/taking-steam-inhalation-daily-will-not-kill-coronavirus',\n",
       "  'Fact-Check | Taking Steam Inhalation Daily Will Not ‘Kill’ Coronavirus'],\n",
       " ['https://www.factcheck.org/2020/03/trump-and-the-new-hoax/',\n",
       "  'Trump and the &#39;New Hoax&#39; - FactCheck.org'],\n",
       " ['https://www.factcheck.org/a-guide-to-our-coronavirus-coverage/',\n",
       "  'A Guide to Our Coronavirus Coverage - FactCheck.org']]"
      ]
     },
     "execution_count": 8,
     "metadata": {},
     "output_type": "execute_result"
    }
   ],
   "source": [
    "results"
   ]
  },
  {
   "cell_type": "code",
   "execution_count": null,
   "metadata": {},
   "outputs": [],
   "source": []
  },
  {
   "cell_type": "code",
   "execution_count": 9,
   "metadata": {},
   "outputs": [],
   "source": [
    "#2nd\n",
    "from bs4 import BeautifulSoup\n",
    "import selenium as se\n",
    "from selenium import webdriver\n",
    "from selenium.webdriver.chrome.options import Options \n",
    "import re\n",
    "import time\n",
    "#browser.get(url)\n",
    "#html = browser.page_source\n",
    "#soup = BeautifulSoup(html, 'lxml')\n",
    "#a = soup.findAll('p')\n",
    "#print(results)"
   ]
  },
  {
   "cell_type": "code",
   "execution_count": 10,
   "metadata": {},
   "outputs": [],
   "source": [
    "contractions={\n",
    "    \"Mr.\":\"Mister\",\n",
    "    \"Dr.\": \"Doctor\",\n",
    "    \"Mrs.\": \"Missus\",\n",
    "    \"Sen.\":\"Senator\",\n",
    "    \"Ms.\":\"Miss\",\n",
    "    \"U.S.A.\": \"United States of America\",\n",
    "    \"US\": \"United States\",\n",
    "    \"USA\": \"United States of America\",\n",
    "    \"E.U.\": \"European Union\",\n",
    "    \"U.S.\": \"United States\",\n",
    "    \"Jan.\":\"January\",\n",
    "    \"Feb.\":\"February\",\n",
    "    \"Nov.\":\"November\",\n",
    "    \"ain't\": \"am not\",\n",
    "    \"aren't\": \"are not \",\n",
    "    \"can't\": \"cannot\",\n",
    "    \"can't've\": \"cannot have\",\n",
    "    \"'cause\": \"because\",\n",
    "    \"could've\": \"could have\",\n",
    "    \"couldn't\": \"could not\",\n",
    "    \"couldn't've\": \"could not have\",\n",
    "    \"didn't\": \"did not\",\n",
    "    \"doesn't\": \"does not\",\n",
    "    \"don't\": \"do not\",\n",
    "    \"hadn't\": \"had not\",\n",
    "    \"hadn't've\": \"had not have\",\n",
    "    \"hasn't\": \"has not\",\n",
    "    \"haven't\": \"have not\",\n",
    "    \"he'd\": \"he had \",\n",
    "    \"he'd've\": \"he would have\",\n",
    "    \"he'll\": \"he shall \",\n",
    "    \"he'll've\": \" he will have\",\n",
    "    \"he's\": \" he is\",\n",
    "    \"how'd\": \"how did\",\n",
    "    \"how'd'y\": \"how do you\",\n",
    "    \"how'll\": \"how will\",\n",
    "    \"how's\": \" how is \",\n",
    "    \"I'd\": \" I would\",\n",
    "    \"I'd've\": \"I would have\",\n",
    "    \"I'll\": \" I will\",\n",
    "    \"I'll've\": \"I will have\",\n",
    "    \"I'm\": \"I am\",\n",
    "    \"I've\": \"I have\",\n",
    "    \"isn't\": \"is not\",\n",
    "    \"it'd\": \" it would\",\n",
    "    \"it'd've\": \"it would have\",\n",
    "    \"it'll\": \"it will\",\n",
    "    \"it'll've\": \" it will have\",\n",
    "    \"it's\": \" it is\",\n",
    "    \"let's\": \"let us\",\n",
    "    \"ma'am\": \"madam\",\n",
    "    \"mayn't\": \"may not\",\n",
    "    \"might've\": \"might have\",\n",
    "    \"mightn't\": \"might not\",\n",
    "    \"mightn't've\": \"might not have\",\n",
    "    \"must've\": \"must have\",\n",
    "    \"mustn't\": \"must not\",\n",
    "    \"mustn't've\": \"must not have\",\n",
    "    \"needn't\": \"need not\",\n",
    "    \"needn't've\": \"need not have\",\n",
    "    \"o'clock\": \"of the clock\",\n",
    "    \"oughtn't\": \"ought not\",\n",
    "    \"oughtn't've\": \"ought not have\",\n",
    "    \"shan't\": \"shall not\",\n",
    "    \"sha'n't\": \"shall not\",\n",
    "    \"shan't've\": \"shall not have\",\n",
    "    \"she'd\": \" she would\",\n",
    "    \"she'd've\": \"she would have\",\n",
    "    \"she'll\": \" she will\",\n",
    "    \"she'll've\": \" she will have\",\n",
    "    \"she's\": \" she is\",\n",
    "    \"should've\": \"should have\",\n",
    "    \"shouldn't\": \"should not\",\n",
    "    \"shouldn't've\": \"should not have\",\n",
    "    \"so've\": \"so have\",\n",
    "    \"so's\": \"so is\",\n",
    "    \"that'd\": \"that would \",\n",
    "    \"that'd've\": \"that would have\",\n",
    "    \"that's\": \"that is\",\n",
    "    \"there'd\": \" there would\",\n",
    "    \"there'd've\": \"there would have\",\n",
    "    \"there's\": \"there is\",\n",
    "    \"they'd\": \"they would\",\n",
    "    \"they'd've\": \"they would have\",\n",
    "    \"they'll\": \"they will\",\n",
    "    \"they'll've\": \"they will have\",\n",
    "    \"they're\": \"they are\",\n",
    "    \"they've\": \"they have\",\n",
    "    \"to've\": \"to have\",\n",
    "    \"wasn't\": \"was not\",\n",
    "    \"we'd\": \"we would\",\n",
    "    \"we'd've\": \"we would have\",\n",
    "    \"we'll\": \"we will\",\n",
    "    \"we'll've\": \"we will have\",\n",
    "    \"we're\": \"we are\",\n",
    "    \"we've\": \"we have\",\n",
    "    \"weren't\": \"were not\",\n",
    "    \"what'll\": \"what will\",\n",
    "    \"what'll've\": \"what will have\",\n",
    "    \"what're\": \"what are\",\n",
    "    \"what's\": \"what is\",\n",
    "    \"what've\": \"what have\",\n",
    "    \"when's\": \"when is\",\n",
    "    \"when've\": \"when have\",\n",
    "    \"where'd\": \"where did\",\n",
    "    \"where's\": \"where is\",\n",
    "    \"where've\": \"where have\",\n",
    "    \"who'll\": \"who will\",\n",
    "    \"who'll've\": \"who will have\",\n",
    "    \"who's\": \"who is\",\n",
    "    \"who've\": \"who have\",\n",
    "    \"why's\": \"why is\",\n",
    "    \"why've\": \"why have\",\n",
    "    \"will've\": \"will have\",\n",
    "    \"won't\": \"will not\",\n",
    "    \"won't've\": \"will not have\",\n",
    "    \"would've\": \"would have\",\n",
    "    \"wouldn't\": \"would not\",\n",
    "    \"wouldn't've\": \"would not have\",\n",
    "    \"y'all\": \"you all\",\n",
    "    \"y'all'd\": \"you all would\",\n",
    "    \"y'all'd've\": \"you all would have\",\n",
    "    \"y'all're\": \"you all are\",\n",
    "    \"y'all've\": \"you all have\",\n",
    "    \"you'd\": \"you would\",\n",
    "    \"you'd've\": \"you would have\",\n",
    "    \"you'll\": \"you will\",\n",
    "    \"you'll've\": \"you will have\",\n",
    "    \"you're\": \"you are\",\n",
    "    \"you've\": \"you have\"\n",
    "}\n",
    "def clean(line):\n",
    "    line=line.split(\" \")\n",
    "    newline=\"\"\n",
    "    i=[x for x in line if x and x not in(\" \")]\n",
    "    for word in i:\n",
    "        if word in contractions:\n",
    "            newline+=contractions[word]\n",
    "            newline+=\" \"\n",
    "        elif any(sub in word for sub in contractions):\n",
    "            sub=[sub for sub in contractions if(sub in word)][0]\n",
    "            replace= re.sub(sub,contractions[sub]+\" \",word)\n",
    "            newline+=replace+\" \"\n",
    "        else:\n",
    "            newline+=word\n",
    "            newline+=\" \"\n",
    "    line=\" \".join(i)\n",
    "    return newline"
   ]
  },
  {
   "cell_type": "code",
   "execution_count": 11,
   "metadata": {},
   "outputs": [
    {
     "name": "stderr",
     "output_type": "stream",
     "text": [
      "C:\\Users\\Yatharth\\Anaconda3\\lib\\site-packages\\ipykernel_launcher.py:3: DeprecationWarning: use options instead of chrome_options\n",
      "  This is separate from the ipykernel package so we can avoid doing imports until\n"
     ]
    }
   ],
   "source": [
    "chrome_options = Options()  \n",
    "chrome_options.add_argument(\"--headless\")  \n",
    "driver = webdriver.Chrome(chrome_options=chrome_options, executable_path=r'C:\\Users\\Yatharth\\Desktop\\chromedriver.exe')"
   ]
  },
  {
   "cell_type": "code",
   "execution_count": 12,
   "metadata": {
    "scrolled": true
   },
   "outputs": [
    {
     "name": "stdout",
     "output_type": "stream",
     "text": [
      "Chrome Browser Initialized in Headless Mode\n",
      "Chrome Browser Initialized in Headless Mode\n",
      "Chrome Browser Initialized in Headless Mode\n",
      "Chrome Browser Initialized in Headless Mode\n",
      "Chrome Browser Initialized in Headless Mode\n",
      "Chrome Browser Initialized in Headless Mode\n",
      "Chrome Browser Initialized in Headless Mode\n",
      "Chrome Browser Initialized in Headless Mode\n",
      "Chrome Browser Initialized in Headless Mode\n",
      "Chrome Browser Initialized in Headless Mode\n",
      "Driver Exited\n"
     ]
    }
   ],
   "source": [
    "\n",
    "articles=[]\n",
    "all_sentence_lists=[]\n",
    "\n",
    "for x in results:\n",
    "    #url = \"https://outline.com/8gKLZb\"\n",
    "    url=\"https://outline.com/\"+x[0]\n",
    "    #https://outline.com/fgsAGF\"  \n",
    "    driver.get(url) \n",
    "    print(\"Chrome Browser Initialized in Headless Mode\")\n",
    "    time.sleep(6)\n",
    "    html = driver.page_source\n",
    "    soup = BeautifulSoup(html, 'lxml')\n",
    "    a = soup.findAll('p')\n",
    "    all_sentences=[]\n",
    "    article=\"\"\n",
    "    for i in a:\n",
    "        i=str(i)\n",
    "        i=re.sub(\"<[^>]+>\", \"\", i)\n",
    "        i=re.sub(\"/;\",\"\",i)\n",
    "        i=clean(i)\n",
    "        article+=i\n",
    "        i=i.split(\".\")\n",
    "        i=[x for x in i if x and x not in(\" \",\"\\\"\") and len(x) not in (1,2,3) ]# remove empty ones\n",
    "        for p in range(0,len(i)):\n",
    "            all_sentences.append(i[p])\n",
    "    all_sentence_lists.append(all_sentences)\n",
    "    articles.append(article)\n",
    "\n",
    "\"\"\"url = \"https://outline.com/PC3WUP\"\n",
    "driver.get(url) \n",
    "time.sleep(5)\n",
    "html = driver.page_source\n",
    "soup = BeautifulSoup(html, 'lxml')\n",
    "a = soup.findAll('p')\n",
    "all_sentences=[]\n",
    "article=\"\"\n",
    "for i in a:\n",
    "    i=str(i)\n",
    "    i=re.sub(\"<[^>]+>\", \"\", i)\n",
    "    article+=i\n",
    "    i=i.split(\".\")\n",
    "    i=[x for x in i if x and x not in(\" \",\"\\\"\") and len(x) not in (1,2,3) ]# remove empty ones\n",
    "    for p in range(0,len(i)):\n",
    "        all_sentences.append(i[p])\"\"\"\n",
    "\n",
    "driver.quit()\n",
    "print(\"Driver Exited\")\n",
    "#print(all_sentences)"
   ]
  },
  {
   "cell_type": "code",
   "execution_count": 13,
   "metadata": {
    "scrolled": true
   },
   "outputs": [
    {
     "name": "stdout",
     "output_type": "stream",
     "text": [
      "[['A video shared online has claimed that the coronavirus pandemic is a hoax and part of a conspiracy to control the general public', ' This is false', 'A post sharing the video can be viewed here (here)', 'The opening sequence shows billionaire philanthropist Bill Gates, warning that “we will have to prepare” for the next pandemic', 'The narrator then uses points to argue that the pandemic was planned, and claims it is a hoax that is being used as an excuse to control the general public', 'CLAIM 1 - THE VIRUnited States  THAT CAUnited States ES COVID-19 HASN’T BEEN IDENTIFIED OR ISOLATED ', '“They’ve never isolated it or actually identified this virus as actually existing, so the whole thing is just a big scam”, the narrator claims (here)', 'This is not true', ' Severe acute respiratory syndrome coronavirus 2 (SARS-CoV-2) is the name of the virus that causes the disease COVID-19 (here)', 'According to the World Health Organization (WHO), the virus was identified by Chinese authorities on January 7, 2020 (tinyurl', 'com/y5at3vke)', 'CLAIM 2 - TEST FOR COVID-19 BROADLY TESTS FOR RNA VIRUnited States ES AND GENETIC MATERIAL ', '“Of course, the more people they test, then the more people are going to test positive because they’re just testing for RNA viruses and genetic material”, the narrator alleges (here)', 'It is false that the COVID-19 test broadly detects all RNA viruses rather than SARS-CoV-2 specifically', 'An RNA virus is a virus that has RNA as its genetic material (here)', ' Human diseases caused by RNA viruses include COVID-19 (here), SARS, influenza and Ebola disease (here)', 'The Polymerase Chain Reaction (PCR) test used to detect SARS-CoV-2 works by detecting the presence of its RNA in the swab sample (here)', 'Each virus has its own pattern of RNA material, and the test for coronavirus tests for the RNA material of SARS-CoV-2 specifically', '“All deaths are basically being labelled as COVID deaths now whether they are or not', ' All you have to do is test positive for this genetic material in your body and it’ll say COVID-19” (here)', 'In the UK, data on COVID-19 deaths published by the Office of National Statistics (ONS) includes deaths “involving COVID-19”', 'This includes deaths that have COVID-19 mentioned anywhere on the death certificate, whether it is an underlying cause or not (here)', 'However, the ONS says that: “In the majority of cases (46,736 deaths, 92', '8%) where COVID-19 was mentioned on the death certificate, it was found to be the underlying cause of death”', 'It is wrong to say that all deaths are being recorded as COVID deaths', ' One indication of how many deaths have been caused by the pandemic is the number of ‘excess deaths’ recorded, or additional deaths compared to the number usually expected during a given time period', 'An ONS report shows that England and Wales saw spikes in the number of excess deaths that reflect the number of COVID-19 deaths that were reported at that time (see Figure 2) (here)', 'In June, the ONS reported that there were around 64,500 excess deaths across the UK for the time of year using a five-year average, though the figure is now likely to be higher (here)', 'False', ' The coronavirus pandemic is not a hoax; it is a global outbreak caused by the virus SARS-CoV-2', 'This article was produced by the Reuters Fact Check team', ' Read more about our work to fact-check social media posts here '], ['CLAIM: COVID-19 is “the greatest hoax ever perpetrated” and “just another bad flu', '” Roger Hodkinson, a pathologist who identifies himself as a former chairman of the Royal College of Physicians and Surgeons of Canada, made the comments by phone during a public meeting in Edmonton, the capital of Alberta, Canada', 'AP’S ASSESSMENT: False', ' Not only is COVID-19 deadlier than the flu, but symptoms last longer, according to medical experts', ' Also, Hodkinson has never been chairman of the Royal College of Physicians and Surgeons of Canada, the group said', 'THE FACTS: On November 13, while city councilors in Edmonton met to discuss extending the law that requires people to wear face coverings in public places, people phoned in to oppose the mandate', ' Among them was a caller who introduced himself as Hodkinson', '“There is utterly unfounded public hysteria driven by the media and politicians,” said Hodkinson, identifying himself as the former chairman of the Royal College of Physicians and Surgeons of Canada and the CEO of a biotech company in North Carolina that sells COVID-19 tests', ' He also called COVID-19 “the greatest hoax ever perpetrated on an unsuspecting public…” ', 'Hodkinson went on to say that COVID-19 was just “another bad flu” and that “masks were utterly useless” and that “there is no evidence base for their effectiveness whatsoever', 'His false comments were recorded, posted on YouTube and then spread on social media', '“Top pathologist Doctor Roger Hodkinson told Canadian government officials in Alberta during a phone conference that the coronavirus pandemic is ‘the greatest hoax ever perpetrated on an unsuspecting public,’” stated an Instagram post that shared the false claims', ' The post had more than 26,000 likes', 'But health officials widely agree that the coronavirus is much more dangerous than the flu', '“This [COVID-19] is very different from influenza, much higher mortality, much higher morbidity if you survive it,” said Doctor Luis Ostrosky-Zeichner, a professor of infectious diseases at McGovern Medical School at the University of Texas Health Science Center in Houston', ' “There’s no sort of long-lasting effects of influenza either', ' It’s a completely wrong assertion', 'On November 20, the Royal College of Physicians and Surgeons of Canada clarified that although Hodkinson was certified as a general pathologist in 1976, he was never a chairman', ' “We would like to clarify that Doctor Hodkinson is not nor has ever held the position of chairman of the Royal College of Physicians and Surgeons of Canada,” the organization said in a statement', 'Members of the Alberta Medical Association also refuted Hodkinson’s claims on Twitter on November 23: “The#Alberta Section of Laboratory Physicians endorses the use of masks, hand washing and physical distancing along with all other public health measures to prevent the spread of#COVID19', 'Hodkinson said that he was CEO of a biotechnology company in North Carolina', ' He is listed as the executive chairman of MutantDX, which is based in Greensboro, North Carolina', ' According to the license on North Carolina’s secretary of state’s website, the business is active', ' However, the address listed on the license leads to a condominium complex', 'The Associated Press reached out to Hodkinson at a business in Edmonton where he is listed as the CEO, but no response had been received at the time of publication', 'Hodkinson’s claim that masks are “useless” is false', ' Studies show that masks work to slow the spread of the virus', ' The United States Centers for Disease Control and Prevention has long advised people to wear masks', ' In November, the CDC said that masks can also protect wearers who are not infected', '___ ', 'This is part of The Associated Press’ ongoing effort to fact-check misinformation that is shared widely online, including work with Facebook to identify and reduce the circulation of false stories on the platform', 'Here’s more information on Facebook’s fact-checking program: https://www', 'facebook', 'com/help/1952307158131536 '], ['On the last Friday of February 2020, United States President Donald Trump held a campaign rally in South Carolina and made comments during a speech in which he accused Democrats of “politicizing” the coronavirus outbreak that left many with the impression that he had referred to the virus itself as a “hoax', 'Various news media outlets and personalities reported that he did so, including syndicated columnist Dana Milbank, who tweeted: ', 'Likewise, Politico ran a story headlined “Trump rallies his base to treat coronavirus as a ‘hoax', \"'” And in an article headlined “Trump calls coronavirus Democrats’ ‘new hoax,'” NBC News correspondent Lauren Egan wrote: “President Donald Trump accused Democrats of ‘politicizing’ the deadly coronavirus during a campaign rally here on Friday, claiming that the outbreak is ‘their new hoax’ as he continued to downplay the risk in the United States ” \", 'These prompted inquiries from Snopes readers who asked us to verify the accuracy of the claim', 'Trump held the rally on February 28 on the eve of the South Carolina Democratic primary, which former Vice President Joe Biden ultimately won', ' During his roughly one-hour, 20-minute commentary, Trump hit back at his political opponents in the Democratic Party for their critiques of his administration’s handling of a potential pandemic', 'Here are Trump’s exact words on the topic at the South Carolina rally: ', 'Now the Democrats are politicizing the coronavirus', ' You know that, right? Coronavirus', ' They’re politicizing it', ' We did one of the great jobs', ' You say, ‘How’s President Trump doing?’ They go, ‘Oh, not good, not good', '’ They have no clue', ' They don’t have any clue', ' They can’t even count their votes in Iowa, they can’t even count', ' No they can’t', ' They can’t count their votes', 'One of my people came up to me and said, ‘Mister  President, they tried to beat you on Russia, Russia, Russia', ' That didn’t work out too well', ' They couldn’t do it', ' They tried the impeachment hoax', ' That was on a perfect conversation', ' They tried anything, they tried it over and over, they’ve been doing it since you got in', ' It’s all turning, they lost, it’s all turning', ' Think of it', ' Think of it', ' And this is their new hoax', ' But you know, we did something that’s been pretty amazing', ' We’re 15 people [cases of coronavirus infection] in this massive country', ' And because of the fact that we went early, we went early, we could have had a lot more than that', 'In context, Trump did not say in the passage above that the virus itself was a hoax', ' He instead said that Democrats’ criticism of his administration’s response to it was a hoax', ' He muddied the waters a few minutes later, however, by comparing the number of coronavirus fatalities in the United States (none, at that point in time) to the number of fatalities during an average flu season, and accusing the press of being in “hysteria mode”: ', 'So a number that nobody heard of that I heard of recently and I was shocked to hear it, 35,000 people on average die each year from the flu', ' Did anyone know that? 35,000', ' That’s a lot of people', ' It could go to 100,000, it could be 27,000, they say usually a minimum of 27, it goes up to 100,000 people a year who die, and so far we have lost nobody to coronavirus in the United States', ' Nobody', ' And it doesn’t mean we won’t, and we are totally prepared, it doesn’t mean we won’t', ' But think of it', ' You hear 35 and 40,000 people, and we’ve lost nobody, and you wonder, the press is in hysteria mode', 'For his part, Trump later defended his comments by stating he was indeed calling out the Democrats’ efforts to blame him and his administration for what they have characterized as an inadequate response “because we’ve done such a good job', 'Trump did however downplay the scale of the virus and the danger it posed to the public', ' At the time he made his remarks, the United States had 57 confirmed coronavirus cases, 40 of which came from the Diamond Princess cruise ship, which experienced an outbreak of the virus', ' And health officials were warning that the spread of the virus domestically was “inevitable', 'The novel coronavirus infection has been a fast-moving crisis', ' Just hours after Trump’s rally in South Carolina, the United States had its first coronavirus death', ' As of this writing (at the beginning of March 2020), six people in the United States have died from the COVID-19, the disease caused by coronavirus', ' Globally, more than 80,000 cases have been identified and 3,000 people have died, while experts have warned the outbreak of the virus could become a pandemic', 'Although Trump made a reference to seasonal flu death rates, COVID-19, which was first detected in the winter of 2019 in Wuhan, China, appears so far to be more lethal', ' And because the virus is new, no vaccine or treatment exists for it'], [], ['The race to develop a cure for Covid-19 is in full swing with more than 150 coronavirus vaccine candidates being developed worldwide, 26 of them in the human trial phase', 'On social media, a message has gone viral warning people not to use the Covid-19 vaccine as a microchip will be implanted in the body along with the vaccine', ' In a video accompanying the post, a man claiming to be a project engineer says he was part of the team that developed the microchip', 'The nearly 8-minute-long video clip has been posted by several Facebook users with the caption, \"A project engineer who made the microchip that will soon be implemented along with the covid vaccine WARNS United States NOT TO TAKE IT', ' Please listen carefully to his story and his message in this video', ' After watching, please share also to save lives', ' God bless!\" ', 'Referring to the Bible, the speaker claims over a million dollars of taxpayers\\' money was spent on the chip but no one should take it as it is a \"mark of the beast\"', 'India Today Anti Fake News War Room (AFWA) has found the video to be almost 12 years old', ' The speech was being given by an American pastor named Carl Sanders', ' It is true that he was speaking about microchips but there was no reference to Covid-19', 'The archived versions of the posts can be seen here and here', 'OLD AND UNRELATED VIDEO ', 'A closer look at the video gives us more reasons to be suspicious about the viral claim', ' The video has been altered as there are several jump cuts', ' At 7 minutes and 17 seconds, the audience behind the speaker and interpreter disappeared, and so did the flower on the pulpit in front of the speaker', 'The speaker, at no point in the video, says the microchip will be implanted along with the Covid-19 vaccine', ' In fact, he does not mention Covid-19 or coronavirus in his entire speech', 'With the help of InVID and reverse image search, we found that the video is at least 12 years old', ' The original video is much longer than the viral one and was uploaded in several parts on YouTube', 'The entire speech by American pastor Carl Sanders was uploaded by multiple YouTubers in several parts', 'One such YouTube video, posted in 2008, is titled \"Carl Sanders - Mark of The Beast (666) [Part 3 / 28]\"', ' In this original video, we found his speech on the microchip was being interpreted simultaneously by another man', ' But these interpretations were edited out in the viral video', \"Using relevant keywords, we found articles published as early as 2002 on Carl Sanders's theory of the impending danger of microchip implantation in humans\", 'As per these articles, Doctor Carl W', ' Sanders was an electronics engineer and an inventor, who had worked for many government organisations and private firms such as IBM and General Electric', ' For 32 years, he had worked in the field of bio-medicine, focusing on microchips', 'But the viral video is in no way connected to the Covid-19 pandemic', ' Earlier, global news agency Reuters had debunked a conspiracy theory that claimed microchips would be implanted with Covid-19 vaccines'], ['Some hoaxes and rumours that have circulated related to the COVID-19 pandemic: ', '- Fit people are not immune to COVID-19 ', '- No evidence flu vaccines make children more vulnerable to coronavirus infections ', '- Canadian children are not separated from parents if they have to quarantine due to COVID-19 ', \"- Misleading claims about COVID-19 vaccine spread by 'Plandemic' video\", \" // New 'Plandemic' film promotes coronavirus conspiracy theory\", \" // 'Plandemic' video peddles falsehoods about COVID-19\", \"- Bill Gates does not seek 'digital tatoos' for people tested for COVID-19 // nor did he say a vaccine could kill nearly one million people \", '- A flu shot will not make you test positive for COVID-19 // flu shots do not make people more vulnerable to infections // beware of misinformation on flu shot ingredients ', '- 5G technology did not create the novel coronavirus and viral outbreaks in the last 100 years are not aligned with the introduction of new telecommunications technologies and there is no evidence 5G radiation is harmful to human health and 5G mobile phones will not work off microchips secretly implanted under the skin by vaccination for COVID-19 ', '- Senegalese children did not die from a coronavirus vaccine (which does not yet exist as of April 10, 2020) // neither did children in Guinea ', '- The CDC in the United States did not cut Covid-19 death toll by 94 percent', ' More here', '- The World Health Organization has not been kicked out of Tanzania', ' More here', '- Misleading claims about COVID-19 vaccine spread by ‘Plandemic’ video', ' More here', '- Fake WHO document shared in anti-mask posts', ' More here', '- Misleading claim circulates on Facebook about dangers of face masks alongside photos of skin conditions', ' More here', '- New ‘Plandemic’ film promotes coronavirus conspiracy theory', ' More here', \"- Misleading claim circulates online about Philippine Health Department's guidelines for face shields\", ' More here', \"- False claim circulates on Facebook that Australians 'will be fined if they discuss COVID-19 conspiracies'\", ' More here', \"- Misleading claim circulates online that Singapore has 'banned' sale of United States produce due to coronavirus\", ' More here', '- Face mask use does not lead to Legionnaires’ disease', ' More here', '- United States far from reaching herd immunity for COVID-19', ' More here', '- False claim circulates online that Australian government paid nursing homes to register deaths as caused by COVID-19', ' More here', '- Canadian children with COVID-19 symptoms can quarantine with a parent or guardian', ' More here', '- Hoax circulates online that vaccines have caused deaths in the Philippines', ' More here', '- Comments on coronavirus measures falsely attributed to Fox News host Tucker Carlson', ' More here', '- False claim circulates online in the Philippines that Canada is ‘free’ of the novel coronavirus', ' More here', '- Discredited scientific paper behind false claims on COVID-5G link', ' More here', '- No evidence flu vaccines make children more vulnerable to coronavirus infections', ' More here', \"- United States health expert Doctor Anthony Fauci did not 'know' about effective coronavirus treatments in 2005\", ' More here', \"- False claim circulates on Facebook that 'viruses do not harm or kill' people\", ' More here', '- Tips on safe sex during COVID-19 pandemic misrepresented in Canadian Facebook post', ' More here', '- The United States is not testing a COVID-19 vaccine on Ukrainian soldiers', ' More here', '- Members of United States Congress did not receive quarantine exemption for John Lewis’s funeral', ' More here', '- Misleading claim circulates online comparing severity of COVID-19 with swine flu', ' More here', '- Fit people are not immune to COVID-19', ' More here', '- Social media posts misquote face mask advice from international health authorities and academics', ' More here', '- Wearing a face mask does not put you at risk of developing pleurisy, health experts say', ' More here', '- New Zealand has not authorised troops to enter homes to enforce COVID-19 quarantine', ' More here', '- Hoax posts offer hazard pay to United States pandemic workers', ' More here', '- Corpses infected with COVID-19 do not ge more infectious over time', ' More here', '- Holy communion has not been banned in Toronto', ' More here', '- Misleading claim circulates that the Philippines has cancelled school classes until 2021 due to COVId-19', ' More here', '- False claim circulates online that China is no longer hospitalising COVID-19 patients', ' More here', '- Nokia latest hit by Facebook scam claiming phone giveaway for students during the pandemic', ' More here', \"- Fake police bulletin about 'face mask scam' circulates worldwide\", ' More here', '- Mask misinformation spreads in the United States as cases spike', ' More here', '- Misleading claim circulates about the accuracy of COVID-19 tests in Australia', ' More here', '- List of unsubstantiated COVID-19 treatments circulates online', ' More here', '- Disgraced United States researcher Judy Mikovits makes latest false claims about vaccine safety', ' More here', \"- These 'virus removal cards' do not prevent COVID-19\", ' More here', \"- Bill Gates does not plan to 'microchip the vaccine' to create 'virtual IDs\", \"' More here\", '- Phones are not being given out for pandemic education in Nigeria', ' More here', '- CDC did not add flu and pneumonia deaths to COVID-19 toll', ' More here', '- Map used to make misleading comparison of COVID-19 spread in United States , Canada', ' More here', \"- Hoax circulates about 'Latin translation' of COVID-19\", ' More here', '- Rwanda leader Paul Kagame did not oppose WHO over virus tonic', ' More here', '- Israel has not reported zero deaths from COVID-19', ' More here', '- Fresh false claims about COVID-19 vaccine and 5G technology spread online in the Philippines', ' More here', \"- Hoax circulates that India's capital region will be placed under new four-week lockdown\", ' More here', '- Meme misleads on long-term effects of wearing a mask', ' More here', '- South Sudan leaders have not flown abroad for COVID-19 treatment', ' More here', '- Android users in Australia have not been automatically signed up to COVIDSafe app', ' More here', '- As United States faces COVID-19 spike, outdated mask information spreads online', ' More here', '- Misinformation about reimposing strict COVID-19 lockdown in Metro Manila circulates online', ' More here', '- Nigerian government has not announced that schools will reopen on July 13', ' More here', \"- Conspiracy theories circulate about 5G 'microchip implants\", \"' More here\", '- Myth circulates that Italy has discovered that COVID-19 is a bacteria, curable by paracetamol', ' More here', '- Misleading social media posts claim adverse health effects of face masks', ' More here', \"- Taiwanese doctors have not discovered that COVID-19 is a 'combination of SARS and AIDS\", \"' More here\", '- Vaccines do not violate the Nurembert Code', ' More here', \"- Coronavirus 'survival rates' remain unknown, experts say\", ' More here', \"- Misinformation circulates about Japan's plan to subsidize tourism after coronavirus lockdown is lifted\", ' More here', '- United States President Donald Trump did not offer Madagascar $2', '5 million to develop its COVID-19 herbal remedy', ' More here', '- Italian politician spreads false claims about Bill Gates in parliament speeches', ' More here', '- Misleading claim circulates about coronavirus contact tracing app in New Zealand', ' More here', '- China and Japan have not re-entered national lockdowns because of COVID-19 (as of May 25)', ' More here', '- UN has not conditioned humanitarian aid to Ecuador on the country legalizing abortions', ' More here', \"- Hoax list of COVID-19 'safety guidelines' circulates in India\", ' More here', '- Hoax government notice circulates in the Philippines about the civil service exam during the COVID-19 pandemic', ' More here', \"- Hoax circulates about new COVID-19 'law' in Western Australia\", ' More here', '- Post falsely claims there were no United States flu deaths during the COVID-19 crisis', ' More here', '- Gates Foundation targeted with misleading claims about India polio vaccine campaign', ' More here', '- Misinformation circulates about babies contracting Kawasaki disease during the COVID-19 pandemic', ' More here', '- Hoax circulates that Australian $10 notes feature images of coronavirus and Bill Gates', ' More here', '- Nigeria did not impose a curfew to set up 5G masts; the curfew was aimed at slowing the spread of the novel coronavirus and 5G networks have not yet been set up in the country (as of May 21)', ' More here', '- Wearing a mask is not mandatory in Canada during the COVID-19 pandemic', ' More here', '- Misleading list showing viral outbreaks which purportedly originated in China from 1950 to 2019', ' More here', \"- Fake 'roadmap' for India to relax coronavirus lockdown circulates online\", ' More here', '- Misleading article warns against face masks during the COVID-19 pandemic', ' More here', '- United States Vice President Mike Pence did not deliver empty boxes to a hospital during the COVID-19 pandemic', ' More here', '- Bill Gates did not say that a COVID-19 vaccine could kill nearly a million people', ' More here', '- Misleading posts circulate about the effectiveness of face masks in the United States ', ' More here', '- Misleading claim that Thailand tops global index for COVID-19 response and has the lowest number of coronavirus cases', ' More here', '- African mistrust of Western vaccines threatens coronavirus fight', ' More here', '- Chilren in Guinea did not die from a COVID-19 vaccine (a vaccine does not exist for the disease as of May 18, 2020)', ' More here', \"- Bill Gates is not seeking 'digital tattoos' for people who have tested for COVID-19\", ' More here', \"- Ghana leader falsely claims his country fronts Africa's COVID-19 testing\", ' More here', \"- 'Plandemic' video peddles falsehoods about COVID-19\", ' More here', '- United States authorities have not cut the reported COVID-19 death toll', ' More here', '- Flu vaccines do not make people more vulnerable to infections', ' More here', \"- Vegetarians are immune to COVID-19? It's a hoax\", ' More here', '- Flu shot will not make you test positive for COVID-19', ' More here', '- Misinformation on United States flu shot ingredients resurfaces during COVID-19 pandemic', ' More here', \"- Hoax message circulates about Australia's coronavirus contact-tracing app\", ' More here', \"- Nobel laureate Tasuku Honjo refutes 'false' quote attributed to him about the novel coronavirus\", ' More here', '- A New York funeral home employee was not accidentally cremated during the COVID-19 pandemic', ' More here', '- Posts misrepresent eligibility for United States COVID-19 stimulus payments', ' More here', \"- Britain's first coronavirus vaccine volunteer has not died after the trial jab\", ' More here', '- Pakistani plane did not transport Sri Lankan students home after COVID-19 lockdown', ' More here', '- Fake hiring phone numbers shared online in United States as umeployment surges during the COVID-19 pandemic', ' More here', '- COVID-19 symptoms do not progress in three distinct stages in all patients', ' More here', '- Misleading claim circulates online about Wuhan death toll after lockdown eased', ' More here', '- Coronavirus pandemic triggers wave of Islamic-themed myths on social media', ' More here', '- There is no evidence that 5G radiation is harmful to human health', ' More here', '- Children in Canada with COVID-19 are not admitted in hospitals alone; there is an exception for a parent or guardian for pediatric patients', ' More here', '- False advice on refusing vaccines circulates in United States , Canada and Australia during the COVID-19 pandemic', ' More here', '- A 5G deal between the UK and the Chinese tech company Huawei has not been cancelled', ' More here', '- Misleading coronavirus information falsely attributed to Johns Hopkins, a leading source of information on COVID-19', ' More here', '- United States President Donald Trump, much criticized over his response to the COVID-19 pandemic, did not post this tweet about H1N1 crisis in 2009', ' More here', '- Children with COVID-19 in the United States do not have to be hospitalized alone', ' More here', '- Hoax circulates that viral outbreaks are linked to new telecommunication technologies and that COVID-19 is linkd to the rollout of 5G', ' More here', '- China did not send COVID-19 vaccines to Burundi (a vaccine for the disease does not exist as of April 21)', ' More here', \"- The World Bank did not praise Tanzania's anti-coronavirus policies\", ' More here', '- This pharmacist in India did not die of COVID-19-related violence', ' More here', '- Singapore did not fine people for not wearing face masks before April 14, when the masks were made mandatory in the city state', ' More here', '- The World Health Organization (WHO) does not recommend drinking alcohol to help prevent COVID-19, despite what a Kenya governor says', ' More here', '- Pet owners should not avoid touching their animals after using hand sanitiser', ' More here', '- Disposable surgical masks are not reversible', ' More here', '- Myth spreads online that Australian supermarkets have banned Chinese nationals during the COVID-19 pandemic', ' More here', '- Doctor Anthony Fauci, the head of the United States National Institute of Allergy and Infectious Diseases, is not alone in saying the drug hydroxychloroquine is unproven as treatment against COVIE-19', ' More here', \"- Fake phone 'helplines' to track United States stimulus payments greet callers with offers of phone sex\", ' More here', '- Graphic doctored that quoted Philippine President Rodrigo Duterte saying that COVID-19 support payments have been competed', ' More here', \"- Nigeria's ex-vice president did not promise to pay citizens to stay home during the COVID-19 outbreak\", ' More here', '- United States Democrats did vote for legislation to combat the novel coronavirus crisis', ' More here', \"- South Sudan's chief justice and his family have tested negative for COVID-19 (as of April 15)\", ' More here', '- India has not outlawed social media posts about COVID-19', ' More here', '- Misinformation in Thailand about police powers to fine people who fail to wear face masks in public', ' More here', '- An old Indian textbook does not list treatments for COVID-19', ' More here', \"- A newspaper did not claim that an Indian Muslim leader donated to Indian PM's COVID-19 relief fund; the image of the front page has been doctored\", ' More here', '- A recovered COVID-19 patient did not violate a home quarantine order in Sri Lanka', ' More here', \"- Misinformation circulates about Malaysia's coronavirus relief package for its citizens\", ' More here', \"- False 'facts' on United States Postal Service finances resurface amid disputre over funding to help it through the COVID-19 pandemic\", ' More here', '- Senegalese children did not die from a novel coronavirus vaccine (which as of April 10, 2020, does not yet exist)', ' More here', \"- The World Health Organization (WHO) did not issue this 'protocol' for COVID-19 lockdown\", ' More here', \"- Beijing and Shanghai have not been 'untouched' by COVID-19\", ' More here', '- Nigeria did not spend 1 billion naira on a COVID-19 text message awareness campaign', ' More here', \"- South Africa's leader did not ask foreigners to leave the country due to COVID-19\", ' More here', '- A Philippine hospital did not find a correlation between grocery shopping and COVID-19 among its patients', ' More here', '- This non-profit hospital in Pakistan said it did not charged patients for COVID-19 tests', ' More here', \"- Britain's Queen Elizabeth did not mention the Philippines in her speech on the novel coronavirus\", ' More here', '- An UAE sultan in Sharjah did not ban the burial of COVID-19 victims', ' More here', '- A French doctor did not urge Africans to avoid taking \"Bill Gates vaccine\" against the novel coronavirus', ' More here', '- This Sri Lankan spice manufacturer has used this logo since 2007; it is not a logo of a political party that was printed in COVID-19 ration kits', ' More here', '- Nigerian health authority denounces fake social media accounts that have sprung up during the coronavirus pandemic', ' More here', \"- These Muslims at a mosque in Sri Lanka did not react violently when authorities told them their gathering was in violation of the country's coronavirus curfew\", ' More here', '- United States billionaire philanthropist Bill Gates did not issue this \"open letter\" about the novel coronavirus pandemic', ' More here', '- No evidence that COVID-19 is transmitted through fruits and vegetables', ' More here', '- Funerals for COVID-19 victims are not banned in Pakistan (as of April 8)', ' More here', '- Misleading claims that purport to compare lockdown measures and status of the pandemic in Asian countries including South Korea, Japan and the Philippines', ' More here', '- The CEOs of these companies did not resign during the novel coronavirus crisis', ' More here', '- This South African hospital did not find COVID-19 on fresh produce', ' More here', '- This is not a 19th century poem about self-isolation, it was written specifically about the COVID-19 pandemic', ' More here', '- The Nigerian leader has not tested positive for the coronavirus (as of April 6), this CNN broadcast has been doctored', ' More here', '- The Indian government has not banned coronavirus-related posts on social media', ' More here', '- 5G wireless technology did not create the novel coronavirus -- it is based on radio frequency, which does not create viruses', ' More here', '- The global environmental movement Extinction Rebellion did not issue a poster saying that \"Corona is the cure, humans are the disease', '\" More here', '- A new vaccine and a new drug have not been developed to treat the novel coronavirus, as claimed by multiple posts in Asia (as of April 3)', ' More here', '- Singapore is not spot fining people violating social distancing orders', ' More here', '- Ventilators are not \"stuck\" in a New York warehouse, NY authorities are stockpiling supplies and those in the photo were sent to hospitals within 24 hours of arriving at the facility', ' More here', '- Ethiopia has not approved traditional medicine to treat COVID-19', ' More here', '- The United States has not arrested a Chinese scientist who \"created\" the novel coronavirus', ' More here', '- The World Health Organization (WHO) did not warn against eating cabbage during the novel coronavirus pandemic', ' More here', '- An ice rink outside of the city of Adelaide in Australia has not been turned into a morgue (as of April 2)', ' More here', '- People with pre-existing respiratory conditions will not receive a \"rescue pack\" of medicatin from their doctors in Australia unless previously prescribed', ' More here', '- Calling this numer will not get you food aid in the United States during the novel coronavirus pandemic, as unemployment soars', ' More here', '- Facilities at a Sri Lankan military hospital will be open to all COVID-19 patients, not just \"VIPs', '\" More here', '- United States President Donald Trump and presidential candidate Joe Biden did not declare \"people are dying that have never died before', '\" The phrase can be traced to famed United States authori Ernest Hemingway', ' More here', '- Thai police cannot fine people for not wearing face masks', ' More here', '- There is no United States patent on the novel coronavirus and no European one for a vaccine (as of April 1)', ' More here', \"- There is no 'new virus' named hantavirus that has emerged in China\", ' More here', '- Singapore General Hospital will temporarily use its car park to test suspected COVID-19 patients, not as a ward', ' More here', '- China sent medical supplies, not doctors, to Malaysia to help combat the COVID-19 pandemic More here', '- Claims that 59 church members in South Africa died after drinking household disinfectant to prevent novel coronavirus infections are a hoax -- they are based on an old story', ' More here', '- An Australian supermarket worker has not tested positive for the novel coronavirus in New South Wales suburb (as of April 1, 2020)', ' More here', \"- Britain's Queen Elizabeth has not tested positive for the novel coronavirus (as of March 31, 2020) More here\", \"- Thailand's emergency decree to combat COVID-19 did not include a curfew (as of March 31, 2020)\", ' More here', \"- The World Health Organization (WHO) has not increased Thailand's 'pandemic level' for COVID-19 (as of March 30, 2020)\", ' More here', \"- Singapore's Ministry of Health did not issue these COVID-19 'guidelines\", \"' More here\", '- Australian authorities did not issue a warning that using petrol pumps can spread the novel coronavirus', ' More here', '- Iconic coffee chain Tim Hortons will not close all Canada franchises because of the novel coronavirus', ' Drive-throughs remain open (as os March 30, 2020)', ' More here', \"- Claims circulated on United States social media outlining Canada's purported response to the coronavirus outbreak are misleading\", ' More here', '- South Africa has not announced a date that schools will re-open (as of March 29, 2020)', ' More here', '- Nigeria is not paying citizens to stay at home during the novel coronavirus crisis', ' More here', '- Sri Lanka and the Philippines are not spraying disinfectant over homes from helicopters to kill off the coronavirus', ' More here', \"- Philippines' president did not approve a payment to all recipients of the country's social security system to help them through the novel coronavirus crisis\", ' More here', '- A UK hospital did not issue this notice to its medical staff on how to prevent infection by the novel coronavirus and the notice contains several false claims that AFP FactCheck has already debunked', ' More here', '- A bank in the Pakistani city of Rawalpindi did not close and no employee has tested positive for COVID-19', ' More here', '- Fruit and vetable markets in the Indian city of Chennai and across the state of Tamil Nadu have not been ordered to close to curb the spread of the novel coronavirus', ' More here', '- Ugandan and Kenyan authorities have not instructed landlords to stop collecting rent due to the novel coronavirus crisis', ' More here', '- COVID-19 is not projected to kill up to 45 million people in Nigeria, as claimed in a WhatsApp message', ' More here', '- Australian authorities did not issue a notice saying people could receive free home visits from doctors during the novel coronavirus pandemic', ' More here', '- This infographic does not show the nine-day timeline of the symptoms of the novel coronavirus, the information here is misleading', ' More here', '- A factory in the Australian city of Melbourne has not been hoarding essential supplies including baby formula, toilet paper and hand sanitizer for export to China', ' More here', '- India has not issued an advisory that a disinfectant will be sprayed into the air overnight in an effort to kill the novel coronavirus', ' More here', '- Philippine Vice President Leni Robredo has not said that bats are the \"enemy\" in the novel coronavirus pandemic', ' More here', '- Israel has not developed a vaccine for the novel coronavirus (as of March 20)', ' More here', '- UNHCR did not issue a notice claiming that \"migrants and illegals\" in Malaysia were resisting testing for the novel coronavirus', ' More here', \"- 15 coronavirus cases were not linked to Burnaby's Metrotown mall in Canada's British Columbia (as of March 20)\", ' More here', '- Consumers cannot claim a free case of baby formula if they call the relevant manufacturer', ' More here', '- The Indian government is not distributing free face masks during the COVID-19 pandemic', ' More here', '- COVID-19 did not exist before 2019', ' More here', '- Australia was not planning to announce a nationwide \"shut down\" from March 18', ' More here', \"- The Philippine Department of Health did not issue an advisory that people who have had contact with those infected with the novel coronavirus would be turned away from doctors' clinics\", ' More here', '- Major disease outbreaks are not tied to United States election years', ' More here', \"- Uganda's president did not postpone elections because of coronavirus\", ' More here', '- Israel has not developed a \"cure\" for COVIC-19', ' More here', '- Football superstar Cristiano Ronaldo is not planning to turn his hotels in Portugal into hospitals for novel coronavirus patients', ' More here', '- COVID-19 is not part of a pattern in which viral outbreaks occur every 100 years', ' More here', '- 811 is not an official public health hotline in Ontario and the provincial ministry of health is not organizing home visits', ' More here', '- Costco has not issued a recall for bath tissue because it was infected with the novel coronavirus', ' More here', '- An employer did not cover up a part of a poster on novel coronavirus prevention that advised sick employees to stay home', ' More here', '- A Philippine government advisory did not list shopping malls and hotels that the Department of Health advised against visiting', ' More here', \"- That's not a magnified photo of the novel coronavirus you are looking at\", \" It's a weevil\", ' More here', '- Donating blood in the United States does not get you a novel coronavirus test', ' More here', '- Philippine authorities did not confiscate fake cigarettes that were spreading the novel coronavirus', ' More here', '- A European brothel has not been put under quarantine', ' More here', '- Indonesia has not issued its citizens free air tickets to return home after coronavirus outbreak', ' More here', '- UNICEF has not released coronavirus prevention guidelines', ' More here', '- The Vatican did not disclose that Pope Francis had been infected with the novel coronavirus; the pontiff was suffering from a cold', ' More here', '- Israeli scientists had not developed a COVID-19 vaccine by early March', ' More here', '- All international arrivals were not cancelled at an airport in Karachi in February 2020 over the novel coronavirus', ' More here', '- The novel coronavirus differs from and is more deadly than the human coronaviruses that can cause a cold, contrary to a claim made by conservative United States radio host Rush Limbaugh', ' More here', '- A taxi driver in Nigeria did not threaten to spread the novel coronavirus all over the country', ' More here', \"- Russia's Ministry of Health did not say in a document that the novel coronavirus was man-made\", ' More here', '- China-made Holi festival goods are not infected with the novel coronavirus', ' More here', '- This map does not show elevated sulphur dioxide levels in Wuhan, China that could be evidence of mass cremation in and around the city', ' More here', \"- A doctor's office in new South Wales in Australia was not visited by people exposed to the novel coronavirus by February 20, 2020\", ' More here', '- Israel has not sent a vaccine to \"cure\" novel coronavirus patients in Wuhan, as of mid-March 2020, no vaccine for the virus had been developed', ' More here', '- The Philippines did not issue a warning after a Chinese national from the city of Wuhan escaped quarantine at an airport; the story was a hoax', ' More here', '- The Philippine government did not give out free face masks following the novel coronavirus outbreak', ' More here', '- This map does not show the movement of residents from Wuhan, China, the origin of the novel coronavirus outbreak; it shows flight paths worldwide', ' More here', '- An Australian couple who were quarantined on a cruise ship off the coast of Japan did not have wine delivered to them by a drone', ' More here', '- Treatment by Thai doctors was not a \"cure\" for COVID-19', ' More here', '- A doctor in the Purnea district of the east Indian state of Bihar did not identify a novel coronavirus patient in early February', ' More here', '- The World Health Organization did not choose COVID-19 as the name for the disease that the novel coronavirus causes because it stands for \"China Outbreak Virus in December 19;\" the name is an abbreviation of \"coronavirus disease 2019', '\" More here', '- Black people are not more resistant to the novel coronavirus', ' More here', '- China did not seek approval from its Supreme Court to euthanize 20,000 patients in an effort to curb the growing novel coronavirus epidemic', ' More here', '- Lysol product labels are not evidence of a novel coronavirus conspiracy', ' More here', '- The cleaner Detool did not test its products on the novel coronavirus before the global outbreak', ' More here', \"- Chinese 'spies' did not steal the novel coronavirus from Canada\", ' More here', '- The novel coronavirus is not a type of rabies', ' More here', '- Doctors have not projected that 11 million people quarantined in Wuhan, China will die from the novel coronavirus', ' More here', '- The novel coronavirus was not created by a United States government agency', ' More here'], [\"We're sorry, but this URL is not supported by Outline \"], ['Posts claiming steam inhalation will ‘kill’ the novel coronavirus has gone viral on social media', 'However, there is no study to back the claim that steam inhalation can be used as a cure for the coronavirus infection', ' The Philippines office of the World Health Organisation (WHO) also warned against the use of steam as a cure for COVID-19 adding that the practice might lead to burn injuries', 'CLAIM ', 'One of the posts viral with this claim reads: ', '“*Important Message for all* ', 'The hot water you drink is good for your throat', ' But this coronavirus is hidden behind the paranasal sinus of your nose for 3 to 4 days', ' The hot water we drink does not reach there', ' After 4 to 5 days this virus that was hidden behind the paranasal sinus reaches your lungs', ' Then you have trouble breathing', \"That's why it is very important to take steam, which reaches the back of your paranasal sinus\", ' You have to kill this virus in the nose with steam', 'WHAT WE FOUND OUT ', 'We looked for studies that talked about steam inhalation for COVID-19 and found no paper backing the practice', 'The Quint reached out to Dr Vikas Maurya, the director and head of the Department of Pulmonology at Fortis Hospital, Delhi', ' Dr Maurya said, “Taking steam can help in cleaning the respiratory passage during any type of viral infection in the nose, sinus and throat”', 'We found a tweet posted by the WHO’s Philippines office that said that steam inhalation is not a cure for COVID-19', \"Indian Scientists' Response to COVID-19 (ISRC), a voluntary organisation also debunked the myth and said, “There's no evidence to show nasal rinses or steam inhalation can prevent COVID-19 infection\", ' Although they can potentially provide relief from some of the symptoms, these methods do not kill viruses and hence should not be used as a cure', 'While steam inhalation in ineffective against COVID-19, it carries the additional risk of getting burn injuries', 'The American Burn Association has said that “3 seconds of exposure to 140°F/60°C water can cause a burn serious enough to require surgery', '” Burn injuries increase one’s chances of getting infections', 'The COVID-19 pandemic is still an evolving situation and scientists are looking for ways to prevent the spread of the virus', ' However, until now, steam inhalation has not been found to be one of the ways that can be used to prevent or cure COVID-19', '(Not convinced of a post or information you came across online and want it verified? Send us the details on WhatsApp at 9643651818, or e-mail it to us at webqoof@thequint', 'com and we will fact-check it for you', ' You can also read all our fact-checked stories here'], ['Democratic presidential candidates harshly criticized President Donald Trump for using the term “hoax” in connection with the coronavirus outbreak', ' There’s no question that the president described the disease as the Democrats’ “new hoax” at a political rally on February 28 in South Carolina', 'But the following day, after the death of the first American from coronavirus in Washington state, Trump said that when he used the word “hoax,” he was referring to Democrats finding fault with his administration’s response to coronavirus, not the virus itself', 'Even after Trump explained his remarks, some Democrats — including former New York City Mayor Mike Bloomberg — continued to wrongly accuse Trump of describing the coronavirus as a “hoax', 'The kerfuffle began at the rally in North Charleston, South Carolina when Trump accused the Democrats of “politicizing” the coronavirus outbreak', '“Now the Democrats are politicizing the coronavirus, you know that, right?” he said', ' “Coronavirus, they’re politicizing it', ' We did one of the great jobs', ' You say, ‘How’s President Trump doing?’ They go, ‘Oh, not good, not good', '’ They have no clue', ' They don’t have any clue', ' They can’t even count their votes in Iowa', 'Then the president, who often dismissed special counsel Robert Mueller’s Russia investigation as a hoax, continued, “They tried the impeachment hoax', ' That was on a perfect conversation', ' They tried anything', ' They tried it over and over', ' They’d been doing it since you got in', ' It’s all turning', ' They lost', ' It’s all turning', ' Think of it', ' Think of it', ' And this is their new hoax', 'Trump went on to praise his administration for taking “the most aggressive action in modern history to prevent the spread of this illness in the United States,” referring to travel restrictions on foreign nationals who recently visited China', '“A virus starts in China, bleeds its way into various countries all around the world, doesn’t spread widely at all in the United States because of the early actions that myself and my administration took against a lot of other wishes,” Trump said, “and the Democrats’ single talking point, and you see it, is that it’s Donald Trump’s fault, right?” ', 'Democratic presidential candidates were quick to pounce on Trump’s “hoax” remark', ' Former Vice President Joe Biden described the president’s comments as “absolutely bizarre” ', '“Look, this is a serious, serious problem,” Biden told MSNBC on February 29', ' “It’s able to be solved, but it requires us to be absolutely level-headed and let the scientists have the lead in all of this,” Biden said', ' “But for him to start talking about it being a hoax is absolutely dangerous', ' It’s just not a decent way to act', 'Biden told reporters in Greenville, South Carolina, on February 29 “The president of the United States says it’s a hoax? It’s hard to believe', ' Even for him it’s hard to believe', 'Former South Bend, Indiana, Mayor Pete Buttigieg, at the time still a candidate for the Democratic presidential nomination, also said he was troubled by Trump’s use of the term “hoax', '“It’s critically important that the administration and the White House handle this in a way that’s based on science and not based on politics,” Buttigieg said on NBC’s “Today” show on February 29', ' “I was particularly disturbed to hear the word ‘hoax’ used by the president recently in talking about this issue', 'Buttigieg ended his run for the White House on March 1', 'In the wake of the criticism, Trump said at a press conference on February 29 that he used the term “hoax” to refer not to coronavirus itself but to Democrats’ criticism of how his administration had responded to it', 'Asked if he regretted using that particular word, he replied “No', ' Hoax referring to the action that they take to try and pin this on somebody because we’ve done such a good job', ' The hoax is on them not… I’m not talking about what’s happening here', ' I’m talking what they’re doing', ' That’s the hoax', ' That’s just a continuation of the hoax, whether it’s the impeachment hoax or the Russia, Russia, Russia hoax', ' This is what I’m talking about', ' Certainly not referring to this', ' How could anybody refer to this? This is very serious stuff…” ', 'But that hardly put an end to criticism from Democrats', 'In an interview on CBS’ “60 Minutes” on March 1, Bloomberg said, “I find it incomprehensible that the president would do something as inane as calling it a hoax, which he did [Friday] night in South Carolina', 'Correspondent Scott Pelley responded, “He said that the Democrats making so much of it is a Democratic hoax, not that the virus was a hoax', 'And Bloomberg shot back, “This is up to the scientists and the doctors as to whether there is a problem', ' They all around the world would say that it is in some places and has enormous potential to become one elsewhere', ' And it is just ignorant and irresponsible to not stand up and be the leader and say, ‘We don’t know, but we have to prepare for the fact that, if it is, we have the medicines and the structure and the knowledge to deal with it', 'A day later, former Virginia Gov', ' Terry McAuliffe, a Democrat, similarly criticized Trump at a Biden rally on March 1 in Norfolk, Virginia', '“We got a guy in the White House who doesn’t know anything about patriotism, doesn’t know anything about empathy,” McAuliffe said', ' “He said the coronavirus was a hoax', 'But that’s not what Trump said he meant'], []]\n"
     ]
    }
   ],
   "source": [
    "print(all_sentence_lists)"
   ]
  },
  {
   "cell_type": "code",
   "execution_count": 14,
   "metadata": {},
   "outputs": [
    {
     "data": {
      "text/plain": [
       "'url = \"https://outline.com/https://www.usatoday.com/story/news/factcheck/2020/07/21/fact-check-hydroxychloroquine-hasnt-helped-covid-19-studies-show/5407547002/\"\\ndriver.get(url) \\ntime.sleep(5)\\nhtml = driver.page_source\\nsoup = BeautifulSoup(html, \\'lxml\\')'"
      ]
     },
     "execution_count": 14,
     "metadata": {},
     "output_type": "execute_result"
    }
   ],
   "source": [
    "'''url = \"https://outline.com/https://www.usatoday.com/story/news/factcheck/2020/07/21/fact-check-hydroxychloroquine-hasnt-helped-covid-19-studies-show/5407547002/\"\n",
    "driver.get(url) \n",
    "time.sleep(5)\n",
    "html = driver.page_source\n",
    "soup = BeautifulSoup(html, 'lxml')'''"
   ]
  },
  {
   "cell_type": "code",
   "execution_count": 15,
   "metadata": {},
   "outputs": [],
   "source": [
    "#l=soup.findAll('p')"
   ]
  },
  {
   "cell_type": "code",
   "execution_count": 16,
   "metadata": {
    "scrolled": true
   },
   "outputs": [
    {
     "name": "stdout",
     "output_type": "stream",
     "text": [
      "10\n"
     ]
    }
   ],
   "source": [
    "print(len(articles))"
   ]
  },
  {
   "cell_type": "code",
   "execution_count": 17,
   "metadata": {
    "scrolled": true
   },
   "outputs": [
    {
     "name": "stdout",
     "output_type": "stream",
     "text": [
      "A video shared online has claimed that the coronavirus pandemic is a hoax and part of a conspiracy to control the general public. This is false. A post sharing the video can be viewed here (here). The opening sequence shows billionaire philanthropist Bill Gates, warning that “we will have to prepare” for the next pandemic. The narrator then uses points to argue that the pandemic was planned, and claims it is a hoax that is being used as an excuse to control the general public. CLAIM 1 - THE VIRUnited States  THAT CAUnited States ES COVID-19 HASN’T BEEN IDENTIFIED OR ISOLATED “They’ve never isolated it or actually identified this virus as actually existing, so the whole thing is just a big scam”, the narrator claims (here). This is not true. Severe acute respiratory syndrome coronavirus 2 (SARS-CoV-2) is the name of the virus that causes the disease COVID-19 (here). According to the World Health Organization (WHO), the virus was identified by Chinese authorities on January 7, 2020 (tinyurl.com/y5at3vke). CLAIM 2 - TEST FOR COVID-19 BROADLY TESTS FOR RNA VIRUnited States ES AND GENETIC MATERIAL “Of course, the more people they test, then the more people are going to test positive because they’re just testing for RNA viruses and genetic material”, the narrator alleges (here). It is false that the COVID-19 test broadly detects all RNA viruses rather than SARS-CoV-2 specifically. An RNA virus is a virus that has RNA as its genetic material (here). Human diseases caused by RNA viruses include COVID-19 (here), SARS, influenza and Ebola disease (here). The Polymerase Chain Reaction (PCR) test used to detect SARS-CoV-2 works by detecting the presence of its RNA in the swab sample (here). Each virus has its own pattern of RNA material, and the test for coronavirus tests for the RNA material of SARS-CoV-2 specifically. “All deaths are basically being labelled as COVID deaths now whether they are or not. All you have to do is test positive for this genetic material in your body and it’ll say COVID-19” (here). In the UK, data on COVID-19 deaths published by the Office of National Statistics (ONS) includes deaths “involving COVID-19”. This includes deaths that have COVID-19 mentioned anywhere on the death certificate, whether it is an underlying cause or not (here). However, the ONS says that: “In the majority of cases (46,736 deaths, 92.8%) where COVID-19 was mentioned on the death certificate, it was found to be the underlying cause of death”. It is wrong to say that all deaths are being recorded as COVID deaths. One indication of how many deaths have been caused by the pandemic is the number of ‘excess deaths’ recorded, or additional deaths compared to the number usually expected during a given time period. An ONS report shows that England and Wales saw spikes in the number of excess deaths that reflect the number of COVID-19 deaths that were reported at that time (see Figure 2) (here). In June, the ONS reported that there were around 64,500 excess deaths across the UK for the time of year using a five-year average, though the figure is now likely to be higher (here). False. The coronavirus pandemic is not a hoax; it is a global outbreak caused by the virus SARS-CoV-2. This article was produced by the Reuters Fact Check team. Read more about our work to fact-check social media posts here . \n",
      "CLAIM: COVID-19 is “the greatest hoax ever perpetrated” and “just another bad flu.” Roger Hodkinson, a pathologist who identifies himself as a former chairman of the Royal College of Physicians and Surgeons of Canada, made the comments by phone during a public meeting in Edmonton, the capital of Alberta, Canada. AP’S ASSESSMENT: False. Not only is COVID-19 deadlier than the flu, but symptoms last longer, according to medical experts. Also, Hodkinson has never been chairman of the Royal College of Physicians and Surgeons of Canada, the group said. THE FACTS: On November 13, while city councilors in Edmonton met to discuss extending the law that requires people to wear face coverings in public places, people phoned in to oppose the mandate. Among them was a caller who introduced himself as Hodkinson. “There is utterly unfounded public hysteria driven by the media and politicians,” said Hodkinson, identifying himself as the former chairman of the Royal College of Physicians and Surgeons of Canada and the CEO of a biotech company in North Carolina that sells COVID-19 tests. He also called COVID-19 “the greatest hoax ever perpetrated on an unsuspecting public…” Hodkinson went on to say that COVID-19 was just “another bad flu” and that “masks were utterly useless” and that “there is no evidence base for their effectiveness whatsoever.” His false comments were recorded, posted on YouTube and then spread on social media. “Top pathologist Doctor Roger Hodkinson told Canadian government officials in Alberta during a phone conference that the coronavirus pandemic is ‘the greatest hoax ever perpetrated on an unsuspecting public,’” stated an Instagram post that shared the false claims. The post had more than 26,000 likes. But health officials widely agree that the coronavirus is much more dangerous than the flu. “This [COVID-19] is very different from influenza, much higher mortality, much higher morbidity if you survive it,” said Doctor Luis Ostrosky-Zeichner, a professor of infectious diseases at McGovern Medical School at the University of Texas Health Science Center in Houston. “There’s no sort of long-lasting effects of influenza either. It’s a completely wrong assertion.” On November 20, the Royal College of Physicians and Surgeons of Canada clarified that although Hodkinson was certified as a general pathologist in 1976, he was never a chairman. “We would like to clarify that Doctor Hodkinson is not nor has ever held the position of chairman of the Royal College of Physicians and Surgeons of Canada,” the organization said in a statement. Members of the Alberta Medical Association also refuted Hodkinson’s claims on Twitter on November 23: “The#Alberta Section of Laboratory Physicians endorses the use of masks, hand washing and physical distancing along with all other public health measures to prevent the spread of#COVID19.” Hodkinson said that he was CEO of a biotechnology company in North Carolina. He is listed as the executive chairman of MutantDX, which is based in Greensboro, North Carolina. According to the license on North Carolina’s secretary of state’s website, the business is active. However, the address listed on the license leads to a condominium complex. The Associated Press reached out to Hodkinson at a business in Edmonton where he is listed as the CEO, but no response had been received at the time of publication. Hodkinson’s claim that masks are “useless” is false. Studies show that masks work to slow the spread of the virus. The United States Centers for Disease Control and Prevention has long advised people to wear masks. In November, the CDC said that masks can also protect wearers who are not infected. ___ This is part of The Associated Press’ ongoing effort to fact-check misinformation that is shared widely online, including work with Facebook to identify and reduce the circulation of false stories on the platform. Here’s more information on Facebook’s fact-checking program: https://www.facebook.com/help/1952307158131536 \n",
      "On the last Friday of February 2020, United States President Donald Trump held a campaign rally in South Carolina and made comments during a speech in which he accused Democrats of “politicizing” the coronavirus outbreak that left many with the impression that he had referred to the virus itself as a “hoax.” Various news media outlets and personalities reported that he did so, including syndicated columnist Dana Milbank, who tweeted: Likewise, Politico ran a story headlined “Trump rallies his base to treat coronavirus as a ‘hoax.'” And in an article headlined “Trump calls coronavirus Democrats’ ‘new hoax,'” NBC News correspondent Lauren Egan wrote: “President Donald Trump accused Democrats of ‘politicizing’ the deadly coronavirus during a campaign rally here on Friday, claiming that the outbreak is ‘their new hoax’ as he continued to downplay the risk in the United States ” These prompted inquiries from Snopes readers who asked us to verify the accuracy of the claim. Trump held the rally on February 28 on the eve of the South Carolina Democratic primary, which former Vice President Joe Biden ultimately won. During his roughly one-hour, 20-minute commentary, Trump hit back at his political opponents in the Democratic Party for their critiques of his administration’s handling of a potential pandemic. Here are Trump’s exact words on the topic at the South Carolina rally: Now the Democrats are politicizing the coronavirus. You know that, right? Coronavirus. They’re politicizing it. We did one of the great jobs. You say, ‘How’s President Trump doing?’ They go, ‘Oh, not good, not good.’ They have no clue. They don’t have any clue. They can’t even count their votes in Iowa, they can’t even count. No they can’t. They can’t count their votes. One of my people came up to me and said, ‘Mister  President, they tried to beat you on Russia, Russia, Russia. That didn’t work out too well. They couldn’t do it. They tried the impeachment hoax. That was on a perfect conversation. They tried anything, they tried it over and over, they’ve been doing it since you got in. It’s all turning, they lost, it’s all turning. Think of it. Think of it. And this is their new hoax. But you know, we did something that’s been pretty amazing. We’re 15 people [cases of coronavirus infection] in this massive country. And because of the fact that we went early, we went early, we could have had a lot more than that. In context, Trump did not say in the passage above that the virus itself was a hoax. He instead said that Democrats’ criticism of his administration’s response to it was a hoax. He muddied the waters a few minutes later, however, by comparing the number of coronavirus fatalities in the United States (none, at that point in time) to the number of fatalities during an average flu season, and accusing the press of being in “hysteria mode”: So a number that nobody heard of that I heard of recently and I was shocked to hear it, 35,000 people on average die each year from the flu. Did anyone know that? 35,000. That’s a lot of people. It could go to 100,000, it could be 27,000, they say usually a minimum of 27, it goes up to 100,000 people a year who die, and so far we have lost nobody to coronavirus in the United States. Nobody. And it doesn’t mean we won’t, and we are totally prepared, it doesn’t mean we won’t. But think of it. You hear 35 and 40,000 people, and we’ve lost nobody, and you wonder, the press is in hysteria mode. For his part, Trump later defended his comments by stating he was indeed calling out the Democrats’ efforts to blame him and his administration for what they have characterized as an inadequate response “because we’ve done such a good job.” Trump did however downplay the scale of the virus and the danger it posed to the public. At the time he made his remarks, the United States had 57 confirmed coronavirus cases, 40 of which came from the Diamond Princess cruise ship, which experienced an outbreak of the virus. And health officials were warning that the spread of the virus domestically was “inevitable.” The novel coronavirus infection has been a fast-moving crisis. Just hours after Trump’s rally in South Carolina, the United States had its first coronavirus death. As of this writing (at the beginning of March 2020), six people in the United States have died from the COVID-19, the disease caused by coronavirus. Globally, more than 80,000 cases have been identified and 3,000 people have died, while experts have warned the outbreak of the virus could become a pandemic. Although Trump made a reference to seasonal flu death rates, COVID-19, which was first detected in the winter of 2019 in Wuhan, China, appears so far to be more lethal. And because the virus is new, no vaccine or treatment exists for it. \n",
      "\n",
      "The race to develop a cure for Covid-19 is in full swing with more than 150 coronavirus vaccine candidates being developed worldwide, 26 of them in the human trial phase. On social media, a message has gone viral warning people not to use the Covid-19 vaccine as a microchip will be implanted in the body along with the vaccine. In a video accompanying the post, a man claiming to be a project engineer says he was part of the team that developed the microchip. The nearly 8-minute-long video clip has been posted by several Facebook users with the caption, \"A project engineer who made the microchip that will soon be implemented along with the covid vaccine WARNS United States NOT TO TAKE IT. Please listen carefully to his story and his message in this video.. After watching, please share also to save lives. God bless!\" Referring to the Bible, the speaker claims over a million dollars of taxpayers' money was spent on the chip but no one should take it as it is a \"mark of the beast\". India Today Anti Fake News War Room (AFWA) has found the video to be almost 12 years old. The speech was being given by an American pastor named Carl Sanders. It is true that he was speaking about microchips but there was no reference to Covid-19. The archived versions of the posts can be seen here and here. OLD AND UNRELATED VIDEO A closer look at the video gives us more reasons to be suspicious about the viral claim. The video has been altered as there are several jump cuts. At 7 minutes and 17 seconds, the audience behind the speaker and interpreter disappeared, and so did the flower on the pulpit in front of the speaker. The speaker, at no point in the video, says the microchip will be implanted along with the Covid-19 vaccine. In fact, he does not mention Covid-19 or coronavirus in his entire speech. With the help of InVID and reverse image search, we found that the video is at least 12 years old. The original video is much longer than the viral one and was uploaded in several parts on YouTube. The entire speech by American pastor Carl Sanders was uploaded by multiple YouTubers in several parts. One such YouTube video, posted in 2008, is titled \"Carl Sanders - Mark of The Beast (666) [Part 3 / 28]\". In this original video, we found his speech on the microchip was being interpreted simultaneously by another man. But these interpretations were edited out in the viral video. Using relevant keywords, we found articles published as early as 2002 on Carl Sanders's theory of the impending danger of microchip implantation in humans. As per these articles, Doctor Carl W. Sanders was an electronics engineer and an inventor, who had worked for many government organisations and private firms such as IBM and General Electric. For 32 years, he had worked in the field of bio-medicine, focusing on microchips. But the viral video is in no way connected to the Covid-19 pandemic. Earlier, global news agency Reuters had debunked a conspiracy theory that claimed microchips would be implanted with Covid-19 vaccines. \n",
      "Some hoaxes and rumours that have circulated related to the COVID-19 pandemic: - Fit people are not immune to COVID-19 - No evidence flu vaccines make children more vulnerable to coronavirus infections - Canadian children are not separated from parents if they have to quarantine due to COVID-19 - Misleading claims about COVID-19 vaccine spread by 'Plandemic' video. // New 'Plandemic' film promotes coronavirus conspiracy theory. // 'Plandemic' video peddles falsehoods about COVID-19. - Bill Gates does not seek 'digital tatoos' for people tested for COVID-19 // nor did he say a vaccine could kill nearly one million people - A flu shot will not make you test positive for COVID-19 // flu shots do not make people more vulnerable to infections // beware of misinformation on flu shot ingredients - 5G technology did not create the novel coronavirus and viral outbreaks in the last 100 years are not aligned with the introduction of new telecommunications technologies and there is no evidence 5G radiation is harmful to human health and 5G mobile phones will not work off microchips secretly implanted under the skin by vaccination for COVID-19 - Senegalese children did not die from a coronavirus vaccine (which does not yet exist as of April 10, 2020) // neither did children in Guinea - The CDC in the United States did not cut Covid-19 death toll by 94 percent. More here. - The World Health Organization has not been kicked out of Tanzania. More here. - Misleading claims about COVID-19 vaccine spread by ‘Plandemic’ video. More here. - Fake WHO document shared in anti-mask posts. More here. - Misleading claim circulates on Facebook about dangers of face masks alongside photos of skin conditions. More here. - New ‘Plandemic’ film promotes coronavirus conspiracy theory. More here. - Misleading claim circulates online about Philippine Health Department's guidelines for face shields. More here. - False claim circulates on Facebook that Australians 'will be fined if they discuss COVID-19 conspiracies'. More here. - Misleading claim circulates online that Singapore has 'banned' sale of United States produce due to coronavirus. More here. - Face mask use does not lead to Legionnaires’ disease. More here. - United States far from reaching herd immunity for COVID-19. More here. - False claim circulates online that Australian government paid nursing homes to register deaths as caused by COVID-19. More here. - Canadian children with COVID-19 symptoms can quarantine with a parent or guardian. More here. - Hoax circulates online that vaccines have caused deaths in the Philippines. More here. - Comments on coronavirus measures falsely attributed to Fox News host Tucker Carlson. More here. - False claim circulates online in the Philippines that Canada is ‘free’ of the novel coronavirus. More here. - Discredited scientific paper behind false claims on COVID-5G link. More here. - No evidence flu vaccines make children more vulnerable to coronavirus infections. More here. - United States health expert Doctor Anthony Fauci did not 'know' about effective coronavirus treatments in 2005. More here. - False claim circulates on Facebook that 'viruses do not harm or kill' people. More here. - Tips on safe sex during COVID-19 pandemic misrepresented in Canadian Facebook post. More here. - The United States is not testing a COVID-19 vaccine on Ukrainian soldiers. More here. - Members of United States Congress did not receive quarantine exemption for John Lewis’s funeral. More here. - Misleading claim circulates online comparing severity of COVID-19 with swine flu. More here. - Fit people are not immune to COVID-19. More here. - Social media posts misquote face mask advice from international health authorities and academics. More here. - Wearing a face mask does not put you at risk of developing pleurisy, health experts say. More here. - New Zealand has not authorised troops to enter homes to enforce COVID-19 quarantine. More here. - Hoax posts offer hazard pay to United States pandemic workers. More here. - Corpses infected with COVID-19 do not ge more infectious over time. More here. - Holy communion has not been banned in Toronto. More here. - Misleading claim circulates that the Philippines has cancelled school classes until 2021 due to COVId-19. More here. - False claim circulates online that China is no longer hospitalising COVID-19 patients. More here. - Nokia latest hit by Facebook scam claiming phone giveaway for students during the pandemic. More here. - Fake police bulletin about 'face mask scam' circulates worldwide. More here. - Mask misinformation spreads in the United States as cases spike. More here. - Misleading claim circulates about the accuracy of COVID-19 tests in Australia. More here. - List of unsubstantiated COVID-19 treatments circulates online. More here. - Disgraced United States researcher Judy Mikovits makes latest false claims about vaccine safety. More here. - These 'virus removal cards' do not prevent COVID-19. More here. - Bill Gates does not plan to 'microchip the vaccine' to create 'virtual IDs.' More here. - Phones are not being given out for pandemic education in Nigeria. More here. - CDC did not add flu and pneumonia deaths to COVID-19 toll. More here. - Map used to make misleading comparison of COVID-19 spread in United States , Canada. More here. - Hoax circulates about 'Latin translation' of COVID-19. More here. - Rwanda leader Paul Kagame did not oppose WHO over virus tonic. More here. - Israel has not reported zero deaths from COVID-19. More here. - Fresh false claims about COVID-19 vaccine and 5G technology spread online in the Philippines. More here. - Hoax circulates that India's capital region will be placed under new four-week lockdown. More here. - Meme misleads on long-term effects of wearing a mask. More here. - South Sudan leaders have not flown abroad for COVID-19 treatment. More here. - Android users in Australia have not been automatically signed up to COVIDSafe app. More here. - As United States faces COVID-19 spike, outdated mask information spreads online. More here. - Misinformation about reimposing strict COVID-19 lockdown in Metro Manila circulates online. More here. - Nigerian government has not announced that schools will reopen on July 13. More here. - Conspiracy theories circulate about 5G 'microchip implants.' More here. - Myth circulates that Italy has discovered that COVID-19 is a bacteria, curable by paracetamol. More here. - Misleading social media posts claim adverse health effects of face masks. More here. - Taiwanese doctors have not discovered that COVID-19 is a 'combination of SARS and AIDS.' More here. - Vaccines do not violate the Nurembert Code. More here. - Coronavirus 'survival rates' remain unknown, experts say. More here. - Misinformation circulates about Japan's plan to subsidize tourism after coronavirus lockdown is lifted. More here. - United States President Donald Trump did not offer Madagascar $2.5 million to develop its COVID-19 herbal remedy. More here. - Italian politician spreads false claims about Bill Gates in parliament speeches. More here. - Misleading claim circulates about coronavirus contact tracing app in New Zealand. More here. - China and Japan have not re-entered national lockdowns because of COVID-19 (as of May 25). More here. - UN has not conditioned humanitarian aid to Ecuador on the country legalizing abortions. More here. - Hoax list of COVID-19 'safety guidelines' circulates in India. More here. - Hoax government notice circulates in the Philippines about the civil service exam during the COVID-19 pandemic. More here. - Hoax circulates about new COVID-19 'law' in Western Australia. More here. - Post falsely claims there were no United States flu deaths during the COVID-19 crisis. More here. - Gates Foundation targeted with misleading claims about India polio vaccine campaign. More here. - Misinformation circulates about babies contracting Kawasaki disease during the COVID-19 pandemic. More here. - Hoax circulates that Australian $10 notes feature images of coronavirus and Bill Gates. More here. - Nigeria did not impose a curfew to set up 5G masts; the curfew was aimed at slowing the spread of the novel coronavirus and 5G networks have not yet been set up in the country (as of May 21). More here. - Wearing a mask is not mandatory in Canada during the COVID-19 pandemic. More here. - Misleading list showing viral outbreaks which purportedly originated in China from 1950 to 2019. More here. - Fake 'roadmap' for India to relax coronavirus lockdown circulates online. More here. - Misleading article warns against face masks during the COVID-19 pandemic. More here. - United States Vice President Mike Pence did not deliver empty boxes to a hospital during the COVID-19 pandemic. More here. - Bill Gates did not say that a COVID-19 vaccine could kill nearly a million people. More here. - Misleading posts circulate about the effectiveness of face masks in the United States . More here. - Misleading claim that Thailand tops global index for COVID-19 response and has the lowest number of coronavirus cases. More here. - African mistrust of Western vaccines threatens coronavirus fight. More here. - Chilren in Guinea did not die from a COVID-19 vaccine (a vaccine does not exist for the disease as of May 18, 2020). More here. - Bill Gates is not seeking 'digital tattoos' for people who have tested for COVID-19. More here. - Ghana leader falsely claims his country fronts Africa's COVID-19 testing. More here. - 'Plandemic' video peddles falsehoods about COVID-19. More here. - United States authorities have not cut the reported COVID-19 death toll. More here. - Flu vaccines do not make people more vulnerable to infections. More here. - Vegetarians are immune to COVID-19? It's a hoax. More here. - Flu shot will not make you test positive for COVID-19. More here. - Misinformation on United States flu shot ingredients resurfaces during COVID-19 pandemic. More here. - Hoax message circulates about Australia's coronavirus contact-tracing app. More here. - Nobel laureate Tasuku Honjo refutes 'false' quote attributed to him about the novel coronavirus. More here. - A New York funeral home employee was not accidentally cremated during the COVID-19 pandemic. More here. - Posts misrepresent eligibility for United States COVID-19 stimulus payments. More here. - Britain's first coronavirus vaccine volunteer has not died after the trial jab. More here. - Pakistani plane did not transport Sri Lankan students home after COVID-19 lockdown. More here. - Fake hiring phone numbers shared online in United States as umeployment surges during the COVID-19 pandemic. More here. - COVID-19 symptoms do not progress in three distinct stages in all patients. More here. - Misleading claim circulates online about Wuhan death toll after lockdown eased. More here. - Coronavirus pandemic triggers wave of Islamic-themed myths on social media. More here. - There is no evidence that 5G radiation is harmful to human health. More here. - Children in Canada with COVID-19 are not admitted in hospitals alone; there is an exception for a parent or guardian for pediatric patients. More here. - False advice on refusing vaccines circulates in United States , Canada and Australia during the COVID-19 pandemic. More here. - A 5G deal between the UK and the Chinese tech company Huawei has not been cancelled. More here. - Misleading coronavirus information falsely attributed to Johns Hopkins, a leading source of information on COVID-19. More here. - United States President Donald Trump, much criticized over his response to the COVID-19 pandemic, did not post this tweet about H1N1 crisis in 2009. More here. - Children with COVID-19 in the United States do not have to be hospitalized alone. More here. - Hoax circulates that viral outbreaks are linked to new telecommunication technologies and that COVID-19 is linkd to the rollout of 5G. More here. - China did not send COVID-19 vaccines to Burundi (a vaccine for the disease does not exist as of April 21). More here. - The World Bank did not praise Tanzania's anti-coronavirus policies. More here. - This pharmacist in India did not die of COVID-19-related violence. More here. - Singapore did not fine people for not wearing face masks before April 14, when the masks were made mandatory in the city state. More here. - The World Health Organization (WHO) does not recommend drinking alcohol to help prevent COVID-19, despite what a Kenya governor says. More here. - Pet owners should not avoid touching their animals after using hand sanitiser. More here. - Disposable surgical masks are not reversible. More here. - Myth spreads online that Australian supermarkets have banned Chinese nationals during the COVID-19 pandemic. More here. - Doctor Anthony Fauci, the head of the United States National Institute of Allergy and Infectious Diseases, is not alone in saying the drug hydroxychloroquine is unproven as treatment against COVIE-19. More here. - Fake phone 'helplines' to track United States stimulus payments greet callers with offers of phone sex. More here. - Graphic doctored that quoted Philippine President Rodrigo Duterte saying that COVID-19 support payments have been competed. More here. - Nigeria's ex-vice president did not promise to pay citizens to stay home during the COVID-19 outbreak. More here. - United States Democrats did vote for legislation to combat the novel coronavirus crisis. More here. - South Sudan's chief justice and his family have tested negative for COVID-19 (as of April 15). More here. - India has not outlawed social media posts about COVID-19. More here. - Misinformation in Thailand about police powers to fine people who fail to wear face masks in public. More here. - An old Indian textbook does not list treatments for COVID-19. More here. - A newspaper did not claim that an Indian Muslim leader donated to Indian PM's COVID-19 relief fund; the image of the front page has been doctored. More here. - A recovered COVID-19 patient did not violate a home quarantine order in Sri Lanka. More here. - Misinformation circulates about Malaysia's coronavirus relief package for its citizens. More here. - False 'facts' on United States Postal Service finances resurface amid disputre over funding to help it through the COVID-19 pandemic. More here. - Senegalese children did not die from a novel coronavirus vaccine (which as of April 10, 2020, does not yet exist). More here. - The World Health Organization (WHO) did not issue this 'protocol' for COVID-19 lockdown. More here. - Beijing and Shanghai have not been 'untouched' by COVID-19. More here. - Nigeria did not spend 1 billion naira on a COVID-19 text message awareness campaign. More here. - South Africa's leader did not ask foreigners to leave the country due to COVID-19. More here. - A Philippine hospital did not find a correlation between grocery shopping and COVID-19 among its patients. More here. - This non-profit hospital in Pakistan said it did not charged patients for COVID-19 tests. More here. - Britain's Queen Elizabeth did not mention the Philippines in her speech on the novel coronavirus. More here. - An UAE sultan in Sharjah did not ban the burial of COVID-19 victims. More here. - A French doctor did not urge Africans to avoid taking \"Bill Gates vaccine\" against the novel coronavirus. More here. - This Sri Lankan spice manufacturer has used this logo since 2007; it is not a logo of a political party that was printed in COVID-19 ration kits. More here. - Nigerian health authority denounces fake social media accounts that have sprung up during the coronavirus pandemic. More here. - These Muslims at a mosque in Sri Lanka did not react violently when authorities told them their gathering was in violation of the country's coronavirus curfew. More here. - United States billionaire philanthropist Bill Gates did not issue this \"open letter\" about the novel coronavirus pandemic. More here. - No evidence that COVID-19 is transmitted through fruits and vegetables. More here. - Funerals for COVID-19 victims are not banned in Pakistan (as of April 8). More here. - Misleading claims that purport to compare lockdown measures and status of the pandemic in Asian countries including South Korea, Japan and the Philippines. More here. - The CEOs of these companies did not resign during the novel coronavirus crisis. More here. - This South African hospital did not find COVID-19 on fresh produce. More here. - This is not a 19th century poem about self-isolation, it was written specifically about the COVID-19 pandemic. More here. - The Nigerian leader has not tested positive for the coronavirus (as of April 6), this CNN broadcast has been doctored. More here. - The Indian government has not banned coronavirus-related posts on social media. More here. - 5G wireless technology did not create the novel coronavirus -- it is based on radio frequency, which does not create viruses. More here. - The global environmental movement Extinction Rebellion did not issue a poster saying that \"Corona is the cure, humans are the disease.\" More here. - A new vaccine and a new drug have not been developed to treat the novel coronavirus, as claimed by multiple posts in Asia (as of April 3). More here. - Singapore is not spot fining people violating social distancing orders. More here. - Ventilators are not \"stuck\" in a New York warehouse, NY authorities are stockpiling supplies and those in the photo were sent to hospitals within 24 hours of arriving at the facility. More here. - Ethiopia has not approved traditional medicine to treat COVID-19. More here. - The United States has not arrested a Chinese scientist who \"created\" the novel coronavirus. More here. - The World Health Organization (WHO) did not warn against eating cabbage during the novel coronavirus pandemic. More here. - An ice rink outside of the city of Adelaide in Australia has not been turned into a morgue (as of April 2). More here. - People with pre-existing respiratory conditions will not receive a \"rescue pack\" of medicatin from their doctors in Australia unless previously prescribed. More here. - Calling this numer will not get you food aid in the United States during the novel coronavirus pandemic, as unemployment soars. More here. - Facilities at a Sri Lankan military hospital will be open to all COVID-19 patients, not just \"VIPs.\" More here. - United States President Donald Trump and presidential candidate Joe Biden did not declare \"people are dying that have never died before.\" The phrase can be traced to famed United States authori Ernest Hemingway. More here. - Thai police cannot fine people for not wearing face masks. More here. - There is no United States patent on the novel coronavirus and no European one for a vaccine (as of April 1). More here. - There is no 'new virus' named hantavirus that has emerged in China. More here. - Singapore General Hospital will temporarily use its car park to test suspected COVID-19 patients, not as a ward. More here. - China sent medical supplies, not doctors, to Malaysia to help combat the COVID-19 pandemic More here. - Claims that 59 church members in South Africa died after drinking household disinfectant to prevent novel coronavirus infections are a hoax -- they are based on an old story. More here. - An Australian supermarket worker has not tested positive for the novel coronavirus in New South Wales suburb (as of April 1, 2020). More here. - Britain's Queen Elizabeth has not tested positive for the novel coronavirus (as of March 31, 2020) More here. - Thailand's emergency decree to combat COVID-19 did not include a curfew (as of March 31, 2020). More here. - The World Health Organization (WHO) has not increased Thailand's 'pandemic level' for COVID-19 (as of March 30, 2020). More here. - Singapore's Ministry of Health did not issue these COVID-19 'guidelines.' More here. - Australian authorities did not issue a warning that using petrol pumps can spread the novel coronavirus. More here. - Iconic coffee chain Tim Hortons will not close all Canada franchises because of the novel coronavirus. Drive-throughs remain open (as os March 30, 2020). More here. - Claims circulated on United States social media outlining Canada's purported response to the coronavirus outbreak are misleading. More here. - South Africa has not announced a date that schools will re-open (as of March 29, 2020). More here. - Nigeria is not paying citizens to stay at home during the novel coronavirus crisis. More here. - Sri Lanka and the Philippines are not spraying disinfectant over homes from helicopters to kill off the coronavirus. More here. - Philippines' president did not approve a payment to all recipients of the country's social security system to help them through the novel coronavirus crisis. More here. - A UK hospital did not issue this notice to its medical staff on how to prevent infection by the novel coronavirus and the notice contains several false claims that AFP FactCheck has already debunked. More here. - A bank in the Pakistani city of Rawalpindi did not close and no employee has tested positive for COVID-19. More here. - Fruit and vetable markets in the Indian city of Chennai and across the state of Tamil Nadu have not been ordered to close to curb the spread of the novel coronavirus. More here. - Ugandan and Kenyan authorities have not instructed landlords to stop collecting rent due to the novel coronavirus crisis. More here. - COVID-19 is not projected to kill up to 45 million people in Nigeria, as claimed in a WhatsApp message. More here. - Australian authorities did not issue a notice saying people could receive free home visits from doctors during the novel coronavirus pandemic. More here. - This infographic does not show the nine-day timeline of the symptoms of the novel coronavirus, the information here is misleading. More here. - A factory in the Australian city of Melbourne has not been hoarding essential supplies including baby formula, toilet paper and hand sanitizer for export to China. More here. - India has not issued an advisory that a disinfectant will be sprayed into the air overnight in an effort to kill the novel coronavirus. More here. - Philippine Vice President Leni Robredo has not said that bats are the \"enemy\" in the novel coronavirus pandemic. More here. - Israel has not developed a vaccine for the novel coronavirus (as of March 20). More here. - UNHCR did not issue a notice claiming that \"migrants and illegals\" in Malaysia were resisting testing for the novel coronavirus. More here. - 15 coronavirus cases were not linked to Burnaby's Metrotown mall in Canada's British Columbia (as of March 20). More here. - Consumers cannot claim a free case of baby formula if they call the relevant manufacturer. More here. - The Indian government is not distributing free face masks during the COVID-19 pandemic. More here. - COVID-19 did not exist before 2019. More here. - Australia was not planning to announce a nationwide \"shut down\" from March 18. More here. - The Philippine Department of Health did not issue an advisory that people who have had contact with those infected with the novel coronavirus would be turned away from doctors' clinics. More here. - Major disease outbreaks are not tied to United States election years. More here. - Uganda's president did not postpone elections because of coronavirus. More here. - Israel has not developed a \"cure\" for COVIC-19. More here. - Football superstar Cristiano Ronaldo is not planning to turn his hotels in Portugal into hospitals for novel coronavirus patients. More here. - COVID-19 is not part of a pattern in which viral outbreaks occur every 100 years. More here. - 811 is not an official public health hotline in Ontario and the provincial ministry of health is not organizing home visits. More here. - Costco has not issued a recall for bath tissue because it was infected with the novel coronavirus. More here. - An employer did not cover up a part of a poster on novel coronavirus prevention that advised sick employees to stay home. More here. - A Philippine government advisory did not list shopping malls and hotels that the Department of Health advised against visiting. More here. - That's not a magnified photo of the novel coronavirus you are looking at. It's a weevil. More here. - Donating blood in the United States does not get you a novel coronavirus test. More here. - Philippine authorities did not confiscate fake cigarettes that were spreading the novel coronavirus. More here. - A European brothel has not been put under quarantine. More here. - Indonesia has not issued its citizens free air tickets to return home after coronavirus outbreak. More here. - UNICEF has not released coronavirus prevention guidelines. More here. - The Vatican did not disclose that Pope Francis had been infected with the novel coronavirus; the pontiff was suffering from a cold. More here. - Israeli scientists had not developed a COVID-19 vaccine by early March. More here. - All international arrivals were not cancelled at an airport in Karachi in February 2020 over the novel coronavirus. More here. - The novel coronavirus differs from and is more deadly than the human coronaviruses that can cause a cold, contrary to a claim made by conservative United States radio host Rush Limbaugh. More here. - A taxi driver in Nigeria did not threaten to spread the novel coronavirus all over the country. More here. - Russia's Ministry of Health did not say in a document that the novel coronavirus was man-made. More here. - China-made Holi festival goods are not infected with the novel coronavirus. More here. - This map does not show elevated sulphur dioxide levels in Wuhan, China that could be evidence of mass cremation in and around the city. More here. - A doctor's office in new South Wales in Australia was not visited by people exposed to the novel coronavirus by February 20, 2020. More here. - Israel has not sent a vaccine to \"cure\" novel coronavirus patients in Wuhan, as of mid-March 2020, no vaccine for the virus had been developed. More here. - The Philippines did not issue a warning after a Chinese national from the city of Wuhan escaped quarantine at an airport; the story was a hoax. More here. - The Philippine government did not give out free face masks following the novel coronavirus outbreak. More here. - This map does not show the movement of residents from Wuhan, China, the origin of the novel coronavirus outbreak; it shows flight paths worldwide. More here. - An Australian couple who were quarantined on a cruise ship off the coast of Japan did not have wine delivered to them by a drone. More here. - Treatment by Thai doctors was not a \"cure\" for COVID-19. More here. - A doctor in the Purnea district of the east Indian state of Bihar did not identify a novel coronavirus patient in early February. More here. - The World Health Organization did not choose COVID-19 as the name for the disease that the novel coronavirus causes because it stands for \"China Outbreak Virus in December 19;\" the name is an abbreviation of \"coronavirus disease 2019.\" More here. - Black people are not more resistant to the novel coronavirus. More here. - China did not seek approval from its Supreme Court to euthanize 20,000 patients in an effort to curb the growing novel coronavirus epidemic. More here. - Lysol product labels are not evidence of a novel coronavirus conspiracy. More here. - The cleaner Detool did not test its products on the novel coronavirus before the global outbreak. More here. - Chinese 'spies' did not steal the novel coronavirus from Canada. More here. - The novel coronavirus is not a type of rabies. More here. - Doctors have not projected that 11 million people quarantined in Wuhan, China will die from the novel coronavirus. More here. - The novel coronavirus was not created by a United States government agency. More here. \n",
      "We're sorry, but this URL is not supported by Outline \n",
      "Posts claiming steam inhalation will ‘kill’ the novel coronavirus has gone viral on social media. However, there is no study to back the claim that steam inhalation can be used as a cure for the coronavirus infection. The Philippines office of the World Health Organisation (WHO) also warned against the use of steam as a cure for COVID-19 adding that the practice might lead to burn injuries. CLAIM One of the posts viral with this claim reads: “*Important Message for all* The hot water you drink is good for your throat. But this coronavirus is hidden behind the paranasal sinus of your nose for 3 to 4 days. The hot water we drink does not reach there. After 4 to 5 days this virus that was hidden behind the paranasal sinus reaches your lungs. Then you have trouble breathing. That's why it is very important to take steam, which reaches the back of your paranasal sinus. You have to kill this virus in the nose with steam....” WHAT WE FOUND OUT We looked for studies that talked about steam inhalation for COVID-19 and found no paper backing the practice. The Quint reached out to Dr Vikas Maurya, the director and head of the Department of Pulmonology at Fortis Hospital, Delhi. Dr Maurya said, “Taking steam can help in cleaning the respiratory passage during any type of viral infection in the nose, sinus and throat”. We found a tweet posted by the WHO’s Philippines office that said that steam inhalation is not a cure for COVID-19. Indian Scientists' Response to COVID-19 (ISRC), a voluntary organisation also debunked the myth and said, “There's no evidence to show nasal rinses or steam inhalation can prevent COVID-19 infection. Although they can potentially provide relief from some of the symptoms, these methods do not kill viruses and hence should not be used as a cure.” While steam inhalation in ineffective against COVID-19, it carries the additional risk of getting burn injuries. The American Burn Association has said that “3 seconds of exposure to 140°F/60°C water can cause a burn serious enough to require surgery.” Burn injuries increase one’s chances of getting infections. The COVID-19 pandemic is still an evolving situation and scientists are looking for ways to prevent the spread of the virus. However, until now, steam inhalation has not been found to be one of the ways that can be used to prevent or cure COVID-19. (Not convinced of a post or information you came across online and want it verified? Send us the details on WhatsApp at 9643651818, or e-mail it to us at webqoof@thequint.com and we will fact-check it for you. You can also read all our fact-checked stories here.) \n",
      "Democratic presidential candidates harshly criticized President Donald Trump for using the term “hoax” in connection with the coronavirus outbreak. There’s no question that the president described the disease as the Democrats’ “new hoax” at a political rally on February 28 in South Carolina. But the following day, after the death of the first American from coronavirus in Washington state, Trump said that when he used the word “hoax,” he was referring to Democrats finding fault with his administration’s response to coronavirus, not the virus itself. Even after Trump explained his remarks, some Democrats — including former New York City Mayor Mike Bloomberg — continued to wrongly accuse Trump of describing the coronavirus as a “hoax.” The kerfuffle began at the rally in North Charleston, South Carolina when Trump accused the Democrats of “politicizing” the coronavirus outbreak. “Now the Democrats are politicizing the coronavirus, you know that, right?” he said. “Coronavirus, they’re politicizing it. We did one of the great jobs. You say, ‘How’s President Trump doing?’ They go, ‘Oh, not good, not good.’ They have no clue. They don’t have any clue. They can’t even count their votes in Iowa.” Then the president, who often dismissed special counsel Robert Mueller’s Russia investigation as a hoax, continued, “They tried the impeachment hoax. That was on a perfect conversation. They tried anything. They tried it over and over. They’d been doing it since you got in. It’s all turning. They lost. It’s all turning. Think of it. Think of it. And this is their new hoax.” Trump went on to praise his administration for taking “the most aggressive action in modern history to prevent the spread of this illness in the United States,” referring to travel restrictions on foreign nationals who recently visited China. “A virus starts in China, bleeds its way into various countries all around the world, doesn’t spread widely at all in the United States because of the early actions that myself and my administration took against a lot of other wishes,” Trump said, “and the Democrats’ single talking point, and you see it, is that it’s Donald Trump’s fault, right?” Democratic presidential candidates were quick to pounce on Trump’s “hoax” remark. Former Vice President Joe Biden described the president’s comments as “absolutely bizarre” “Look, this is a serious, serious problem,” Biden told MSNBC on February 29. “It’s able to be solved, but it requires us to be absolutely level-headed and let the scientists have the lead in all of this,” Biden said. “But for him to start talking about it being a hoax is absolutely dangerous. It’s just not a decent way to act.” Biden told reporters in Greenville, South Carolina, on February 29 “The president of the United States says it’s a hoax? It’s hard to believe. Even for him it’s hard to believe.” Former South Bend, Indiana, Mayor Pete Buttigieg, at the time still a candidate for the Democratic presidential nomination, also said he was troubled by Trump’s use of the term “hoax.” “It’s critically important that the administration and the White House handle this in a way that’s based on science and not based on politics,” Buttigieg said on NBC’s “Today” show on February 29. “I was particularly disturbed to hear the word ‘hoax’ used by the president recently in talking about this issue.” Buttigieg ended his run for the White House on March 1. In the wake of the criticism, Trump said at a press conference on February 29 that he used the term “hoax” to refer not to coronavirus itself but to Democrats’ criticism of how his administration had responded to it. Asked if he regretted using that particular word, he replied “No. No. No. Hoax referring to the action that they take to try and pin this on somebody because we’ve done such a good job. The hoax is on them not… I’m not talking about what’s happening here. I’m talking what they’re doing. That’s the hoax. That’s just a continuation of the hoax, whether it’s the impeachment hoax or the Russia, Russia, Russia hoax. This is what I’m talking about. Certainly not referring to this. How could anybody refer to this? This is very serious stuff…” But that hardly put an end to criticism from Democrats. In an interview on CBS’ “60 Minutes” on March 1, Bloomberg said, “I find it incomprehensible that the president would do something as inane as calling it a hoax, which he did [Friday] night in South Carolina.” Correspondent Scott Pelley responded, “He said that the Democrats making so much of it is a Democratic hoax, not that the virus was a hoax.” And Bloomberg shot back, “This is up to the scientists and the doctors as to whether there is a problem. They all around the world would say that it is in some places and has enormous potential to become one elsewhere. And it is just ignorant and irresponsible to not stand up and be the leader and say, ‘We don’t know, but we have to prepare for the fact that, if it is, we have the medicines and the structure and the knowledge to deal with it.'” A day later, former Virginia Gov. Terry McAuliffe, a Democrat, similarly criticized Trump at a Biden rally on March 1 in Norfolk, Virginia. “We got a guy in the White House who doesn’t know anything about patriotism, doesn’t know anything about empathy,” McAuliffe said. “He said the coronavirus was a hoax.” But that’s not what Trump said he meant. \n",
      "\n"
     ]
    }
   ],
   "source": [
    "#print(all_sentences)\n",
    "for article in articles:\n",
    "    print(article)"
   ]
  },
  {
   "cell_type": "code",
   "execution_count": 18,
   "metadata": {},
   "outputs": [],
   "source": [
    "#!pip install -U sentence-transformers\n",
    "p=len(all_sentence_lists)\n",
    "all_sentences_list=[]\n",
    "all_articles=[]\n",
    "for i in range(0,p):\n",
    "    if all_sentence_lists[i]==[] or all_sentence_lists[i]==[\"We're sorry, but this URL is not supported by Outline \"]:\n",
    "        continue\n",
    "    else:\n",
    "        all_sentences_list.append(all_sentence_lists[i])\n",
    "        all_articles.append(articles[i])"
   ]
  },
  {
   "cell_type": "code",
   "execution_count": 19,
   "metadata": {
    "scrolled": true
   },
   "outputs": [
    {
     "name": "stdout",
     "output_type": "stream",
     "text": [
      "7\n"
     ]
    }
   ],
   "source": [
    "print(len(all_sentences_list))"
   ]
  },
  {
   "cell_type": "code",
   "execution_count": 20,
   "metadata": {},
   "outputs": [
    {
     "name": "stderr",
     "output_type": "stream",
     "text": [
      "wandb: WARNING W&B installed but not logged in.  Run `wandb login` or set the WANDB_API_KEY env variable.\n"
     ]
    }
   ],
   "source": [
    "#!pip install -U sentence-transformers\n",
    "from sentence_transformers import SentenceTransformer,util\n",
    "#model = SentenceTransformer('distilbert-base-nli-mean-tokens')\n",
    "import torch\n",
    "embedder = SentenceTransformer('distilbert-base-nli-mean-tokens')\n",
    "import tqdm\n",
    "from simpletransformers.classification import ClassificationModel\n",
    "import pandas as pd"
   ]
  },
  {
   "cell_type": "code",
   "execution_count": 21,
   "metadata": {},
   "outputs": [],
   "source": [
    "model = ClassificationModel('bert','outputs/',num_labels=4,args={'learning_rate':3e-5,\n",
    "    'num_train_epochs': 5,\n",
    "    'reprocess_input_data': True,\n",
    "    'overwrite_output_dir': True,\n",
    "    'train_batch_size': 4,\n",
    "    'eval_batch_size': 4,\n",
    "    'max_seq_length': 512,\n",
    "    'fp16': True})"
   ]
  },
  {
   "cell_type": "code",
   "execution_count": 22,
   "metadata": {
    "scrolled": true
   },
   "outputs": [
    {
     "name": "stdout",
     "output_type": "stream",
     "text": [
      "\n",
      "\n",
      "****************\n",
      "Article number  0\n",
      "****************\n",
      "\n",
      "\n",
      "\n",
      "======================\n",
      "\n",
      "\n",
      "Query: coronavirus is a hoax\n",
      "\n",
      "Top 5 most similar sentences in corpus:\n",
      "A video shared online has claimed that the coronavirus pandemic is a hoax and part of a conspiracy to control the general public (Score: 0.8045)\n",
      "The narrator then uses points to argue that the pandemic was planned, and claims it is a hoax that is being used as an excuse to control the general public (Score: 0.7739)\n",
      "“They’ve never isolated it or actually identified this virus as actually existing, so the whole thing is just a big scam”, the narrator claims (here) (Score: 0.6958)\n",
      " The coronavirus pandemic is not a hoax; it is a global outbreak caused by the virus SARS-CoV-2 (Score: 0.6558)\n",
      "It is wrong to say that all deaths are being recorded as COVID deaths (Score: 0.5481)\n",
      "\n",
      "\n",
      "======================\n",
      "\n",
      "\n",
      "Query: This statement is false.\n",
      "\n",
      "Top 5 most similar sentences in corpus:\n",
      " This is false (Score: 0.9100)\n",
      "False (Score: 0.8878)\n",
      "This is not true (Score: 0.8838)\n",
      "“They’ve never isolated it or actually identified this virus as actually existing, so the whole thing is just a big scam”, the narrator claims (here) (Score: 0.4561)\n",
      "The narrator then uses points to argue that the pandemic was planned, and claims it is a hoax that is being used as an excuse to control the general public (Score: 0.4128)\n",
      "\n",
      "\n",
      "======================\n",
      "\n",
      "\n",
      "Query: This statement is correct.\n",
      "\n",
      "Top 5 most similar sentences in corpus:\n",
      "This is not true (Score: 0.5809)\n",
      " This is false (Score: 0.5485)\n",
      "False (Score: 0.5240)\n",
      "A post sharing the video can be viewed here (here) (Score: 0.4275)\n",
      "“All deaths are basically being labelled as COVID deaths now whether they are or not (Score: 0.3250)\n",
      "\n",
      "\n",
      "****************\n",
      "Article number  1\n",
      "****************\n",
      "\n",
      "\n",
      "\n",
      "======================\n",
      "\n",
      "\n",
      "Query: coronavirus is a hoax\n",
      "\n",
      "Top 5 most similar sentences in corpus:\n",
      "CLAIM: COVID-19 is “the greatest hoax ever perpetrated” and “just another bad flu (Score: 0.6488)\n",
      " He also called COVID-19 “the greatest hoax ever perpetrated on an unsuspecting public…”  (Score: 0.6291)\n",
      "AP’S ASSESSMENT: False (Score: 0.6170)\n",
      "Hodkinson’s claim that masks are “useless” is false (Score: 0.5589)\n",
      " It’s a completely wrong assertion (Score: 0.5301)\n",
      "\n",
      "\n",
      "======================\n",
      "\n",
      "\n",
      "Query: This statement is false.\n",
      "\n",
      "Top 5 most similar sentences in corpus:\n",
      "AP’S ASSESSMENT: False (Score: 0.8867)\n",
      " It’s a completely wrong assertion (Score: 0.8131)\n",
      "Hodkinson’s claim that masks are “useless” is false (Score: 0.7745)\n",
      " “There’s no sort of long-lasting effects of influenza either (Score: 0.5362)\n",
      "___  (Score: 0.5238)\n",
      "\n",
      "\n",
      "======================\n",
      "\n",
      "\n",
      "Query: This statement is correct.\n",
      "\n",
      "Top 5 most similar sentences in corpus:\n",
      "___  (Score: 0.5953)\n",
      " It’s a completely wrong assertion (Score: 0.5124)\n",
      "AP’S ASSESSMENT: False (Score: 0.4936)\n",
      " Among them was a caller who introduced himself as Hodkinson (Score: 0.4773)\n",
      "Hodkinson’s claim that masks are “useless” is false (Score: 0.3763)\n",
      "\n",
      "\n",
      "****************\n",
      "Article number  2\n",
      "****************\n",
      "\n",
      "\n",
      "\n",
      "======================\n",
      "\n",
      "\n",
      "Query: coronavirus is a hoax\n",
      "\n",
      "Top 5 most similar sentences in corpus:\n",
      " They tried the impeachment hoax (Score: 0.7411)\n",
      "The novel coronavirus infection has been a fast-moving crisis (Score: 0.6926)\n",
      "In context, Trump did not say in the passage above that the virus itself was a hoax (Score: 0.6909)\n",
      " He instead said that Democrats’ criticism of his administration’s response to it was a hoax (Score: 0.6585)\n",
      " And this is their new hoax (Score: 0.6502)\n",
      "\n",
      "\n",
      "======================\n",
      "\n",
      "\n",
      "Query: This statement is false.\n",
      "\n",
      "Top 5 most similar sentences in corpus:\n",
      " That didn’t work out too well (Score: 0.8359)\n",
      "’ They have no clue (Score: 0.7596)\n",
      " They don’t have any clue (Score: 0.7535)\n",
      " They couldn’t do it (Score: 0.7383)\n",
      " No they can’t (Score: 0.7287)\n",
      "\n",
      "\n",
      "======================\n",
      "\n",
      "\n",
      "Query: This statement is correct.\n",
      "\n",
      "Top 5 most similar sentences in corpus:\n",
      " That was on a perfect conversation (Score: 0.8393)\n",
      " But you know, we did something that’s been pretty amazing (Score: 0.7518)\n",
      " We did one of the great jobs (Score: 0.6829)\n",
      " Think of it (Score: 0.6404)\n",
      " Think of it (Score: 0.6404)\n",
      "\n",
      "\n",
      "****************\n",
      "Article number  3\n",
      "****************\n",
      "\n",
      "\n",
      "\n",
      "======================\n",
      "\n",
      "\n",
      "Query: coronavirus is a hoax\n",
      "\n",
      "Top 5 most similar sentences in corpus:\n",
      " Earlier, global news agency Reuters had debunked a conspiracy theory that claimed microchips would be implanted with Covid-19 vaccines (Score: 0.6143)\n",
      "But the viral video is in no way connected to the Covid-19 pandemic (Score: 0.5757)\n",
      "A closer look at the video gives us more reasons to be suspicious about the viral claim (Score: 0.5668)\n",
      " But these interpretations were edited out in the viral video (Score: 0.4725)\n",
      "On social media, a message has gone viral warning people not to use the Covid-19 vaccine as a microchip will be implanted in the body along with the vaccine (Score: 0.4266)\n",
      "\n",
      "\n",
      "======================\n",
      "\n",
      "\n",
      "Query: This statement is false.\n",
      "\n",
      "Top 5 most similar sentences in corpus:\n",
      "OLD AND UNRELATED VIDEO  (Score: 0.6005)\n",
      " God bless!\"  (Score: 0.4450)\n",
      " It is true that he was speaking about microchips but there was no reference to Covid-19 (Score: 0.4362)\n",
      "But the viral video is in no way connected to the Covid-19 pandemic (Score: 0.3282)\n",
      " The video has been altered as there are several jump cuts (Score: 0.2840)\n",
      "\n",
      "\n",
      "======================\n",
      "\n",
      "\n",
      "Query: This statement is correct.\n",
      "\n",
      "Top 5 most similar sentences in corpus:\n",
      " God bless!\"  (Score: 0.6661)\n",
      "The archived versions of the posts can be seen here and here (Score: 0.4514)\n",
      " After watching, please share also to save lives (Score: 0.4201)\n",
      "As per these articles, Doctor Carl W (Score: 0.3771)\n",
      "OLD AND UNRELATED VIDEO  (Score: 0.3769)\n",
      "\n",
      "\n",
      "****************\n",
      "Article number  4\n",
      "****************\n",
      "\n",
      "\n",
      "\n",
      "======================\n",
      "\n",
      "\n",
      "Query: coronavirus is a hoax\n",
      "\n",
      "Top 5 most similar sentences in corpus:\n",
      "- Misleading coronavirus information falsely attributed to Johns Hopkins, a leading source of information on COVID-19 (Score: 0.7926)\n",
      "- Misleading claim circulates about coronavirus contact tracing app in New Zealand (Score: 0.7615)\n",
      "- This infographic does not show the nine-day timeline of the symptoms of the novel coronavirus, the information here is misleading (Score: 0.7277)\n",
      "- That's not a magnified photo of the novel coronavirus you are looking at (Score: 0.7236)\n",
      "Some hoaxes and rumours that have circulated related to the COVID-19 pandemic:  (Score: 0.7218)\n",
      "\n",
      "\n",
      "======================\n",
      "\n",
      "\n",
      "Query: This statement is false.\n",
      "\n",
      "Top 5 most similar sentences in corpus:\n",
      " It's a weevil (Score: 0.6233)\n",
      " More here (Score: 0.5613)\n",
      " More here (Score: 0.5613)\n",
      " More here (Score: 0.5613)\n",
      " More here (Score: 0.5613)\n",
      "\n",
      "\n",
      "======================\n",
      "\n",
      "\n",
      "Query: This statement is correct.\n",
      "\n",
      "Top 5 most similar sentences in corpus:\n",
      " More here (Score: 0.5949)\n",
      " More here (Score: 0.5949)\n",
      " More here (Score: 0.5949)\n",
      " More here (Score: 0.5949)\n",
      " More here (Score: 0.5949)\n",
      "\n",
      "\n",
      "****************\n",
      "Article number  5\n",
      "****************\n",
      "\n",
      "\n",
      "\n",
      "======================\n",
      "\n",
      "\n",
      "Query: coronavirus is a hoax\n",
      "\n",
      "Top 5 most similar sentences in corpus:\n",
      "However, there is no study to back the claim that steam inhalation can be used as a cure for the coronavirus infection (Score: 0.5369)\n",
      "We found a tweet posted by the WHO’s Philippines office that said that steam inhalation is not a cure for COVID-19 (Score: 0.5294)\n",
      "The COVID-19 pandemic is still an evolving situation and scientists are looking for ways to prevent the spread of the virus (Score: 0.5173)\n",
      "Posts claiming steam inhalation will ‘kill’ the novel coronavirus has gone viral on social media (Score: 0.5155)\n",
      "While steam inhalation in ineffective against COVID-19, it carries the additional risk of getting burn injuries (Score: 0.5062)\n",
      "\n",
      "\n",
      "======================\n",
      "\n",
      "\n",
      "Query: This statement is false.\n",
      "\n",
      "Top 5 most similar sentences in corpus:\n",
      " Then you have trouble breathing (Score: 0.6996)\n",
      "CLAIM  (Score: 0.6017)\n",
      "WHAT WE FOUND OUT  (Score: 0.5324)\n",
      "“*Important Message for all*  (Score: 0.5140)\n",
      " The hot water we drink does not reach there (Score: 0.4919)\n",
      "\n",
      "\n",
      "======================\n",
      "\n",
      "\n",
      "Query: This statement is correct.\n",
      "\n",
      "Top 5 most similar sentences in corpus:\n",
      "“*Important Message for all*  (Score: 0.7028)\n",
      "CLAIM  (Score: 0.6540)\n",
      "WHAT WE FOUND OUT  (Score: 0.6476)\n",
      "com and we will fact-check it for you (Score: 0.5558)\n",
      " Then you have trouble breathing (Score: 0.5113)\n",
      "\n",
      "\n",
      "****************\n",
      "Article number  6\n",
      "****************\n",
      "\n"
     ]
    },
    {
     "name": "stdout",
     "output_type": "stream",
     "text": [
      "\n",
      "\n",
      "======================\n",
      "\n",
      "\n",
      "Query: coronavirus is a hoax\n",
      "\n",
      "Top 5 most similar sentences in corpus:\n",
      " “He said the coronavirus was a hoax (Score: 0.9394)\n",
      " That’s the hoax (Score: 0.7488)\n",
      " “Coronavirus, they’re politicizing it (Score: 0.7415)\n",
      " “But for him to start talking about it being a hoax is absolutely dangerous (Score: 0.6972)\n",
      " And this is their new hoax (Score: 0.6502)\n",
      "\n",
      "\n",
      "======================\n",
      "\n",
      "\n",
      "Query: This statement is false.\n",
      "\n",
      "Top 5 most similar sentences in corpus:\n",
      " It’s just not a decent way to act (Score: 0.8135)\n",
      " That’s the hoax (Score: 0.7867)\n",
      " Even for him it’s hard to believe (Score: 0.7641)\n",
      "’ They have no clue (Score: 0.7596)\n",
      " They don’t have any clue (Score: 0.7535)\n",
      "\n",
      "\n",
      "======================\n",
      "\n",
      "\n",
      "Query: This statement is correct.\n",
      "\n",
      "Top 5 most similar sentences in corpus:\n",
      " That was on a perfect conversation (Score: 0.8393)\n",
      " We did one of the great jobs (Score: 0.6829)\n",
      " This is what I’m talking about (Score: 0.6779)\n",
      " Think of it (Score: 0.6404)\n",
      " Think of it (Score: 0.6404)\n"
     ]
    }
   ],
   "source": [
    "g=0\n",
    "article_wise_scores={}\n",
    "for all_sentences in all_sentences_list:\n",
    "    print(\"\\n\\n****************\")\n",
    "    print(\"Article number \",g)\n",
    "    print(\"****************\\n\")\n",
    "    \n",
    "    scores={}\n",
    "    \n",
    "    corpus = all_sentences\n",
    "    corpus_embeddings = embedder.encode(corpus, convert_to_tensor=True)\n",
    "\n",
    "    # Query sentences:\n",
    "    queries = [inp,\"This statement is false.\",\"This statement is correct.\"]\n",
    "\n",
    "    # Find the closest 5 sentences of the article for each query sentence based on cosine similarity\n",
    "    top_k = 5\n",
    "    for i in range(0,len(queries)):\n",
    "        query_embedding = embedder.encode(queries[i], convert_to_tensor=True)\n",
    "        cos_scores = util.pytorch_cos_sim(query_embedding, corpus_embeddings)[0]\n",
    "        cos_scores = cos_scores.cpu()\n",
    "        var=[]\n",
    "        #We use torch.topk to find the highest 5 scores\n",
    "        try:\n",
    "            top_results = torch.topk(cos_scores, k=top_k)\n",
    "        except:\n",
    "            top_results=torch.topk(cos_scores,len(all_sentences))\n",
    "        print(\"\\n\\n======================\\n\\n\")\n",
    "        print(\"Query:\", queries[i])\n",
    "        print(\"\\nTop 5 most similar sentences in corpus:\")\n",
    "\n",
    "        for score, idx in zip(top_results[0], top_results[1]):\n",
    "            print(corpus[idx], \"(Score: %.4f)\" % (score))\n",
    "            var.append([corpus[idx],float(score)])\n",
    "        scores[i]=var\n",
    "    #print(scores)\n",
    "    article_wise_scores[g]=scores\n",
    "    g+=1"
   ]
  },
  {
   "cell_type": "code",
   "execution_count": 23,
   "metadata": {},
   "outputs": [],
   "source": [
    "#!pip install --upgrade tensorflow-gpu --user"
   ]
  },
  {
   "cell_type": "code",
   "execution_count": 24,
   "metadata": {},
   "outputs": [
    {
     "data": {
      "text/plain": [
       "'A video shared online has claimed that the coronavirus pandemic is a hoax and part of a conspiracy to control the general public'"
      ]
     },
     "execution_count": 24,
     "metadata": {},
     "output_type": "execute_result"
    }
   ],
   "source": [
    "article_wise_scores[0][0][0][0]"
   ]
  },
  {
   "cell_type": "code",
   "execution_count": 25,
   "metadata": {
    "scrolled": true
   },
   "outputs": [
    {
     "data": {
      "application/vnd.jupyter.widget-view+json": {
       "model_id": "38aa37a1154b49a8906c86675061f354",
       "version_major": 2,
       "version_minor": 0
      },
      "text/plain": [
       "HBox(children=(HTML(value=''), FloatProgress(value=0.0, max=1.0), HTML(value='')))"
      ]
     },
     "metadata": {},
     "output_type": "display_data"
    },
    {
     "name": "stdout",
     "output_type": "stream",
     "text": [
      "\n"
     ]
    },
    {
     "data": {
      "application/vnd.jupyter.widget-view+json": {
       "model_id": "c87a1dcfb9c44ef38dcefb113b0cace8",
       "version_major": 2,
       "version_minor": 0
      },
      "text/plain": [
       "HBox(children=(HTML(value=''), FloatProgress(value=0.0, max=1.0), HTML(value='')))"
      ]
     },
     "metadata": {},
     "output_type": "display_data"
    },
    {
     "name": "stdout",
     "output_type": "stream",
     "text": [
      "\n"
     ]
    },
    {
     "data": {
      "application/vnd.jupyter.widget-view+json": {
       "model_id": "0b19ed5c44cd43e6aaf10df1ac920032",
       "version_major": 2,
       "version_minor": 0
      },
      "text/plain": [
       "HBox(children=(HTML(value=''), FloatProgress(value=0.0, max=1.0), HTML(value='')))"
      ]
     },
     "metadata": {},
     "output_type": "display_data"
    },
    {
     "name": "stdout",
     "output_type": "stream",
     "text": [
      "\n"
     ]
    },
    {
     "data": {
      "application/vnd.jupyter.widget-view+json": {
       "model_id": "ca96f6ea23bf4b40a4747e2094be6028",
       "version_major": 2,
       "version_minor": 0
      },
      "text/plain": [
       "HBox(children=(HTML(value=''), FloatProgress(value=0.0, max=1.0), HTML(value='')))"
      ]
     },
     "metadata": {},
     "output_type": "display_data"
    },
    {
     "name": "stdout",
     "output_type": "stream",
     "text": [
      "\n"
     ]
    },
    {
     "data": {
      "application/vnd.jupyter.widget-view+json": {
       "model_id": "182c131ebfd845d3aa71b167531b46d2",
       "version_major": 2,
       "version_minor": 0
      },
      "text/plain": [
       "HBox(children=(HTML(value=''), FloatProgress(value=0.0, max=1.0), HTML(value='')))"
      ]
     },
     "metadata": {},
     "output_type": "display_data"
    },
    {
     "name": "stdout",
     "output_type": "stream",
     "text": [
      "\n"
     ]
    },
    {
     "data": {
      "application/vnd.jupyter.widget-view+json": {
       "model_id": "d6c1fcf6ccf944d89702d912fc707b2c",
       "version_major": 2,
       "version_minor": 0
      },
      "text/plain": [
       "HBox(children=(HTML(value=''), FloatProgress(value=0.0, max=1.0), HTML(value='')))"
      ]
     },
     "metadata": {},
     "output_type": "display_data"
    },
    {
     "name": "stdout",
     "output_type": "stream",
     "text": [
      "\n"
     ]
    },
    {
     "data": {
      "application/vnd.jupyter.widget-view+json": {
       "model_id": "92b15ea3b20d459e8a0ba265869c22b3",
       "version_major": 2,
       "version_minor": 0
      },
      "text/plain": [
       "HBox(children=(HTML(value=''), FloatProgress(value=0.0, max=1.0), HTML(value='')))"
      ]
     },
     "metadata": {},
     "output_type": "display_data"
    },
    {
     "name": "stdout",
     "output_type": "stream",
     "text": [
      "\n"
     ]
    },
    {
     "data": {
      "application/vnd.jupyter.widget-view+json": {
       "model_id": "6e488c2780894621851aba53aede142a",
       "version_major": 2,
       "version_minor": 0
      },
      "text/plain": [
       "HBox(children=(HTML(value=''), FloatProgress(value=0.0, max=1.0), HTML(value='')))"
      ]
     },
     "metadata": {},
     "output_type": "display_data"
    },
    {
     "name": "stdout",
     "output_type": "stream",
     "text": [
      "\n"
     ]
    },
    {
     "data": {
      "application/vnd.jupyter.widget-view+json": {
       "model_id": "5a8bd745b2944467aedc1ece75e956eb",
       "version_major": 2,
       "version_minor": 0
      },
      "text/plain": [
       "HBox(children=(HTML(value=''), FloatProgress(value=0.0, max=1.0), HTML(value='')))"
      ]
     },
     "metadata": {},
     "output_type": "display_data"
    },
    {
     "name": "stdout",
     "output_type": "stream",
     "text": [
      "\n"
     ]
    },
    {
     "data": {
      "application/vnd.jupyter.widget-view+json": {
       "model_id": "0b98bd97c07747d4bd942aaef304235b",
       "version_major": 2,
       "version_minor": 0
      },
      "text/plain": [
       "HBox(children=(HTML(value=''), FloatProgress(value=0.0, max=1.0), HTML(value='')))"
      ]
     },
     "metadata": {},
     "output_type": "display_data"
    },
    {
     "name": "stdout",
     "output_type": "stream",
     "text": [
      "\n"
     ]
    },
    {
     "data": {
      "application/vnd.jupyter.widget-view+json": {
       "model_id": "77723bf9e363497f94784d16ae40ba4f",
       "version_major": 2,
       "version_minor": 0
      },
      "text/plain": [
       "HBox(children=(HTML(value=''), FloatProgress(value=0.0, max=1.0), HTML(value='')))"
      ]
     },
     "metadata": {},
     "output_type": "display_data"
    },
    {
     "name": "stdout",
     "output_type": "stream",
     "text": [
      "\n"
     ]
    },
    {
     "data": {
      "application/vnd.jupyter.widget-view+json": {
       "model_id": "8f2f18c5840d4368aaa18aba56926ae7",
       "version_major": 2,
       "version_minor": 0
      },
      "text/plain": [
       "HBox(children=(HTML(value=''), FloatProgress(value=0.0, max=1.0), HTML(value='')))"
      ]
     },
     "metadata": {},
     "output_type": "display_data"
    },
    {
     "name": "stdout",
     "output_type": "stream",
     "text": [
      "\n"
     ]
    },
    {
     "data": {
      "application/vnd.jupyter.widget-view+json": {
       "model_id": "075b20e858724b9dbb9872237dfc7cdc",
       "version_major": 2,
       "version_minor": 0
      },
      "text/plain": [
       "HBox(children=(HTML(value=''), FloatProgress(value=0.0, max=1.0), HTML(value='')))"
      ]
     },
     "metadata": {},
     "output_type": "display_data"
    },
    {
     "name": "stdout",
     "output_type": "stream",
     "text": [
      "\n"
     ]
    },
    {
     "data": {
      "application/vnd.jupyter.widget-view+json": {
       "model_id": "0baa6e433e4a4b86b50b34ee675bd9cc",
       "version_major": 2,
       "version_minor": 0
      },
      "text/plain": [
       "HBox(children=(HTML(value=''), FloatProgress(value=0.0, max=1.0), HTML(value='')))"
      ]
     },
     "metadata": {},
     "output_type": "display_data"
    },
    {
     "name": "stdout",
     "output_type": "stream",
     "text": [
      "\n"
     ]
    },
    {
     "data": {
      "application/vnd.jupyter.widget-view+json": {
       "model_id": "7b9eefec0ae64d1fbb5bbf29e475c990",
       "version_major": 2,
       "version_minor": 0
      },
      "text/plain": [
       "HBox(children=(HTML(value=''), FloatProgress(value=0.0, max=1.0), HTML(value='')))"
      ]
     },
     "metadata": {},
     "output_type": "display_data"
    },
    {
     "name": "stdout",
     "output_type": "stream",
     "text": [
      "\n"
     ]
    },
    {
     "data": {
      "application/vnd.jupyter.widget-view+json": {
       "model_id": "f7ba2e20e6534037bf03a050b4f23768",
       "version_major": 2,
       "version_minor": 0
      },
      "text/plain": [
       "HBox(children=(HTML(value=''), FloatProgress(value=0.0, max=1.0), HTML(value='')))"
      ]
     },
     "metadata": {},
     "output_type": "display_data"
    },
    {
     "name": "stdout",
     "output_type": "stream",
     "text": [
      "\n"
     ]
    },
    {
     "data": {
      "application/vnd.jupyter.widget-view+json": {
       "model_id": "b7edd1ca31fa44e8a512a01d6d19a9fe",
       "version_major": 2,
       "version_minor": 0
      },
      "text/plain": [
       "HBox(children=(HTML(value=''), FloatProgress(value=0.0, max=1.0), HTML(value='')))"
      ]
     },
     "metadata": {},
     "output_type": "display_data"
    },
    {
     "name": "stdout",
     "output_type": "stream",
     "text": [
      "\n"
     ]
    },
    {
     "data": {
      "application/vnd.jupyter.widget-view+json": {
       "model_id": "a6eadb904212459888e897b93e7738c3",
       "version_major": 2,
       "version_minor": 0
      },
      "text/plain": [
       "HBox(children=(HTML(value=''), FloatProgress(value=0.0, max=1.0), HTML(value='')))"
      ]
     },
     "metadata": {},
     "output_type": "display_data"
    },
    {
     "name": "stdout",
     "output_type": "stream",
     "text": [
      "\n"
     ]
    },
    {
     "data": {
      "application/vnd.jupyter.widget-view+json": {
       "model_id": "ae43f98a24274e4d906082cd4763eaf4",
       "version_major": 2,
       "version_minor": 0
      },
      "text/plain": [
       "HBox(children=(HTML(value=''), FloatProgress(value=0.0, max=1.0), HTML(value='')))"
      ]
     },
     "metadata": {},
     "output_type": "display_data"
    },
    {
     "name": "stdout",
     "output_type": "stream",
     "text": [
      "\n"
     ]
    },
    {
     "data": {
      "application/vnd.jupyter.widget-view+json": {
       "model_id": "e1ef6be23336423bae9820faf2d58ae5",
       "version_major": 2,
       "version_minor": 0
      },
      "text/plain": [
       "HBox(children=(HTML(value=''), FloatProgress(value=0.0, max=1.0), HTML(value='')))"
      ]
     },
     "metadata": {},
     "output_type": "display_data"
    },
    {
     "name": "stdout",
     "output_type": "stream",
     "text": [
      "\n"
     ]
    },
    {
     "data": {
      "application/vnd.jupyter.widget-view+json": {
       "model_id": "2da82ee696af4db8b61e0e2ee5606d98",
       "version_major": 2,
       "version_minor": 0
      },
      "text/plain": [
       "HBox(children=(HTML(value=''), FloatProgress(value=0.0, max=1.0), HTML(value='')))"
      ]
     },
     "metadata": {},
     "output_type": "display_data"
    },
    {
     "name": "stdout",
     "output_type": "stream",
     "text": [
      "\n"
     ]
    },
    {
     "data": {
      "application/vnd.jupyter.widget-view+json": {
       "model_id": "00ec49be53294d39ab07ef29cc187c87",
       "version_major": 2,
       "version_minor": 0
      },
      "text/plain": [
       "HBox(children=(HTML(value=''), FloatProgress(value=0.0, max=1.0), HTML(value='')))"
      ]
     },
     "metadata": {},
     "output_type": "display_data"
    },
    {
     "name": "stdout",
     "output_type": "stream",
     "text": [
      "\n"
     ]
    },
    {
     "data": {
      "application/vnd.jupyter.widget-view+json": {
       "model_id": "7ee8a4443d1348ba869f50916db33cec",
       "version_major": 2,
       "version_minor": 0
      },
      "text/plain": [
       "HBox(children=(HTML(value=''), FloatProgress(value=0.0, max=1.0), HTML(value='')))"
      ]
     },
     "metadata": {},
     "output_type": "display_data"
    },
    {
     "name": "stdout",
     "output_type": "stream",
     "text": [
      "\n"
     ]
    },
    {
     "data": {
      "application/vnd.jupyter.widget-view+json": {
       "model_id": "4210974274e84f50992640544d58d45a",
       "version_major": 2,
       "version_minor": 0
      },
      "text/plain": [
       "HBox(children=(HTML(value=''), FloatProgress(value=0.0, max=1.0), HTML(value='')))"
      ]
     },
     "metadata": {},
     "output_type": "display_data"
    },
    {
     "name": "stdout",
     "output_type": "stream",
     "text": [
      "\n"
     ]
    },
    {
     "data": {
      "application/vnd.jupyter.widget-view+json": {
       "model_id": "24f1368d1df045d1be11b55e0b93c732",
       "version_major": 2,
       "version_minor": 0
      },
      "text/plain": [
       "HBox(children=(HTML(value=''), FloatProgress(value=0.0, max=1.0), HTML(value='')))"
      ]
     },
     "metadata": {},
     "output_type": "display_data"
    },
    {
     "name": "stdout",
     "output_type": "stream",
     "text": [
      "\n"
     ]
    },
    {
     "data": {
      "application/vnd.jupyter.widget-view+json": {
       "model_id": "1b4d73454ea743478e89601d44b318ea",
       "version_major": 2,
       "version_minor": 0
      },
      "text/plain": [
       "HBox(children=(HTML(value=''), FloatProgress(value=0.0, max=1.0), HTML(value='')))"
      ]
     },
     "metadata": {},
     "output_type": "display_data"
    },
    {
     "name": "stdout",
     "output_type": "stream",
     "text": [
      "\n"
     ]
    },
    {
     "data": {
      "application/vnd.jupyter.widget-view+json": {
       "model_id": "9b9c57f4983b4274b98f41a5a2db8642",
       "version_major": 2,
       "version_minor": 0
      },
      "text/plain": [
       "HBox(children=(HTML(value=''), FloatProgress(value=0.0, max=1.0), HTML(value='')))"
      ]
     },
     "metadata": {},
     "output_type": "display_data"
    },
    {
     "name": "stdout",
     "output_type": "stream",
     "text": [
      "\n"
     ]
    },
    {
     "data": {
      "application/vnd.jupyter.widget-view+json": {
       "model_id": "043ac2b6c0134529844c84b1bda994cd",
       "version_major": 2,
       "version_minor": 0
      },
      "text/plain": [
       "HBox(children=(HTML(value=''), FloatProgress(value=0.0, max=1.0), HTML(value='')))"
      ]
     },
     "metadata": {},
     "output_type": "display_data"
    },
    {
     "name": "stdout",
     "output_type": "stream",
     "text": [
      "\n"
     ]
    },
    {
     "data": {
      "application/vnd.jupyter.widget-view+json": {
       "model_id": "c3888c1e75f743ea9bee994f8cfc0837",
       "version_major": 2,
       "version_minor": 0
      },
      "text/plain": [
       "HBox(children=(HTML(value=''), FloatProgress(value=0.0, max=1.0), HTML(value='')))"
      ]
     },
     "metadata": {},
     "output_type": "display_data"
    },
    {
     "name": "stdout",
     "output_type": "stream",
     "text": [
      "\n"
     ]
    },
    {
     "data": {
      "application/vnd.jupyter.widget-view+json": {
       "model_id": "3d38d1eba4b84ba4af4ff5f08ac60143",
       "version_major": 2,
       "version_minor": 0
      },
      "text/plain": [
       "HBox(children=(HTML(value=''), FloatProgress(value=0.0, max=1.0), HTML(value='')))"
      ]
     },
     "metadata": {},
     "output_type": "display_data"
    },
    {
     "name": "stdout",
     "output_type": "stream",
     "text": [
      "\n"
     ]
    },
    {
     "data": {
      "application/vnd.jupyter.widget-view+json": {
       "model_id": "64b9b17b52874bce8b66afeeaeaf9507",
       "version_major": 2,
       "version_minor": 0
      },
      "text/plain": [
       "HBox(children=(HTML(value=''), FloatProgress(value=0.0, max=1.0), HTML(value='')))"
      ]
     },
     "metadata": {},
     "output_type": "display_data"
    },
    {
     "name": "stdout",
     "output_type": "stream",
     "text": [
      "\n"
     ]
    },
    {
     "data": {
      "application/vnd.jupyter.widget-view+json": {
       "model_id": "c4045d806ac84b4b9fb3e603e9098e0d",
       "version_major": 2,
       "version_minor": 0
      },
      "text/plain": [
       "HBox(children=(HTML(value=''), FloatProgress(value=0.0, max=1.0), HTML(value='')))"
      ]
     },
     "metadata": {},
     "output_type": "display_data"
    },
    {
     "name": "stdout",
     "output_type": "stream",
     "text": [
      "\n"
     ]
    },
    {
     "data": {
      "application/vnd.jupyter.widget-view+json": {
       "model_id": "a5e145ad23b44ec5877c55e5dccfa4e6",
       "version_major": 2,
       "version_minor": 0
      },
      "text/plain": [
       "HBox(children=(HTML(value=''), FloatProgress(value=0.0, max=1.0), HTML(value='')))"
      ]
     },
     "metadata": {},
     "output_type": "display_data"
    },
    {
     "name": "stdout",
     "output_type": "stream",
     "text": [
      "\n"
     ]
    },
    {
     "data": {
      "application/vnd.jupyter.widget-view+json": {
       "model_id": "4b326c57ba614d6f9073602d5bd15984",
       "version_major": 2,
       "version_minor": 0
      },
      "text/plain": [
       "HBox(children=(HTML(value=''), FloatProgress(value=0.0, max=1.0), HTML(value='')))"
      ]
     },
     "metadata": {},
     "output_type": "display_data"
    },
    {
     "name": "stdout",
     "output_type": "stream",
     "text": [
      "\n"
     ]
    },
    {
     "data": {
      "application/vnd.jupyter.widget-view+json": {
       "model_id": "232acf281d964bc794580d518738b38a",
       "version_major": 2,
       "version_minor": 0
      },
      "text/plain": [
       "HBox(children=(HTML(value=''), FloatProgress(value=0.0, max=1.0), HTML(value='')))"
      ]
     },
     "metadata": {},
     "output_type": "display_data"
    },
    {
     "name": "stdout",
     "output_type": "stream",
     "text": [
      "\n"
     ]
    },
    {
     "data": {
      "application/vnd.jupyter.widget-view+json": {
       "model_id": "bf5dca7890774e46af64620ae66ecf19",
       "version_major": 2,
       "version_minor": 0
      },
      "text/plain": [
       "HBox(children=(HTML(value=''), FloatProgress(value=0.0, max=1.0), HTML(value='')))"
      ]
     },
     "metadata": {},
     "output_type": "display_data"
    },
    {
     "name": "stdout",
     "output_type": "stream",
     "text": [
      "\n"
     ]
    },
    {
     "data": {
      "application/vnd.jupyter.widget-view+json": {
       "model_id": "81726c007c534a83a61279d9355e0393",
       "version_major": 2,
       "version_minor": 0
      },
      "text/plain": [
       "HBox(children=(HTML(value=''), FloatProgress(value=0.0, max=1.0), HTML(value='')))"
      ]
     },
     "metadata": {},
     "output_type": "display_data"
    },
    {
     "name": "stdout",
     "output_type": "stream",
     "text": [
      "\n"
     ]
    },
    {
     "data": {
      "application/vnd.jupyter.widget-view+json": {
       "model_id": "f3cb93ff03fe49c286b521bf51173791",
       "version_major": 2,
       "version_minor": 0
      },
      "text/plain": [
       "HBox(children=(HTML(value=''), FloatProgress(value=0.0, max=1.0), HTML(value='')))"
      ]
     },
     "metadata": {},
     "output_type": "display_data"
    },
    {
     "name": "stdout",
     "output_type": "stream",
     "text": [
      "\n"
     ]
    },
    {
     "data": {
      "application/vnd.jupyter.widget-view+json": {
       "model_id": "79e811c0509c4dadaf3269641c07915c",
       "version_major": 2,
       "version_minor": 0
      },
      "text/plain": [
       "HBox(children=(HTML(value=''), FloatProgress(value=0.0, max=1.0), HTML(value='')))"
      ]
     },
     "metadata": {},
     "output_type": "display_data"
    },
    {
     "name": "stdout",
     "output_type": "stream",
     "text": [
      "\n"
     ]
    },
    {
     "data": {
      "application/vnd.jupyter.widget-view+json": {
       "model_id": "ecf1ca6f5fdc4d6c9edc441d03a40e99",
       "version_major": 2,
       "version_minor": 0
      },
      "text/plain": [
       "HBox(children=(HTML(value=''), FloatProgress(value=0.0, max=1.0), HTML(value='')))"
      ]
     },
     "metadata": {},
     "output_type": "display_data"
    },
    {
     "name": "stdout",
     "output_type": "stream",
     "text": [
      "\n"
     ]
    },
    {
     "data": {
      "application/vnd.jupyter.widget-view+json": {
       "model_id": "279aa9cbfa9a4d90946362a6d6d1d74d",
       "version_major": 2,
       "version_minor": 0
      },
      "text/plain": [
       "HBox(children=(HTML(value=''), FloatProgress(value=0.0, max=1.0), HTML(value='')))"
      ]
     },
     "metadata": {},
     "output_type": "display_data"
    },
    {
     "name": "stdout",
     "output_type": "stream",
     "text": [
      "\n"
     ]
    },
    {
     "data": {
      "application/vnd.jupyter.widget-view+json": {
       "model_id": "fb909b6db8c74077b73254a75faf8dcc",
       "version_major": 2,
       "version_minor": 0
      },
      "text/plain": [
       "HBox(children=(HTML(value=''), FloatProgress(value=0.0, max=1.0), HTML(value='')))"
      ]
     },
     "metadata": {},
     "output_type": "display_data"
    },
    {
     "name": "stdout",
     "output_type": "stream",
     "text": [
      "\n"
     ]
    },
    {
     "data": {
      "application/vnd.jupyter.widget-view+json": {
       "model_id": "3024500675e740479fcaa0b5697019df",
       "version_major": 2,
       "version_minor": 0
      },
      "text/plain": [
       "HBox(children=(HTML(value=''), FloatProgress(value=0.0, max=1.0), HTML(value='')))"
      ]
     },
     "metadata": {},
     "output_type": "display_data"
    },
    {
     "name": "stdout",
     "output_type": "stream",
     "text": [
      "\n"
     ]
    },
    {
     "data": {
      "application/vnd.jupyter.widget-view+json": {
       "model_id": "0c3821e1cb6147bda5977dde5d1736c7",
       "version_major": 2,
       "version_minor": 0
      },
      "text/plain": [
       "HBox(children=(HTML(value=''), FloatProgress(value=0.0, max=1.0), HTML(value='')))"
      ]
     },
     "metadata": {},
     "output_type": "display_data"
    },
    {
     "name": "stdout",
     "output_type": "stream",
     "text": [
      "\n"
     ]
    },
    {
     "data": {
      "application/vnd.jupyter.widget-view+json": {
       "model_id": "1f041f53e070418c94956543b6c3260b",
       "version_major": 2,
       "version_minor": 0
      },
      "text/plain": [
       "HBox(children=(HTML(value=''), FloatProgress(value=0.0, max=1.0), HTML(value='')))"
      ]
     },
     "metadata": {},
     "output_type": "display_data"
    },
    {
     "name": "stdout",
     "output_type": "stream",
     "text": [
      "\n"
     ]
    },
    {
     "data": {
      "application/vnd.jupyter.widget-view+json": {
       "model_id": "8d276cd300884914b20d2b2134e0b794",
       "version_major": 2,
       "version_minor": 0
      },
      "text/plain": [
       "HBox(children=(HTML(value=''), FloatProgress(value=0.0, max=1.0), HTML(value='')))"
      ]
     },
     "metadata": {},
     "output_type": "display_data"
    },
    {
     "name": "stdout",
     "output_type": "stream",
     "text": [
      "\n"
     ]
    },
    {
     "data": {
      "application/vnd.jupyter.widget-view+json": {
       "model_id": "9ad0f83d0a534aeb972031ad261a19f0",
       "version_major": 2,
       "version_minor": 0
      },
      "text/plain": [
       "HBox(children=(HTML(value=''), FloatProgress(value=0.0, max=1.0), HTML(value='')))"
      ]
     },
     "metadata": {},
     "output_type": "display_data"
    },
    {
     "name": "stdout",
     "output_type": "stream",
     "text": [
      "\n"
     ]
    },
    {
     "data": {
      "application/vnd.jupyter.widget-view+json": {
       "model_id": "00d4d9bbb54f4ca394d477e122358de3",
       "version_major": 2,
       "version_minor": 0
      },
      "text/plain": [
       "HBox(children=(HTML(value=''), FloatProgress(value=0.0, max=1.0), HTML(value='')))"
      ]
     },
     "metadata": {},
     "output_type": "display_data"
    },
    {
     "name": "stdout",
     "output_type": "stream",
     "text": [
      "\n"
     ]
    },
    {
     "data": {
      "application/vnd.jupyter.widget-view+json": {
       "model_id": "8abc705c91034391bc820d1a5fe46fc6",
       "version_major": 2,
       "version_minor": 0
      },
      "text/plain": [
       "HBox(children=(HTML(value=''), FloatProgress(value=0.0, max=1.0), HTML(value='')))"
      ]
     },
     "metadata": {},
     "output_type": "display_data"
    },
    {
     "name": "stdout",
     "output_type": "stream",
     "text": [
      "\n"
     ]
    },
    {
     "data": {
      "application/vnd.jupyter.widget-view+json": {
       "model_id": "2fe3c5063da14a66a074f29a21a682bc",
       "version_major": 2,
       "version_minor": 0
      },
      "text/plain": [
       "HBox(children=(HTML(value=''), FloatProgress(value=0.0, max=1.0), HTML(value='')))"
      ]
     },
     "metadata": {},
     "output_type": "display_data"
    },
    {
     "name": "stdout",
     "output_type": "stream",
     "text": [
      "\n"
     ]
    },
    {
     "data": {
      "application/vnd.jupyter.widget-view+json": {
       "model_id": "9cfe57c9e5b04e258be2772dc4d9fd24",
       "version_major": 2,
       "version_minor": 0
      },
      "text/plain": [
       "HBox(children=(HTML(value=''), FloatProgress(value=0.0, max=1.0), HTML(value='')))"
      ]
     },
     "metadata": {},
     "output_type": "display_data"
    },
    {
     "name": "stdout",
     "output_type": "stream",
     "text": [
      "\n"
     ]
    },
    {
     "data": {
      "application/vnd.jupyter.widget-view+json": {
       "model_id": "9c04160958424b238a9a9e68b5cd925f",
       "version_major": 2,
       "version_minor": 0
      },
      "text/plain": [
       "HBox(children=(HTML(value=''), FloatProgress(value=0.0, max=1.0), HTML(value='')))"
      ]
     },
     "metadata": {},
     "output_type": "display_data"
    },
    {
     "name": "stdout",
     "output_type": "stream",
     "text": [
      "\n"
     ]
    },
    {
     "data": {
      "application/vnd.jupyter.widget-view+json": {
       "model_id": "6307bbefe1c84a0ea2ec1c85204dac2e",
       "version_major": 2,
       "version_minor": 0
      },
      "text/plain": [
       "HBox(children=(HTML(value=''), FloatProgress(value=0.0, max=1.0), HTML(value='')))"
      ]
     },
     "metadata": {},
     "output_type": "display_data"
    },
    {
     "name": "stdout",
     "output_type": "stream",
     "text": [
      "\n"
     ]
    },
    {
     "data": {
      "application/vnd.jupyter.widget-view+json": {
       "model_id": "77c43f763ac44d798d13c6aa5bf9d2ad",
       "version_major": 2,
       "version_minor": 0
      },
      "text/plain": [
       "HBox(children=(HTML(value=''), FloatProgress(value=0.0, max=1.0), HTML(value='')))"
      ]
     },
     "metadata": {},
     "output_type": "display_data"
    },
    {
     "name": "stdout",
     "output_type": "stream",
     "text": [
      "\n"
     ]
    },
    {
     "data": {
      "application/vnd.jupyter.widget-view+json": {
       "model_id": "c19bcde3155f4c06944abb554601618f",
       "version_major": 2,
       "version_minor": 0
      },
      "text/plain": [
       "HBox(children=(HTML(value=''), FloatProgress(value=0.0, max=1.0), HTML(value='')))"
      ]
     },
     "metadata": {},
     "output_type": "display_data"
    },
    {
     "name": "stdout",
     "output_type": "stream",
     "text": [
      "\n"
     ]
    },
    {
     "data": {
      "application/vnd.jupyter.widget-view+json": {
       "model_id": "8159aebfcb53415d96879b8dba2d98e4",
       "version_major": 2,
       "version_minor": 0
      },
      "text/plain": [
       "HBox(children=(HTML(value=''), FloatProgress(value=0.0, max=1.0), HTML(value='')))"
      ]
     },
     "metadata": {},
     "output_type": "display_data"
    },
    {
     "name": "stdout",
     "output_type": "stream",
     "text": [
      "\n"
     ]
    },
    {
     "data": {
      "application/vnd.jupyter.widget-view+json": {
       "model_id": "5b121e363a574bf8bce291175992a4aa",
       "version_major": 2,
       "version_minor": 0
      },
      "text/plain": [
       "HBox(children=(HTML(value=''), FloatProgress(value=0.0, max=1.0), HTML(value='')))"
      ]
     },
     "metadata": {},
     "output_type": "display_data"
    },
    {
     "name": "stdout",
     "output_type": "stream",
     "text": [
      "\n"
     ]
    },
    {
     "data": {
      "application/vnd.jupyter.widget-view+json": {
       "model_id": "43ba342cc2dc4f1ea537dd725d117a16",
       "version_major": 2,
       "version_minor": 0
      },
      "text/plain": [
       "HBox(children=(HTML(value=''), FloatProgress(value=0.0, max=1.0), HTML(value='')))"
      ]
     },
     "metadata": {},
     "output_type": "display_data"
    },
    {
     "name": "stdout",
     "output_type": "stream",
     "text": [
      "\n"
     ]
    },
    {
     "data": {
      "application/vnd.jupyter.widget-view+json": {
       "model_id": "14acf6349cd54dc491055d0228a4a11e",
       "version_major": 2,
       "version_minor": 0
      },
      "text/plain": [
       "HBox(children=(HTML(value=''), FloatProgress(value=0.0, max=1.0), HTML(value='')))"
      ]
     },
     "metadata": {},
     "output_type": "display_data"
    },
    {
     "name": "stdout",
     "output_type": "stream",
     "text": [
      "\n"
     ]
    },
    {
     "data": {
      "application/vnd.jupyter.widget-view+json": {
       "model_id": "6bc0b93d53894f60bb4e6a1608976221",
       "version_major": 2,
       "version_minor": 0
      },
      "text/plain": [
       "HBox(children=(HTML(value=''), FloatProgress(value=0.0, max=1.0), HTML(value='')))"
      ]
     },
     "metadata": {},
     "output_type": "display_data"
    },
    {
     "name": "stdout",
     "output_type": "stream",
     "text": [
      "\n"
     ]
    },
    {
     "data": {
      "application/vnd.jupyter.widget-view+json": {
       "model_id": "70019c1d6af8492c81ce16db3b055f70",
       "version_major": 2,
       "version_minor": 0
      },
      "text/plain": [
       "HBox(children=(HTML(value=''), FloatProgress(value=0.0, max=1.0), HTML(value='')))"
      ]
     },
     "metadata": {},
     "output_type": "display_data"
    },
    {
     "name": "stdout",
     "output_type": "stream",
     "text": [
      "\n"
     ]
    },
    {
     "data": {
      "application/vnd.jupyter.widget-view+json": {
       "model_id": "6c3018bc8d2748b2a63c87e70ef5a5a8",
       "version_major": 2,
       "version_minor": 0
      },
      "text/plain": [
       "HBox(children=(HTML(value=''), FloatProgress(value=0.0, max=1.0), HTML(value='')))"
      ]
     },
     "metadata": {},
     "output_type": "display_data"
    },
    {
     "name": "stdout",
     "output_type": "stream",
     "text": [
      "\n"
     ]
    },
    {
     "data": {
      "application/vnd.jupyter.widget-view+json": {
       "model_id": "5276bbd16bfb4056aa6afadf80837963",
       "version_major": 2,
       "version_minor": 0
      },
      "text/plain": [
       "HBox(children=(HTML(value=''), FloatProgress(value=0.0, max=1.0), HTML(value='')))"
      ]
     },
     "metadata": {},
     "output_type": "display_data"
    },
    {
     "name": "stdout",
     "output_type": "stream",
     "text": [
      "\n"
     ]
    },
    {
     "data": {
      "application/vnd.jupyter.widget-view+json": {
       "model_id": "f85f28293d18430eb50af2e2721417e3",
       "version_major": 2,
       "version_minor": 0
      },
      "text/plain": [
       "HBox(children=(HTML(value=''), FloatProgress(value=0.0, max=1.0), HTML(value='')))"
      ]
     },
     "metadata": {},
     "output_type": "display_data"
    },
    {
     "name": "stdout",
     "output_type": "stream",
     "text": [
      "\n"
     ]
    },
    {
     "data": {
      "application/vnd.jupyter.widget-view+json": {
       "model_id": "7ed2cec2d6004cdcbe1f13f0a087ab15",
       "version_major": 2,
       "version_minor": 0
      },
      "text/plain": [
       "HBox(children=(HTML(value=''), FloatProgress(value=0.0, max=1.0), HTML(value='')))"
      ]
     },
     "metadata": {},
     "output_type": "display_data"
    },
    {
     "name": "stdout",
     "output_type": "stream",
     "text": [
      "\n"
     ]
    },
    {
     "data": {
      "application/vnd.jupyter.widget-view+json": {
       "model_id": "85fb8517432e451796e82f98c01bab9d",
       "version_major": 2,
       "version_minor": 0
      },
      "text/plain": [
       "HBox(children=(HTML(value=''), FloatProgress(value=0.0, max=1.0), HTML(value='')))"
      ]
     },
     "metadata": {},
     "output_type": "display_data"
    },
    {
     "name": "stdout",
     "output_type": "stream",
     "text": [
      "\n"
     ]
    },
    {
     "data": {
      "application/vnd.jupyter.widget-view+json": {
       "model_id": "02a21338d1c64ac5b20ff72c40b69f65",
       "version_major": 2,
       "version_minor": 0
      },
      "text/plain": [
       "HBox(children=(HTML(value=''), FloatProgress(value=0.0, max=1.0), HTML(value='')))"
      ]
     },
     "metadata": {},
     "output_type": "display_data"
    },
    {
     "name": "stdout",
     "output_type": "stream",
     "text": [
      "\n"
     ]
    },
    {
     "data": {
      "application/vnd.jupyter.widget-view+json": {
       "model_id": "3d29732ab2864838a7141d8ee7c45b09",
       "version_major": 2,
       "version_minor": 0
      },
      "text/plain": [
       "HBox(children=(HTML(value=''), FloatProgress(value=0.0, max=1.0), HTML(value='')))"
      ]
     },
     "metadata": {},
     "output_type": "display_data"
    },
    {
     "name": "stdout",
     "output_type": "stream",
     "text": [
      "\n"
     ]
    },
    {
     "data": {
      "application/vnd.jupyter.widget-view+json": {
       "model_id": "e8f168bc8807403aab542d865024a482",
       "version_major": 2,
       "version_minor": 0
      },
      "text/plain": [
       "HBox(children=(HTML(value=''), FloatProgress(value=0.0, max=1.0), HTML(value='')))"
      ]
     },
     "metadata": {},
     "output_type": "display_data"
    },
    {
     "name": "stdout",
     "output_type": "stream",
     "text": [
      "\n"
     ]
    },
    {
     "data": {
      "application/vnd.jupyter.widget-view+json": {
       "model_id": "681b2ecd657240adbe929cede43befaf",
       "version_major": 2,
       "version_minor": 0
      },
      "text/plain": [
       "HBox(children=(HTML(value=''), FloatProgress(value=0.0, max=1.0), HTML(value='')))"
      ]
     },
     "metadata": {},
     "output_type": "display_data"
    },
    {
     "name": "stdout",
     "output_type": "stream",
     "text": [
      "\n"
     ]
    }
   ],
   "source": [
    "headlines=inp\n",
    "all_article_labels=[]\n",
    "for i in range(0,len(article_wise_scores)):\n",
    "    article=article_wise_scores[i][0]\n",
    "    articles_labels=[]\n",
    "    for j in range(0,len(article)):\n",
    "        bodies=article[j][0]\n",
    "        x=model.predict(\n",
    "            [\n",
    "                [\n",
    "                    headlines,\n",
    "                    bodies\n",
    "                ]\n",
    "            ]\n",
    "        )\n",
    "        articles_labels.append(x[0][0])\n",
    "    all_article_labels.append(articles_labels)\n"
   ]
  },
  {
   "cell_type": "code",
   "execution_count": 26,
   "metadata": {
    "scrolled": false
   },
   "outputs": [
    {
     "data": {
      "text/plain": [
       "[[0, 0, 0, 0, 1],\n",
       " [0, 0, 3, 3, 2],\n",
       " [0, 0, 0, 0, 0],\n",
       " [1, 1, 1, 2, 0],\n",
       " [0, 0, 1, 0, 0],\n",
       " [1, 3, 1, 0, 3],\n",
       " [0, 0, 3, 0, 0]]"
      ]
     },
     "execution_count": 26,
     "metadata": {},
     "output_type": "execute_result"
    }
   ],
   "source": [
    "all_article_labels"
   ]
  },
  {
   "cell_type": "code",
   "execution_count": 37,
   "metadata": {},
   "outputs": [],
   "source": [
    "dic={0:0,1:0,2:0,3:0}\n",
    "mapped={0:\"agree\",1:\"disagree\",2:\"discuss\",3:\"unrelated\"}"
   ]
  },
  {
   "cell_type": "code",
   "execution_count": 28,
   "metadata": {},
   "outputs": [],
   "source": [
    "for i in all_article_labels:\n",
    "    for j in i:\n",
    "        dic[j]+=1"
   ]
  },
  {
   "cell_type": "code",
   "execution_count": 29,
   "metadata": {},
   "outputs": [
    {
     "data": {
      "text/plain": [
       "{0: 21, 1: 7, 2: 2, 3: 5}"
      ]
     },
     "execution_count": 29,
     "metadata": {},
     "output_type": "execute_result"
    }
   ],
   "source": [
    "dic"
   ]
  },
  {
   "cell_type": "code",
   "execution_count": 38,
   "metadata": {},
   "outputs": [
    {
     "name": "stdout",
     "output_type": "stream",
     "text": [
      "agree\n"
     ]
    }
   ],
   "source": [
    "print(mapped[max(dic, key=dic.get)])"
   ]
  },
  {
   "cell_type": "code",
   "execution_count": 30,
   "metadata": {},
   "outputs": [
    {
     "data": {
      "text/plain": [
       "['A video shared online has claimed that the coronavirus pandemic is a hoax and part of a conspiracy to control the general public. This is false. A post sharing the video can be viewed here (here). The opening sequence shows billionaire philanthropist Bill Gates, warning that “we will have to prepare” for the next pandemic. The narrator then uses points to argue that the pandemic was planned, and claims it is a hoax that is being used as an excuse to control the general public. CLAIM 1 - THE VIRUnited States  THAT CAUnited States ES COVID-19 HASN’T BEEN IDENTIFIED OR ISOLATED “They’ve never isolated it or actually identified this virus as actually existing, so the whole thing is just a big scam”, the narrator claims (here). This is not true. Severe acute respiratory syndrome coronavirus 2 (SARS-CoV-2) is the name of the virus that causes the disease COVID-19 (here). According to the World Health Organization (WHO), the virus was identified by Chinese authorities on January 7, 2020 (tinyurl.com/y5at3vke). CLAIM 2 - TEST FOR COVID-19 BROADLY TESTS FOR RNA VIRUnited States ES AND GENETIC MATERIAL “Of course, the more people they test, then the more people are going to test positive because they’re just testing for RNA viruses and genetic material”, the narrator alleges (here). It is false that the COVID-19 test broadly detects all RNA viruses rather than SARS-CoV-2 specifically. An RNA virus is a virus that has RNA as its genetic material (here). Human diseases caused by RNA viruses include COVID-19 (here), SARS, influenza and Ebola disease (here). The Polymerase Chain Reaction (PCR) test used to detect SARS-CoV-2 works by detecting the presence of its RNA in the swab sample (here). Each virus has its own pattern of RNA material, and the test for coronavirus tests for the RNA material of SARS-CoV-2 specifically. “All deaths are basically being labelled as COVID deaths now whether they are or not. All you have to do is test positive for this genetic material in your body and it’ll say COVID-19” (here). In the UK, data on COVID-19 deaths published by the Office of National Statistics (ONS) includes deaths “involving COVID-19”. This includes deaths that have COVID-19 mentioned anywhere on the death certificate, whether it is an underlying cause or not (here). However, the ONS says that: “In the majority of cases (46,736 deaths, 92.8%) where COVID-19 was mentioned on the death certificate, it was found to be the underlying cause of death”. It is wrong to say that all deaths are being recorded as COVID deaths. One indication of how many deaths have been caused by the pandemic is the number of ‘excess deaths’ recorded, or additional deaths compared to the number usually expected during a given time period. An ONS report shows that England and Wales saw spikes in the number of excess deaths that reflect the number of COVID-19 deaths that were reported at that time (see Figure 2) (here). In June, the ONS reported that there were around 64,500 excess deaths across the UK for the time of year using a five-year average, though the figure is now likely to be higher (here). False. The coronavirus pandemic is not a hoax; it is a global outbreak caused by the virus SARS-CoV-2. This article was produced by the Reuters Fact Check team. Read more about our work to fact-check social media posts here . ',\n",
       " 'CLAIM: COVID-19 is “the greatest hoax ever perpetrated” and “just another bad flu.” Roger Hodkinson, a pathologist who identifies himself as a former chairman of the Royal College of Physicians and Surgeons of Canada, made the comments by phone during a public meeting in Edmonton, the capital of Alberta, Canada. AP’S ASSESSMENT: False. Not only is COVID-19 deadlier than the flu, but symptoms last longer, according to medical experts. Also, Hodkinson has never been chairman of the Royal College of Physicians and Surgeons of Canada, the group said. THE FACTS: On November 13, while city councilors in Edmonton met to discuss extending the law that requires people to wear face coverings in public places, people phoned in to oppose the mandate. Among them was a caller who introduced himself as Hodkinson. “There is utterly unfounded public hysteria driven by the media and politicians,” said Hodkinson, identifying himself as the former chairman of the Royal College of Physicians and Surgeons of Canada and the CEO of a biotech company in North Carolina that sells COVID-19 tests. He also called COVID-19 “the greatest hoax ever perpetrated on an unsuspecting public…” Hodkinson went on to say that COVID-19 was just “another bad flu” and that “masks were utterly useless” and that “there is no evidence base for their effectiveness whatsoever.” His false comments were recorded, posted on YouTube and then spread on social media. “Top pathologist Doctor Roger Hodkinson told Canadian government officials in Alberta during a phone conference that the coronavirus pandemic is ‘the greatest hoax ever perpetrated on an unsuspecting public,’” stated an Instagram post that shared the false claims. The post had more than 26,000 likes. But health officials widely agree that the coronavirus is much more dangerous than the flu. “This [COVID-19] is very different from influenza, much higher mortality, much higher morbidity if you survive it,” said Doctor Luis Ostrosky-Zeichner, a professor of infectious diseases at McGovern Medical School at the University of Texas Health Science Center in Houston. “There’s no sort of long-lasting effects of influenza either. It’s a completely wrong assertion.” On November 20, the Royal College of Physicians and Surgeons of Canada clarified that although Hodkinson was certified as a general pathologist in 1976, he was never a chairman. “We would like to clarify that Doctor Hodkinson is not nor has ever held the position of chairman of the Royal College of Physicians and Surgeons of Canada,” the organization said in a statement. Members of the Alberta Medical Association also refuted Hodkinson’s claims on Twitter on November 23: “The#Alberta Section of Laboratory Physicians endorses the use of masks, hand washing and physical distancing along with all other public health measures to prevent the spread of#COVID19.” Hodkinson said that he was CEO of a biotechnology company in North Carolina. He is listed as the executive chairman of MutantDX, which is based in Greensboro, North Carolina. According to the license on North Carolina’s secretary of state’s website, the business is active. However, the address listed on the license leads to a condominium complex. The Associated Press reached out to Hodkinson at a business in Edmonton where he is listed as the CEO, but no response had been received at the time of publication. Hodkinson’s claim that masks are “useless” is false. Studies show that masks work to slow the spread of the virus. The United States Centers for Disease Control and Prevention has long advised people to wear masks. In November, the CDC said that masks can also protect wearers who are not infected. ___ This is part of The Associated Press’ ongoing effort to fact-check misinformation that is shared widely online, including work with Facebook to identify and reduce the circulation of false stories on the platform. Here’s more information on Facebook’s fact-checking program: https://www.facebook.com/help/1952307158131536 ',\n",
       " \"On the last Friday of February 2020, United States President Donald Trump held a campaign rally in South Carolina and made comments during a speech in which he accused Democrats of “politicizing” the coronavirus outbreak that left many with the impression that he had referred to the virus itself as a “hoax.” Various news media outlets and personalities reported that he did so, including syndicated columnist Dana Milbank, who tweeted: Likewise, Politico ran a story headlined “Trump rallies his base to treat coronavirus as a ‘hoax.'” And in an article headlined “Trump calls coronavirus Democrats’ ‘new hoax,'” NBC News correspondent Lauren Egan wrote: “President Donald Trump accused Democrats of ‘politicizing’ the deadly coronavirus during a campaign rally here on Friday, claiming that the outbreak is ‘their new hoax’ as he continued to downplay the risk in the United States ” These prompted inquiries from Snopes readers who asked us to verify the accuracy of the claim. Trump held the rally on February 28 on the eve of the South Carolina Democratic primary, which former Vice President Joe Biden ultimately won. During his roughly one-hour, 20-minute commentary, Trump hit back at his political opponents in the Democratic Party for their critiques of his administration’s handling of a potential pandemic. Here are Trump’s exact words on the topic at the South Carolina rally: Now the Democrats are politicizing the coronavirus. You know that, right? Coronavirus. They’re politicizing it. We did one of the great jobs. You say, ‘How’s President Trump doing?’ They go, ‘Oh, not good, not good.’ They have no clue. They don’t have any clue. They can’t even count their votes in Iowa, they can’t even count. No they can’t. They can’t count their votes. One of my people came up to me and said, ‘Mister  President, they tried to beat you on Russia, Russia, Russia. That didn’t work out too well. They couldn’t do it. They tried the impeachment hoax. That was on a perfect conversation. They tried anything, they tried it over and over, they’ve been doing it since you got in. It’s all turning, they lost, it’s all turning. Think of it. Think of it. And this is their new hoax. But you know, we did something that’s been pretty amazing. We’re 15 people [cases of coronavirus infection] in this massive country. And because of the fact that we went early, we went early, we could have had a lot more than that. In context, Trump did not say in the passage above that the virus itself was a hoax. He instead said that Democrats’ criticism of his administration’s response to it was a hoax. He muddied the waters a few minutes later, however, by comparing the number of coronavirus fatalities in the United States (none, at that point in time) to the number of fatalities during an average flu season, and accusing the press of being in “hysteria mode”: So a number that nobody heard of that I heard of recently and I was shocked to hear it, 35,000 people on average die each year from the flu. Did anyone know that? 35,000. That’s a lot of people. It could go to 100,000, it could be 27,000, they say usually a minimum of 27, it goes up to 100,000 people a year who die, and so far we have lost nobody to coronavirus in the United States. Nobody. And it doesn’t mean we won’t, and we are totally prepared, it doesn’t mean we won’t. But think of it. You hear 35 and 40,000 people, and we’ve lost nobody, and you wonder, the press is in hysteria mode. For his part, Trump later defended his comments by stating he was indeed calling out the Democrats’ efforts to blame him and his administration for what they have characterized as an inadequate response “because we’ve done such a good job.” Trump did however downplay the scale of the virus and the danger it posed to the public. At the time he made his remarks, the United States had 57 confirmed coronavirus cases, 40 of which came from the Diamond Princess cruise ship, which experienced an outbreak of the virus. And health officials were warning that the spread of the virus domestically was “inevitable.” The novel coronavirus infection has been a fast-moving crisis. Just hours after Trump’s rally in South Carolina, the United States had its first coronavirus death. As of this writing (at the beginning of March 2020), six people in the United States have died from the COVID-19, the disease caused by coronavirus. Globally, more than 80,000 cases have been identified and 3,000 people have died, while experts have warned the outbreak of the virus could become a pandemic. Although Trump made a reference to seasonal flu death rates, COVID-19, which was first detected in the winter of 2019 in Wuhan, China, appears so far to be more lethal. And because the virus is new, no vaccine or treatment exists for it. \",\n",
       " 'The race to develop a cure for Covid-19 is in full swing with more than 150 coronavirus vaccine candidates being developed worldwide, 26 of them in the human trial phase. On social media, a message has gone viral warning people not to use the Covid-19 vaccine as a microchip will be implanted in the body along with the vaccine. In a video accompanying the post, a man claiming to be a project engineer says he was part of the team that developed the microchip. The nearly 8-minute-long video clip has been posted by several Facebook users with the caption, \"A project engineer who made the microchip that will soon be implemented along with the covid vaccine WARNS United States NOT TO TAKE IT. Please listen carefully to his story and his message in this video.. After watching, please share also to save lives. God bless!\" Referring to the Bible, the speaker claims over a million dollars of taxpayers\\' money was spent on the chip but no one should take it as it is a \"mark of the beast\". India Today Anti Fake News War Room (AFWA) has found the video to be almost 12 years old. The speech was being given by an American pastor named Carl Sanders. It is true that he was speaking about microchips but there was no reference to Covid-19. The archived versions of the posts can be seen here and here. OLD AND UNRELATED VIDEO A closer look at the video gives us more reasons to be suspicious about the viral claim. The video has been altered as there are several jump cuts. At 7 minutes and 17 seconds, the audience behind the speaker and interpreter disappeared, and so did the flower on the pulpit in front of the speaker. The speaker, at no point in the video, says the microchip will be implanted along with the Covid-19 vaccine. In fact, he does not mention Covid-19 or coronavirus in his entire speech. With the help of InVID and reverse image search, we found that the video is at least 12 years old. The original video is much longer than the viral one and was uploaded in several parts on YouTube. The entire speech by American pastor Carl Sanders was uploaded by multiple YouTubers in several parts. One such YouTube video, posted in 2008, is titled \"Carl Sanders - Mark of The Beast (666) [Part 3 / 28]\". In this original video, we found his speech on the microchip was being interpreted simultaneously by another man. But these interpretations were edited out in the viral video. Using relevant keywords, we found articles published as early as 2002 on Carl Sanders\\'s theory of the impending danger of microchip implantation in humans. As per these articles, Doctor Carl W. Sanders was an electronics engineer and an inventor, who had worked for many government organisations and private firms such as IBM and General Electric. For 32 years, he had worked in the field of bio-medicine, focusing on microchips. But the viral video is in no way connected to the Covid-19 pandemic. Earlier, global news agency Reuters had debunked a conspiracy theory that claimed microchips would be implanted with Covid-19 vaccines. ',\n",
       " 'Some hoaxes and rumours that have circulated related to the COVID-19 pandemic: - Fit people are not immune to COVID-19 - No evidence flu vaccines make children more vulnerable to coronavirus infections - Canadian children are not separated from parents if they have to quarantine due to COVID-19 - Misleading claims about COVID-19 vaccine spread by \\'Plandemic\\' video. // New \\'Plandemic\\' film promotes coronavirus conspiracy theory. // \\'Plandemic\\' video peddles falsehoods about COVID-19. - Bill Gates does not seek \\'digital tatoos\\' for people tested for COVID-19 // nor did he say a vaccine could kill nearly one million people - A flu shot will not make you test positive for COVID-19 // flu shots do not make people more vulnerable to infections // beware of misinformation on flu shot ingredients - 5G technology did not create the novel coronavirus and viral outbreaks in the last 100 years are not aligned with the introduction of new telecommunications technologies and there is no evidence 5G radiation is harmful to human health and 5G mobile phones will not work off microchips secretly implanted under the skin by vaccination for COVID-19 - Senegalese children did not die from a coronavirus vaccine (which does not yet exist as of April 10, 2020) // neither did children in Guinea - The CDC in the United States did not cut Covid-19 death toll by 94 percent. More here. - The World Health Organization has not been kicked out of Tanzania. More here. - Misleading claims about COVID-19 vaccine spread by ‘Plandemic’ video. More here. - Fake WHO document shared in anti-mask posts. More here. - Misleading claim circulates on Facebook about dangers of face masks alongside photos of skin conditions. More here. - New ‘Plandemic’ film promotes coronavirus conspiracy theory. More here. - Misleading claim circulates online about Philippine Health Department\\'s guidelines for face shields. More here. - False claim circulates on Facebook that Australians \\'will be fined if they discuss COVID-19 conspiracies\\'. More here. - Misleading claim circulates online that Singapore has \\'banned\\' sale of United States produce due to coronavirus. More here. - Face mask use does not lead to Legionnaires’ disease. More here. - United States far from reaching herd immunity for COVID-19. More here. - False claim circulates online that Australian government paid nursing homes to register deaths as caused by COVID-19. More here. - Canadian children with COVID-19 symptoms can quarantine with a parent or guardian. More here. - Hoax circulates online that vaccines have caused deaths in the Philippines. More here. - Comments on coronavirus measures falsely attributed to Fox News host Tucker Carlson. More here. - False claim circulates online in the Philippines that Canada is ‘free’ of the novel coronavirus. More here. - Discredited scientific paper behind false claims on COVID-5G link. More here. - No evidence flu vaccines make children more vulnerable to coronavirus infections. More here. - United States health expert Doctor Anthony Fauci did not \\'know\\' about effective coronavirus treatments in 2005. More here. - False claim circulates on Facebook that \\'viruses do not harm or kill\\' people. More here. - Tips on safe sex during COVID-19 pandemic misrepresented in Canadian Facebook post. More here. - The United States is not testing a COVID-19 vaccine on Ukrainian soldiers. More here. - Members of United States Congress did not receive quarantine exemption for John Lewis’s funeral. More here. - Misleading claim circulates online comparing severity of COVID-19 with swine flu. More here. - Fit people are not immune to COVID-19. More here. - Social media posts misquote face mask advice from international health authorities and academics. More here. - Wearing a face mask does not put you at risk of developing pleurisy, health experts say. More here. - New Zealand has not authorised troops to enter homes to enforce COVID-19 quarantine. More here. - Hoax posts offer hazard pay to United States pandemic workers. More here. - Corpses infected with COVID-19 do not ge more infectious over time. More here. - Holy communion has not been banned in Toronto. More here. - Misleading claim circulates that the Philippines has cancelled school classes until 2021 due to COVId-19. More here. - False claim circulates online that China is no longer hospitalising COVID-19 patients. More here. - Nokia latest hit by Facebook scam claiming phone giveaway for students during the pandemic. More here. - Fake police bulletin about \\'face mask scam\\' circulates worldwide. More here. - Mask misinformation spreads in the United States as cases spike. More here. - Misleading claim circulates about the accuracy of COVID-19 tests in Australia. More here. - List of unsubstantiated COVID-19 treatments circulates online. More here. - Disgraced United States researcher Judy Mikovits makes latest false claims about vaccine safety. More here. - These \\'virus removal cards\\' do not prevent COVID-19. More here. - Bill Gates does not plan to \\'microchip the vaccine\\' to create \\'virtual IDs.\\' More here. - Phones are not being given out for pandemic education in Nigeria. More here. - CDC did not add flu and pneumonia deaths to COVID-19 toll. More here. - Map used to make misleading comparison of COVID-19 spread in United States , Canada. More here. - Hoax circulates about \\'Latin translation\\' of COVID-19. More here. - Rwanda leader Paul Kagame did not oppose WHO over virus tonic. More here. - Israel has not reported zero deaths from COVID-19. More here. - Fresh false claims about COVID-19 vaccine and 5G technology spread online in the Philippines. More here. - Hoax circulates that India\\'s capital region will be placed under new four-week lockdown. More here. - Meme misleads on long-term effects of wearing a mask. More here. - South Sudan leaders have not flown abroad for COVID-19 treatment. More here. - Android users in Australia have not been automatically signed up to COVIDSafe app. More here. - As United States faces COVID-19 spike, outdated mask information spreads online. More here. - Misinformation about reimposing strict COVID-19 lockdown in Metro Manila circulates online. More here. - Nigerian government has not announced that schools will reopen on July 13. More here. - Conspiracy theories circulate about 5G \\'microchip implants.\\' More here. - Myth circulates that Italy has discovered that COVID-19 is a bacteria, curable by paracetamol. More here. - Misleading social media posts claim adverse health effects of face masks. More here. - Taiwanese doctors have not discovered that COVID-19 is a \\'combination of SARS and AIDS.\\' More here. - Vaccines do not violate the Nurembert Code. More here. - Coronavirus \\'survival rates\\' remain unknown, experts say. More here. - Misinformation circulates about Japan\\'s plan to subsidize tourism after coronavirus lockdown is lifted. More here. - United States President Donald Trump did not offer Madagascar $2.5 million to develop its COVID-19 herbal remedy. More here. - Italian politician spreads false claims about Bill Gates in parliament speeches. More here. - Misleading claim circulates about coronavirus contact tracing app in New Zealand. More here. - China and Japan have not re-entered national lockdowns because of COVID-19 (as of May 25). More here. - UN has not conditioned humanitarian aid to Ecuador on the country legalizing abortions. More here. - Hoax list of COVID-19 \\'safety guidelines\\' circulates in India. More here. - Hoax government notice circulates in the Philippines about the civil service exam during the COVID-19 pandemic. More here. - Hoax circulates about new COVID-19 \\'law\\' in Western Australia. More here. - Post falsely claims there were no United States flu deaths during the COVID-19 crisis. More here. - Gates Foundation targeted with misleading claims about India polio vaccine campaign. More here. - Misinformation circulates about babies contracting Kawasaki disease during the COVID-19 pandemic. More here. - Hoax circulates that Australian $10 notes feature images of coronavirus and Bill Gates. More here. - Nigeria did not impose a curfew to set up 5G masts; the curfew was aimed at slowing the spread of the novel coronavirus and 5G networks have not yet been set up in the country (as of May 21). More here. - Wearing a mask is not mandatory in Canada during the COVID-19 pandemic. More here. - Misleading list showing viral outbreaks which purportedly originated in China from 1950 to 2019. More here. - Fake \\'roadmap\\' for India to relax coronavirus lockdown circulates online. More here. - Misleading article warns against face masks during the COVID-19 pandemic. More here. - United States Vice President Mike Pence did not deliver empty boxes to a hospital during the COVID-19 pandemic. More here. - Bill Gates did not say that a COVID-19 vaccine could kill nearly a million people. More here. - Misleading posts circulate about the effectiveness of face masks in the United States . More here. - Misleading claim that Thailand tops global index for COVID-19 response and has the lowest number of coronavirus cases. More here. - African mistrust of Western vaccines threatens coronavirus fight. More here. - Chilren in Guinea did not die from a COVID-19 vaccine (a vaccine does not exist for the disease as of May 18, 2020). More here. - Bill Gates is not seeking \\'digital tattoos\\' for people who have tested for COVID-19. More here. - Ghana leader falsely claims his country fronts Africa\\'s COVID-19 testing. More here. - \\'Plandemic\\' video peddles falsehoods about COVID-19. More here. - United States authorities have not cut the reported COVID-19 death toll. More here. - Flu vaccines do not make people more vulnerable to infections. More here. - Vegetarians are immune to COVID-19? It\\'s a hoax. More here. - Flu shot will not make you test positive for COVID-19. More here. - Misinformation on United States flu shot ingredients resurfaces during COVID-19 pandemic. More here. - Hoax message circulates about Australia\\'s coronavirus contact-tracing app. More here. - Nobel laureate Tasuku Honjo refutes \\'false\\' quote attributed to him about the novel coronavirus. More here. - A New York funeral home employee was not accidentally cremated during the COVID-19 pandemic. More here. - Posts misrepresent eligibility for United States COVID-19 stimulus payments. More here. - Britain\\'s first coronavirus vaccine volunteer has not died after the trial jab. More here. - Pakistani plane did not transport Sri Lankan students home after COVID-19 lockdown. More here. - Fake hiring phone numbers shared online in United States as umeployment surges during the COVID-19 pandemic. More here. - COVID-19 symptoms do not progress in three distinct stages in all patients. More here. - Misleading claim circulates online about Wuhan death toll after lockdown eased. More here. - Coronavirus pandemic triggers wave of Islamic-themed myths on social media. More here. - There is no evidence that 5G radiation is harmful to human health. More here. - Children in Canada with COVID-19 are not admitted in hospitals alone; there is an exception for a parent or guardian for pediatric patients. More here. - False advice on refusing vaccines circulates in United States , Canada and Australia during the COVID-19 pandemic. More here. - A 5G deal between the UK and the Chinese tech company Huawei has not been cancelled. More here. - Misleading coronavirus information falsely attributed to Johns Hopkins, a leading source of information on COVID-19. More here. - United States President Donald Trump, much criticized over his response to the COVID-19 pandemic, did not post this tweet about H1N1 crisis in 2009. More here. - Children with COVID-19 in the United States do not have to be hospitalized alone. More here. - Hoax circulates that viral outbreaks are linked to new telecommunication technologies and that COVID-19 is linkd to the rollout of 5G. More here. - China did not send COVID-19 vaccines to Burundi (a vaccine for the disease does not exist as of April 21). More here. - The World Bank did not praise Tanzania\\'s anti-coronavirus policies. More here. - This pharmacist in India did not die of COVID-19-related violence. More here. - Singapore did not fine people for not wearing face masks before April 14, when the masks were made mandatory in the city state. More here. - The World Health Organization (WHO) does not recommend drinking alcohol to help prevent COVID-19, despite what a Kenya governor says. More here. - Pet owners should not avoid touching their animals after using hand sanitiser. More here. - Disposable surgical masks are not reversible. More here. - Myth spreads online that Australian supermarkets have banned Chinese nationals during the COVID-19 pandemic. More here. - Doctor Anthony Fauci, the head of the United States National Institute of Allergy and Infectious Diseases, is not alone in saying the drug hydroxychloroquine is unproven as treatment against COVIE-19. More here. - Fake phone \\'helplines\\' to track United States stimulus payments greet callers with offers of phone sex. More here. - Graphic doctored that quoted Philippine President Rodrigo Duterte saying that COVID-19 support payments have been competed. More here. - Nigeria\\'s ex-vice president did not promise to pay citizens to stay home during the COVID-19 outbreak. More here. - United States Democrats did vote for legislation to combat the novel coronavirus crisis. More here. - South Sudan\\'s chief justice and his family have tested negative for COVID-19 (as of April 15). More here. - India has not outlawed social media posts about COVID-19. More here. - Misinformation in Thailand about police powers to fine people who fail to wear face masks in public. More here. - An old Indian textbook does not list treatments for COVID-19. More here. - A newspaper did not claim that an Indian Muslim leader donated to Indian PM\\'s COVID-19 relief fund; the image of the front page has been doctored. More here. - A recovered COVID-19 patient did not violate a home quarantine order in Sri Lanka. More here. - Misinformation circulates about Malaysia\\'s coronavirus relief package for its citizens. More here. - False \\'facts\\' on United States Postal Service finances resurface amid disputre over funding to help it through the COVID-19 pandemic. More here. - Senegalese children did not die from a novel coronavirus vaccine (which as of April 10, 2020, does not yet exist). More here. - The World Health Organization (WHO) did not issue this \\'protocol\\' for COVID-19 lockdown. More here. - Beijing and Shanghai have not been \\'untouched\\' by COVID-19. More here. - Nigeria did not spend 1 billion naira on a COVID-19 text message awareness campaign. More here. - South Africa\\'s leader did not ask foreigners to leave the country due to COVID-19. More here. - A Philippine hospital did not find a correlation between grocery shopping and COVID-19 among its patients. More here. - This non-profit hospital in Pakistan said it did not charged patients for COVID-19 tests. More here. - Britain\\'s Queen Elizabeth did not mention the Philippines in her speech on the novel coronavirus. More here. - An UAE sultan in Sharjah did not ban the burial of COVID-19 victims. More here. - A French doctor did not urge Africans to avoid taking \"Bill Gates vaccine\" against the novel coronavirus. More here. - This Sri Lankan spice manufacturer has used this logo since 2007; it is not a logo of a political party that was printed in COVID-19 ration kits. More here. - Nigerian health authority denounces fake social media accounts that have sprung up during the coronavirus pandemic. More here. - These Muslims at a mosque in Sri Lanka did not react violently when authorities told them their gathering was in violation of the country\\'s coronavirus curfew. More here. - United States billionaire philanthropist Bill Gates did not issue this \"open letter\" about the novel coronavirus pandemic. More here. - No evidence that COVID-19 is transmitted through fruits and vegetables. More here. - Funerals for COVID-19 victims are not banned in Pakistan (as of April 8). More here. - Misleading claims that purport to compare lockdown measures and status of the pandemic in Asian countries including South Korea, Japan and the Philippines. More here. - The CEOs of these companies did not resign during the novel coronavirus crisis. More here. - This South African hospital did not find COVID-19 on fresh produce. More here. - This is not a 19th century poem about self-isolation, it was written specifically about the COVID-19 pandemic. More here. - The Nigerian leader has not tested positive for the coronavirus (as of April 6), this CNN broadcast has been doctored. More here. - The Indian government has not banned coronavirus-related posts on social media. More here. - 5G wireless technology did not create the novel coronavirus -- it is based on radio frequency, which does not create viruses. More here. - The global environmental movement Extinction Rebellion did not issue a poster saying that \"Corona is the cure, humans are the disease.\" More here. - A new vaccine and a new drug have not been developed to treat the novel coronavirus, as claimed by multiple posts in Asia (as of April 3). More here. - Singapore is not spot fining people violating social distancing orders. More here. - Ventilators are not \"stuck\" in a New York warehouse, NY authorities are stockpiling supplies and those in the photo were sent to hospitals within 24 hours of arriving at the facility. More here. - Ethiopia has not approved traditional medicine to treat COVID-19. More here. - The United States has not arrested a Chinese scientist who \"created\" the novel coronavirus. More here. - The World Health Organization (WHO) did not warn against eating cabbage during the novel coronavirus pandemic. More here. - An ice rink outside of the city of Adelaide in Australia has not been turned into a morgue (as of April 2). More here. - People with pre-existing respiratory conditions will not receive a \"rescue pack\" of medicatin from their doctors in Australia unless previously prescribed. More here. - Calling this numer will not get you food aid in the United States during the novel coronavirus pandemic, as unemployment soars. More here. - Facilities at a Sri Lankan military hospital will be open to all COVID-19 patients, not just \"VIPs.\" More here. - United States President Donald Trump and presidential candidate Joe Biden did not declare \"people are dying that have never died before.\" The phrase can be traced to famed United States authori Ernest Hemingway. More here. - Thai police cannot fine people for not wearing face masks. More here. - There is no United States patent on the novel coronavirus and no European one for a vaccine (as of April 1). More here. - There is no \\'new virus\\' named hantavirus that has emerged in China. More here. - Singapore General Hospital will temporarily use its car park to test suspected COVID-19 patients, not as a ward. More here. - China sent medical supplies, not doctors, to Malaysia to help combat the COVID-19 pandemic More here. - Claims that 59 church members in South Africa died after drinking household disinfectant to prevent novel coronavirus infections are a hoax -- they are based on an old story. More here. - An Australian supermarket worker has not tested positive for the novel coronavirus in New South Wales suburb (as of April 1, 2020). More here. - Britain\\'s Queen Elizabeth has not tested positive for the novel coronavirus (as of March 31, 2020) More here. - Thailand\\'s emergency decree to combat COVID-19 did not include a curfew (as of March 31, 2020). More here. - The World Health Organization (WHO) has not increased Thailand\\'s \\'pandemic level\\' for COVID-19 (as of March 30, 2020). More here. - Singapore\\'s Ministry of Health did not issue these COVID-19 \\'guidelines.\\' More here. - Australian authorities did not issue a warning that using petrol pumps can spread the novel coronavirus. More here. - Iconic coffee chain Tim Hortons will not close all Canada franchises because of the novel coronavirus. Drive-throughs remain open (as os March 30, 2020). More here. - Claims circulated on United States social media outlining Canada\\'s purported response to the coronavirus outbreak are misleading. More here. - South Africa has not announced a date that schools will re-open (as of March 29, 2020). More here. - Nigeria is not paying citizens to stay at home during the novel coronavirus crisis. More here. - Sri Lanka and the Philippines are not spraying disinfectant over homes from helicopters to kill off the coronavirus. More here. - Philippines\\' president did not approve a payment to all recipients of the country\\'s social security system to help them through the novel coronavirus crisis. More here. - A UK hospital did not issue this notice to its medical staff on how to prevent infection by the novel coronavirus and the notice contains several false claims that AFP FactCheck has already debunked. More here. - A bank in the Pakistani city of Rawalpindi did not close and no employee has tested positive for COVID-19. More here. - Fruit and vetable markets in the Indian city of Chennai and across the state of Tamil Nadu have not been ordered to close to curb the spread of the novel coronavirus. More here. - Ugandan and Kenyan authorities have not instructed landlords to stop collecting rent due to the novel coronavirus crisis. More here. - COVID-19 is not projected to kill up to 45 million people in Nigeria, as claimed in a WhatsApp message. More here. - Australian authorities did not issue a notice saying people could receive free home visits from doctors during the novel coronavirus pandemic. More here. - This infographic does not show the nine-day timeline of the symptoms of the novel coronavirus, the information here is misleading. More here. - A factory in the Australian city of Melbourne has not been hoarding essential supplies including baby formula, toilet paper and hand sanitizer for export to China. More here. - India has not issued an advisory that a disinfectant will be sprayed into the air overnight in an effort to kill the novel coronavirus. More here. - Philippine Vice President Leni Robredo has not said that bats are the \"enemy\" in the novel coronavirus pandemic. More here. - Israel has not developed a vaccine for the novel coronavirus (as of March 20). More here. - UNHCR did not issue a notice claiming that \"migrants and illegals\" in Malaysia were resisting testing for the novel coronavirus. More here. - 15 coronavirus cases were not linked to Burnaby\\'s Metrotown mall in Canada\\'s British Columbia (as of March 20). More here. - Consumers cannot claim a free case of baby formula if they call the relevant manufacturer. More here. - The Indian government is not distributing free face masks during the COVID-19 pandemic. More here. - COVID-19 did not exist before 2019. More here. - Australia was not planning to announce a nationwide \"shut down\" from March 18. More here. - The Philippine Department of Health did not issue an advisory that people who have had contact with those infected with the novel coronavirus would be turned away from doctors\\' clinics. More here. - Major disease outbreaks are not tied to United States election years. More here. - Uganda\\'s president did not postpone elections because of coronavirus. More here. - Israel has not developed a \"cure\" for COVIC-19. More here. - Football superstar Cristiano Ronaldo is not planning to turn his hotels in Portugal into hospitals for novel coronavirus patients. More here. - COVID-19 is not part of a pattern in which viral outbreaks occur every 100 years. More here. - 811 is not an official public health hotline in Ontario and the provincial ministry of health is not organizing home visits. More here. - Costco has not issued a recall for bath tissue because it was infected with the novel coronavirus. More here. - An employer did not cover up a part of a poster on novel coronavirus prevention that advised sick employees to stay home. More here. - A Philippine government advisory did not list shopping malls and hotels that the Department of Health advised against visiting. More here. - That\\'s not a magnified photo of the novel coronavirus you are looking at. It\\'s a weevil. More here. - Donating blood in the United States does not get you a novel coronavirus test. More here. - Philippine authorities did not confiscate fake cigarettes that were spreading the novel coronavirus. More here. - A European brothel has not been put under quarantine. More here. - Indonesia has not issued its citizens free air tickets to return home after coronavirus outbreak. More here. - UNICEF has not released coronavirus prevention guidelines. More here. - The Vatican did not disclose that Pope Francis had been infected with the novel coronavirus; the pontiff was suffering from a cold. More here. - Israeli scientists had not developed a COVID-19 vaccine by early March. More here. - All international arrivals were not cancelled at an airport in Karachi in February 2020 over the novel coronavirus. More here. - The novel coronavirus differs from and is more deadly than the human coronaviruses that can cause a cold, contrary to a claim made by conservative United States radio host Rush Limbaugh. More here. - A taxi driver in Nigeria did not threaten to spread the novel coronavirus all over the country. More here. - Russia\\'s Ministry of Health did not say in a document that the novel coronavirus was man-made. More here. - China-made Holi festival goods are not infected with the novel coronavirus. More here. - This map does not show elevated sulphur dioxide levels in Wuhan, China that could be evidence of mass cremation in and around the city. More here. - A doctor\\'s office in new South Wales in Australia was not visited by people exposed to the novel coronavirus by February 20, 2020. More here. - Israel has not sent a vaccine to \"cure\" novel coronavirus patients in Wuhan, as of mid-March 2020, no vaccine for the virus had been developed. More here. - The Philippines did not issue a warning after a Chinese national from the city of Wuhan escaped quarantine at an airport; the story was a hoax. More here. - The Philippine government did not give out free face masks following the novel coronavirus outbreak. More here. - This map does not show the movement of residents from Wuhan, China, the origin of the novel coronavirus outbreak; it shows flight paths worldwide. More here. - An Australian couple who were quarantined on a cruise ship off the coast of Japan did not have wine delivered to them by a drone. More here. - Treatment by Thai doctors was not a \"cure\" for COVID-19. More here. - A doctor in the Purnea district of the east Indian state of Bihar did not identify a novel coronavirus patient in early February. More here. - The World Health Organization did not choose COVID-19 as the name for the disease that the novel coronavirus causes because it stands for \"China Outbreak Virus in December 19;\" the name is an abbreviation of \"coronavirus disease 2019.\" More here. - Black people are not more resistant to the novel coronavirus. More here. - China did not seek approval from its Supreme Court to euthanize 20,000 patients in an effort to curb the growing novel coronavirus epidemic. More here. - Lysol product labels are not evidence of a novel coronavirus conspiracy. More here. - The cleaner Detool did not test its products on the novel coronavirus before the global outbreak. More here. - Chinese \\'spies\\' did not steal the novel coronavirus from Canada. More here. - The novel coronavirus is not a type of rabies. More here. - Doctors have not projected that 11 million people quarantined in Wuhan, China will die from the novel coronavirus. More here. - The novel coronavirus was not created by a United States government agency. More here. ',\n",
       " \"Posts claiming steam inhalation will ‘kill’ the novel coronavirus has gone viral on social media. However, there is no study to back the claim that steam inhalation can be used as a cure for the coronavirus infection. The Philippines office of the World Health Organisation (WHO) also warned against the use of steam as a cure for COVID-19 adding that the practice might lead to burn injuries. CLAIM One of the posts viral with this claim reads: “*Important Message for all* The hot water you drink is good for your throat. But this coronavirus is hidden behind the paranasal sinus of your nose for 3 to 4 days. The hot water we drink does not reach there. After 4 to 5 days this virus that was hidden behind the paranasal sinus reaches your lungs. Then you have trouble breathing. That's why it is very important to take steam, which reaches the back of your paranasal sinus. You have to kill this virus in the nose with steam....” WHAT WE FOUND OUT We looked for studies that talked about steam inhalation for COVID-19 and found no paper backing the practice. The Quint reached out to Dr Vikas Maurya, the director and head of the Department of Pulmonology at Fortis Hospital, Delhi. Dr Maurya said, “Taking steam can help in cleaning the respiratory passage during any type of viral infection in the nose, sinus and throat”. We found a tweet posted by the WHO’s Philippines office that said that steam inhalation is not a cure for COVID-19. Indian Scientists' Response to COVID-19 (ISRC), a voluntary organisation also debunked the myth and said, “There's no evidence to show nasal rinses or steam inhalation can prevent COVID-19 infection. Although they can potentially provide relief from some of the symptoms, these methods do not kill viruses and hence should not be used as a cure.” While steam inhalation in ineffective against COVID-19, it carries the additional risk of getting burn injuries. The American Burn Association has said that “3 seconds of exposure to 140°F/60°C water can cause a burn serious enough to require surgery.” Burn injuries increase one’s chances of getting infections. The COVID-19 pandemic is still an evolving situation and scientists are looking for ways to prevent the spread of the virus. However, until now, steam inhalation has not been found to be one of the ways that can be used to prevent or cure COVID-19. (Not convinced of a post or information you came across online and want it verified? Send us the details on WhatsApp at 9643651818, or e-mail it to us at webqoof@thequint.com and we will fact-check it for you. You can also read all our fact-checked stories here.) \",\n",
       " \"Democratic presidential candidates harshly criticized President Donald Trump for using the term “hoax” in connection with the coronavirus outbreak. There’s no question that the president described the disease as the Democrats’ “new hoax” at a political rally on February 28 in South Carolina. But the following day, after the death of the first American from coronavirus in Washington state, Trump said that when he used the word “hoax,” he was referring to Democrats finding fault with his administration’s response to coronavirus, not the virus itself. Even after Trump explained his remarks, some Democrats — including former New York City Mayor Mike Bloomberg — continued to wrongly accuse Trump of describing the coronavirus as a “hoax.” The kerfuffle began at the rally in North Charleston, South Carolina when Trump accused the Democrats of “politicizing” the coronavirus outbreak. “Now the Democrats are politicizing the coronavirus, you know that, right?” he said. “Coronavirus, they’re politicizing it. We did one of the great jobs. You say, ‘How’s President Trump doing?’ They go, ‘Oh, not good, not good.’ They have no clue. They don’t have any clue. They can’t even count their votes in Iowa.” Then the president, who often dismissed special counsel Robert Mueller’s Russia investigation as a hoax, continued, “They tried the impeachment hoax. That was on a perfect conversation. They tried anything. They tried it over and over. They’d been doing it since you got in. It’s all turning. They lost. It’s all turning. Think of it. Think of it. And this is their new hoax.” Trump went on to praise his administration for taking “the most aggressive action in modern history to prevent the spread of this illness in the United States,” referring to travel restrictions on foreign nationals who recently visited China. “A virus starts in China, bleeds its way into various countries all around the world, doesn’t spread widely at all in the United States because of the early actions that myself and my administration took against a lot of other wishes,” Trump said, “and the Democrats’ single talking point, and you see it, is that it’s Donald Trump’s fault, right?” Democratic presidential candidates were quick to pounce on Trump’s “hoax” remark. Former Vice President Joe Biden described the president’s comments as “absolutely bizarre” “Look, this is a serious, serious problem,” Biden told MSNBC on February 29. “It’s able to be solved, but it requires us to be absolutely level-headed and let the scientists have the lead in all of this,” Biden said. “But for him to start talking about it being a hoax is absolutely dangerous. It’s just not a decent way to act.” Biden told reporters in Greenville, South Carolina, on February 29 “The president of the United States says it’s a hoax? It’s hard to believe. Even for him it’s hard to believe.” Former South Bend, Indiana, Mayor Pete Buttigieg, at the time still a candidate for the Democratic presidential nomination, also said he was troubled by Trump’s use of the term “hoax.” “It’s critically important that the administration and the White House handle this in a way that’s based on science and not based on politics,” Buttigieg said on NBC’s “Today” show on February 29. “I was particularly disturbed to hear the word ‘hoax’ used by the president recently in talking about this issue.” Buttigieg ended his run for the White House on March 1. In the wake of the criticism, Trump said at a press conference on February 29 that he used the term “hoax” to refer not to coronavirus itself but to Democrats’ criticism of how his administration had responded to it. Asked if he regretted using that particular word, he replied “No. No. No. Hoax referring to the action that they take to try and pin this on somebody because we’ve done such a good job. The hoax is on them not… I’m not talking about what’s happening here. I’m talking what they’re doing. That’s the hoax. That’s just a continuation of the hoax, whether it’s the impeachment hoax or the Russia, Russia, Russia hoax. This is what I’m talking about. Certainly not referring to this. How could anybody refer to this? This is very serious stuff…” But that hardly put an end to criticism from Democrats. In an interview on CBS’ “60 Minutes” on March 1, Bloomberg said, “I find it incomprehensible that the president would do something as inane as calling it a hoax, which he did [Friday] night in South Carolina.” Correspondent Scott Pelley responded, “He said that the Democrats making so much of it is a Democratic hoax, not that the virus was a hoax.” And Bloomberg shot back, “This is up to the scientists and the doctors as to whether there is a problem. They all around the world would say that it is in some places and has enormous potential to become one elsewhere. And it is just ignorant and irresponsible to not stand up and be the leader and say, ‘We don’t know, but we have to prepare for the fact that, if it is, we have the medicines and the structure and the knowledge to deal with it.'” A day later, former Virginia Gov. Terry McAuliffe, a Democrat, similarly criticized Trump at a Biden rally on March 1 in Norfolk, Virginia. “We got a guy in the White House who doesn’t know anything about patriotism, doesn’t know anything about empathy,” McAuliffe said. “He said the coronavirus was a hoax.” But that’s not what Trump said he meant. \"]"
      ]
     },
     "execution_count": 30,
     "metadata": {},
     "output_type": "execute_result"
    }
   ],
   "source": [
    "all_articles"
   ]
  },
  {
   "cell_type": "code",
   "execution_count": 31,
   "metadata": {
    "scrolled": true
   },
   "outputs": [
    {
     "data": {
      "application/vnd.jupyter.widget-view+json": {
       "model_id": "22fe22788e474acda8102a92007b89f3",
       "version_major": 2,
       "version_minor": 0
      },
      "text/plain": [
       "HBox(children=(HTML(value=''), FloatProgress(value=0.0, max=1.0), HTML(value='')))"
      ]
     },
     "metadata": {},
     "output_type": "display_data"
    },
    {
     "name": "stdout",
     "output_type": "stream",
     "text": [
      "\n"
     ]
    },
    {
     "data": {
      "application/vnd.jupyter.widget-view+json": {
       "model_id": "123eb91d7a914db8b2eaec618f76a727",
       "version_major": 2,
       "version_minor": 0
      },
      "text/plain": [
       "HBox(children=(HTML(value=''), FloatProgress(value=0.0, max=1.0), HTML(value='')))"
      ]
     },
     "metadata": {},
     "output_type": "display_data"
    },
    {
     "name": "stdout",
     "output_type": "stream",
     "text": [
      "\n"
     ]
    },
    {
     "data": {
      "application/vnd.jupyter.widget-view+json": {
       "model_id": "759519875bd34c2ebcca9e1ef27e3222",
       "version_major": 2,
       "version_minor": 0
      },
      "text/plain": [
       "HBox(children=(HTML(value=''), FloatProgress(value=0.0, max=1.0), HTML(value='')))"
      ]
     },
     "metadata": {},
     "output_type": "display_data"
    },
    {
     "name": "stdout",
     "output_type": "stream",
     "text": [
      "\n"
     ]
    },
    {
     "data": {
      "application/vnd.jupyter.widget-view+json": {
       "model_id": "a037b442cd524061ac250c4248784532",
       "version_major": 2,
       "version_minor": 0
      },
      "text/plain": [
       "HBox(children=(HTML(value=''), FloatProgress(value=0.0, max=1.0), HTML(value='')))"
      ]
     },
     "metadata": {},
     "output_type": "display_data"
    },
    {
     "name": "stdout",
     "output_type": "stream",
     "text": [
      "\n"
     ]
    },
    {
     "data": {
      "application/vnd.jupyter.widget-view+json": {
       "model_id": "3639eff427624e56977d8a7549220126",
       "version_major": 2,
       "version_minor": 0
      },
      "text/plain": [
       "HBox(children=(HTML(value=''), FloatProgress(value=0.0, max=1.0), HTML(value='')))"
      ]
     },
     "metadata": {},
     "output_type": "display_data"
    },
    {
     "name": "stdout",
     "output_type": "stream",
     "text": [
      "\n"
     ]
    },
    {
     "data": {
      "application/vnd.jupyter.widget-view+json": {
       "model_id": "86c0b9d936964834865d3d3520bbf069",
       "version_major": 2,
       "version_minor": 0
      },
      "text/plain": [
       "HBox(children=(HTML(value=''), FloatProgress(value=0.0, max=1.0), HTML(value='')))"
      ]
     },
     "metadata": {},
     "output_type": "display_data"
    },
    {
     "name": "stdout",
     "output_type": "stream",
     "text": [
      "\n"
     ]
    },
    {
     "data": {
      "application/vnd.jupyter.widget-view+json": {
       "model_id": "c34fd9690eff493fb977a8751d029f7b",
       "version_major": 2,
       "version_minor": 0
      },
      "text/plain": [
       "HBox(children=(HTML(value=''), FloatProgress(value=0.0, max=1.0), HTML(value='')))"
      ]
     },
     "metadata": {},
     "output_type": "display_data"
    },
    {
     "name": "stdout",
     "output_type": "stream",
     "text": [
      "\n"
     ]
    },
    {
     "data": {
      "application/vnd.jupyter.widget-view+json": {
       "model_id": "ea60a9f58c4543439ca19d3ce58f1e14",
       "version_major": 2,
       "version_minor": 0
      },
      "text/plain": [
       "HBox(children=(HTML(value=''), FloatProgress(value=0.0, max=1.0), HTML(value='')))"
      ]
     },
     "metadata": {},
     "output_type": "display_data"
    },
    {
     "name": "stdout",
     "output_type": "stream",
     "text": [
      "\n"
     ]
    },
    {
     "data": {
      "application/vnd.jupyter.widget-view+json": {
       "model_id": "d488a3d5a8ec4421919345acf7f94172",
       "version_major": 2,
       "version_minor": 0
      },
      "text/plain": [
       "HBox(children=(HTML(value=''), FloatProgress(value=0.0, max=1.0), HTML(value='')))"
      ]
     },
     "metadata": {},
     "output_type": "display_data"
    },
    {
     "name": "stdout",
     "output_type": "stream",
     "text": [
      "\n"
     ]
    },
    {
     "data": {
      "application/vnd.jupyter.widget-view+json": {
       "model_id": "98a17e6132b14addbcac4c04fe22aff1",
       "version_major": 2,
       "version_minor": 0
      },
      "text/plain": [
       "HBox(children=(HTML(value=''), FloatProgress(value=0.0, max=1.0), HTML(value='')))"
      ]
     },
     "metadata": {},
     "output_type": "display_data"
    },
    {
     "name": "stdout",
     "output_type": "stream",
     "text": [
      "\n"
     ]
    },
    {
     "data": {
      "application/vnd.jupyter.widget-view+json": {
       "model_id": "c6e60e7855c743f89146e6c16593d946",
       "version_major": 2,
       "version_minor": 0
      },
      "text/plain": [
       "HBox(children=(HTML(value=''), FloatProgress(value=0.0, max=1.0), HTML(value='')))"
      ]
     },
     "metadata": {},
     "output_type": "display_data"
    },
    {
     "name": "stdout",
     "output_type": "stream",
     "text": [
      "\n"
     ]
    },
    {
     "data": {
      "application/vnd.jupyter.widget-view+json": {
       "model_id": "fe547c44462742f8abfd6fc99c7b4354",
       "version_major": 2,
       "version_minor": 0
      },
      "text/plain": [
       "HBox(children=(HTML(value=''), FloatProgress(value=0.0, max=1.0), HTML(value='')))"
      ]
     },
     "metadata": {},
     "output_type": "display_data"
    },
    {
     "name": "stdout",
     "output_type": "stream",
     "text": [
      "\n"
     ]
    },
    {
     "data": {
      "application/vnd.jupyter.widget-view+json": {
       "model_id": "5e0ded24cac940c0a64b8f025efe033a",
       "version_major": 2,
       "version_minor": 0
      },
      "text/plain": [
       "HBox(children=(HTML(value=''), FloatProgress(value=0.0, max=1.0), HTML(value='')))"
      ]
     },
     "metadata": {},
     "output_type": "display_data"
    },
    {
     "name": "stdout",
     "output_type": "stream",
     "text": [
      "\n"
     ]
    },
    {
     "data": {
      "application/vnd.jupyter.widget-view+json": {
       "model_id": "b309406c508346ceac26c1d820254cc3",
       "version_major": 2,
       "version_minor": 0
      },
      "text/plain": [
       "HBox(children=(HTML(value=''), FloatProgress(value=0.0, max=1.0), HTML(value='')))"
      ]
     },
     "metadata": {},
     "output_type": "display_data"
    },
    {
     "name": "stdout",
     "output_type": "stream",
     "text": [
      "\n"
     ]
    }
   ],
   "source": [
    "headlines=inp\n",
    "all_articles_labels=[]\n",
    "\n",
    "for i in range(0,len(all_articles)):\n",
    "    bodies=all_articles[i]\n",
    "    x=model.predict(\n",
    "        [\n",
    "            [\n",
    "                headlines,\n",
    "                bodies\n",
    "            ]\n",
    "        ]\n",
    "    )\n",
    "    all_articles_labels.append(x[0][0])\n",
    "\n",
    "\n",
    "dic2={0:0,1:0,2:0,3:0}\n",
    "for i in all_articles_labels:\n",
    "    dic2[i]+=1"
   ]
  },
  {
   "cell_type": "code",
   "execution_count": 32,
   "metadata": {},
   "outputs": [
    {
     "data": {
      "text/plain": [
       "{0: 6, 1: 1, 2: 0, 3: 0}"
      ]
     },
     "execution_count": 32,
     "metadata": {},
     "output_type": "execute_result"
    }
   ],
   "source": [
    "dic2"
   ]
  },
  {
   "cell_type": "code",
   "execution_count": 33,
   "metadata": {},
   "outputs": [
    {
     "name": "stdout",
     "output_type": "stream",
     "text": [
      "0\n"
     ]
    }
   ],
   "source": [
    "print(max(dic2, key=dic2.get))"
   ]
  },
  {
   "cell_type": "code",
   "execution_count": 39,
   "metadata": {},
   "outputs": [
    {
     "name": "stdout",
     "output_type": "stream",
     "text": [
      "agree\n"
     ]
    }
   ],
   "source": [
    "print(mapped[max(dic2, key=dic2.get)])"
   ]
  },
  {
   "cell_type": "code",
   "execution_count": null,
   "metadata": {},
   "outputs": [],
   "source": []
  }
 ],
 "metadata": {
  "kernelspec": {
   "display_name": "Python 3",
   "language": "python",
   "name": "python3"
  },
  "language_info": {
   "codemirror_mode": {
    "name": "ipython",
    "version": 3
   },
   "file_extension": ".py",
   "mimetype": "text/x-python",
   "name": "python",
   "nbconvert_exporter": "python",
   "pygments_lexer": "ipython3",
   "version": "3.7.4"
  }
 },
 "nbformat": 4,
 "nbformat_minor": 2
}
