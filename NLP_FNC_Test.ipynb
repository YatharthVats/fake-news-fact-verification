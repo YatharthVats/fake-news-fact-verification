{
 "cells": [
  {
   "cell_type": "code",
   "execution_count": 1,
   "metadata": {},
   "outputs": [
    {
     "name": "stderr",
     "output_type": "stream",
     "text": [
      "'wget' is not recognized as an internal or external command,\n",
      "operable program or batch file.\n",
      "'wget' is not recognized as an internal or external command,\n",
      "operable program or batch file.\n",
      "'wget' is not recognized as an internal or external command,\n",
      "operable program or batch file.\n",
      "'wget' is not recognized as an internal or external command,\n",
      "operable program or batch file.\n"
     ]
    }
   ],
   "source": [
    "!wget https://github.com/UKPLab/coling2018_fake-news-challenge/blob/master/data/fnc-1/corpora/FNC_ARC/combined_stances_train.csv\n",
    "\n",
    "!wget https://github.com/UKPLab/coling2018_fake-news-challenge/blob/master/data/fnc-1/corpora/FNC_ARC/combined_bodies_train.csv\n",
    "\n",
    "!wget https://github.com/UKPLab/coling2018_fake-news-challenge/blob/master/data/fnc-1/corpora/FNC_ARC/combined_stances_test.csv\n",
    "\n",
    "!wget https://github.com/UKPLab/coling2018_fake-news-challenge/blob/master/data/fnc-1/corpora/FNC_ARC/combined_bodies_test.csv"
   ]
  },
  {
   "cell_type": "code",
   "execution_count": 1,
   "metadata": {},
   "outputs": [
    {
     "name": "stderr",
     "output_type": "stream",
     "text": [
      "                                                                                \r"
     ]
    }
   ],
   "source": [
    "import os\n",
    "import csv\n",
    "import pandas as pd\n",
    "from tqdm import tqdm\n",
    "\n",
    "from sklearn.model_selection import train_test_split\n",
    "\n",
    "def fnc(path_headlines, path_bodies):\n",
    "\n",
    "    map = {'agree': 0, 'disagree':1, 'discuss':2, 'unrelated':3}\n",
    "\n",
    "    with open(path_bodies, encoding='utf_8') as fb:  # Body ID,articleBody\n",
    "        body_dict = {}\n",
    "        lines_b = csv.reader(fb)\n",
    "        for i, line in enumerate(tqdm(list(lines_b), ncols=80, leave=False)):\n",
    "            if i > 0:\n",
    "                body_id = int(line[0].strip())\n",
    "                body_dict[body_id] = line[1]\n",
    "\n",
    "    with open(path_headlines, encoding='utf_8') as fh: # Headline,Body ID,Stance\n",
    "        lines_h = csv.reader(fh)\n",
    "        h = []\n",
    "        b = []\n",
    "        l = []\n",
    "        for i, line in enumerate(tqdm(list(lines_h), ncols=80, leave=False)):\n",
    "            if i > 0:\n",
    "                body_id = int(line[1].strip())\n",
    "                label = line[2].strip()\n",
    "                if label in map and body_id in body_dict:\n",
    "                    h.append(line[0])\n",
    "                    l.append(map[line[2]])\n",
    "                    b.append(body_dict[body_id])\n",
    "    return h, b, l\n",
    "\n",
    "data_dir = 'C:\\\\Users\\\\Yatharth\\\\Python notebooks\\\\NLP Class\\\\coling2018_fake-news-challenge\\\\data\\\\fnc-1\\\\corpora\\\\FNC_ARC'\n",
    "headlines, bodies, labels = fnc(\n",
    "    os.path.join(data_dir, 'combined_stances_train.csv'),\n",
    "    os.path.join(data_dir, 'combined_bodies_train.csv')\n",
    ")\n",
    "\n",
    "list_of_tuples = list(zip(headlines, bodies, labels))\n",
    "df = pd.DataFrame(list_of_tuples, columns=['text_a', 'text_b', 'labels'])\n",
    "\n",
    "\n",
    "headlines, bodies, labels = fnc(\n",
    "    os.path.join(data_dir, 'combined_stances_test.csv'),\n",
    "    os.path.join(data_dir, 'combined_bodies_test.csv')\n",
    ")\n",
    "\n",
    "list_of_tuples = list(zip(headlines, bodies, labels))\n",
    "test_df = pd.DataFrame(list_of_tuples, columns=['text_a', 'text_b', 'labels'])\n"
   ]
  },
  {
   "cell_type": "code",
   "execution_count": 6,
   "metadata": {},
   "outputs": [
    {
     "name": "stdout",
     "output_type": "stream",
     "text": [
      "                                                  text_a  \\\n",
      "0      Police find mass graves with at least '15 bodi...   \n",
      "1      Hundreds of Palestinians flee floods in Gaza a...   \n",
      "2      Christian Bale passes on role of Steve Jobs, a...   \n",
      "3      HBO and Apple in Talks for $15/Month Apple TV ...   \n",
      "4      Spider burrowed through tourist's stomach and ...   \n",
      "...                                                  ...   \n",
      "64200                 3-D printing will change the world   \n",
      "64201                  Mother Teresa should be canonized   \n",
      "64202                       Comment sections have failed   \n",
      "64203           Colleges do not need humanities programs   \n",
      "64204             Extreme parenting is counterproductive   \n",
      "\n",
      "                                                  text_b  labels  \n",
      "0      Danny Boyle is directing the untitled film\\n\\n...       3  \n",
      "1      Hundreds of Palestinians were evacuated from t...       0  \n",
      "2      30-year-old Moscow resident was hospitalized w...       3  \n",
      "3      (Reuters) - A Canadian soldier was shot at the...       3  \n",
      "4      Fear not arachnophobes, the story of Bunbury's...       1  \n",
      "...                                                  ...     ...  \n",
      "64200  I am a Middle School teacher whose views on ho...       3  \n",
      "64201  I am curious to know what the effect would be ...       3  \n",
      "64202  I know of too many kids put through too many y...       3  \n",
      "64203  Most Americans have the same attitude about la...       3  \n",
      "64204  The trend we are currently witnessing is along...       3  \n",
      "\n",
      "[64205 rows x 3 columns]\n"
     ]
    }
   ],
   "source": [
    "print(df)\n",
    "df.to_csv(\"train_stances_bodies_combined.csv\",index=False,sep=\"\\t\",encoding=\"utf-8\")"
   ]
  },
  {
   "cell_type": "code",
   "execution_count": 11,
   "metadata": {},
   "outputs": [
    {
     "name": "stdout",
     "output_type": "stream",
     "text": [
      "                                                  text_a  \\\n",
      "0      Ferguson riots: Pregnant woman loses eye after...   \n",
      "1      Crazy Conservatives Are Sure a Gitmo Detainee ...   \n",
      "2      A Russian Guy Says His Justin Bieber Ringtone ...   \n",
      "3      Zombie Cat: Buried Kitty Believed Dead, Meows ...   \n",
      "4      Argentina's President Adopts Boy to End Werewo...   \n",
      "...                                                  ...   \n",
      "28967              New York's bike lanes are not working   \n",
      "28968  Research papers are a useful excercise for col...   \n",
      "28969              Royal Couple could be a modern family   \n",
      "28970          Open office layout should be reconsidered   \n",
      "28971                Brazil should not postpone Olympics   \n",
      "\n",
      "                                                  text_b  labels  \n",
      "0      A RESPECTED senior French police officer inves...       3  \n",
      "1      Dave Morin's social networking company Path is...       3  \n",
      "2      A bereaved Afghan mother took revenge on the T...       3  \n",
      "3      Hewlett-Packard is officially splitting in two...       3  \n",
      "4      An airline passenger headed to Dallas was remo...       3  \n",
      "...                                                  ...     ...  \n",
      "28967  'are rich candidates less corruptible' What a ...       3  \n",
      "28968  Yes RBG has every right to comment on a candid...       3  \n",
      "28969  I have had cats declawed and kept them as indo...       3  \n",
      "28970  I didn't go to preschool. But kindergarten bac...       3  \n",
      "28971  The Olympics in Brazil is a joke, do this in a...       1  \n",
      "\n",
      "[28972 rows x 3 columns]\n"
     ]
    }
   ],
   "source": [
    "print(test_df)\n",
    "test_df.to_csv(\"test_stances_bodies_combined.csv\",index=False,sep=\"\\t\",encoding=\"utf-8\")"
   ]
  },
  {
   "cell_type": "code",
   "execution_count": 12,
   "metadata": {},
   "outputs": [],
   "source": [
    "#with open(\"C:\\\\Users\\\\Yatharth\\\\Python notebooks\\\\NLP Class\\\\test_stances_bodies_combined.csv\", encoding='utf_8') as fb:\n",
    "train=pd.read_csv(\"C:\\\\Users\\\\Yatharth\\\\Python notebooks\\\\NLP Class\\\\test_stances_bodies_combined.csv\",sep=\"\\t\",encoding=\"utf-8\")    "
   ]
  },
  {
   "cell_type": "code",
   "execution_count": null,
   "metadata": {},
   "outputs": [],
   "source": [
    "print(simpletransformers.__version__)"
   ]
  },
  {
   "cell_type": "code",
   "execution_count": 1,
   "metadata": {},
   "outputs": [
    {
     "name": "stderr",
     "output_type": "stream",
     "text": [
      "wandb: WARNING W&B installed but not logged in.  Run `wandb login` or set the WANDB_API_KEY env variable.\n"
     ]
    }
   ],
   "source": [
    "'''#!pip install simpletransformers\n",
    "import tqdm\n",
    "from simpletransformers.classification import ClassificationModel'''"
   ]
  },
  {
   "cell_type": "code",
   "execution_count": 18,
   "metadata": {},
   "outputs": [],
   "source": [
    "'''model = ClassificationModel('bert','outputs/',num_labels=4,args={'learning_rate':3e-5,\n",
    "    'num_train_epochs': 5,\n",
    "    'reprocess_input_data': True,\n",
    "    'overwrite_output_dir': True,\n",
    "    'train_batch_size': 4,\n",
    "    'eval_batch_size': 4,\n",
    "    'max_seq_length': 512,\n",
    "    'fp16': True})'''"
   ]
  },
  {
   "cell_type": "code",
   "execution_count": 45,
   "metadata": {
    "scrolled": false
   },
   "outputs": [
    {
     "data": {
      "application/vnd.jupyter.widget-view+json": {
       "model_id": "de97dedc93c641c1bfecf7aeef0173c7",
       "version_major": 2,
       "version_minor": 0
      },
      "text/plain": [
       "HBox(children=(HTML(value=''), FloatProgress(value=0.0, max=1.0), HTML(value='')))"
      ]
     },
     "metadata": {},
     "output_type": "display_data"
    },
    {
     "name": "stdout",
     "output_type": "stream",
     "text": [
      "\n"
     ]
    },
    {
     "data": {
      "application/vnd.jupyter.widget-view+json": {
       "model_id": "649c82b3a9c6449285f5d31671bddfed",
       "version_major": 2,
       "version_minor": 0
      },
      "text/plain": [
       "HBox(children=(HTML(value=''), FloatProgress(value=0.0, max=1.0), HTML(value='')))"
      ]
     },
     "metadata": {},
     "output_type": "display_data"
    },
    {
     "name": "stdout",
     "output_type": "stream",
     "text": [
      "\n"
     ]
    }
   ],
   "source": [
    "'''import pandas as pd\n",
    "headlines=\"Hydroxycholoroaquine is a medicine for coronavirus\"\n",
    "bodies=\"There is no  evidence that coronavirus can be treated by hydroxychoroaquine\"\n",
    "#labels=1\n",
    "#list_of_tuples = list(zip(headlines, bodies))\n",
    "#predict_df = pd.DataFrame(list_of_tuples, columns=['text_a', 'text_b'])\n",
    "#print(predict_df)\n",
    "x=model.predict(\n",
    "    [\n",
    "        [\n",
    "            headlines,\n",
    "            bodies\n",
    "        ]\n",
    "    ]\n",
    ")'''"
   ]
  },
  {
   "cell_type": "code",
   "execution_count": 47,
   "metadata": {},
   "outputs": [
    {
     "name": "stdout",
     "output_type": "stream",
     "text": [
      "0\n"
     ]
    }
   ],
   "source": [
    "print(x[0][0])"
   ]
  },
  {
   "cell_type": "code",
   "execution_count": 12,
   "metadata": {},
   "outputs": [
    {
     "name": "stdout",
     "output_type": "stream",
     "text": [
      "GeForce GTX 1050\n"
     ]
    },
    {
     "data": {
      "text/plain": [
       "'GeForce GTX 1050'"
      ]
     },
     "execution_count": 12,
     "metadata": {},
     "output_type": "execute_result"
    }
   ],
   "source": [
    "'''import torch\n",
    "print(torch.cuda.get_device_name(torch.cuda.current_device()))\n",
    "torch.cuda.get_device_name(0)'''"
   ]
  },
  {
   "cell_type": "code",
   "execution_count": null,
   "metadata": {},
   "outputs": [],
   "source": [
    "import numpy as np\n",
    "_, model_outputs_test, _ = model.eval_model(test_df)\n",
    "\n",
    "preds_test = np.argmax(model_outputs_test, axis=1)"
   ]
  },
  {
   "cell_type": "code",
   "execution_count": 2,
   "metadata": {},
   "outputs": [
    {
     "name": "stdout",
     "output_type": "stream",
     "text": [
      "1.7.0\n"
     ]
    }
   ],
   "source": [
    "print(torch.__version__)"
   ]
  },
  {
   "cell_type": "code",
   "execution_count": null,
   "metadata": {},
   "outputs": [],
   "source": []
  },
  {
   "cell_type": "code",
   "execution_count": 7,
   "metadata": {},
   "outputs": [
    {
     "name": "stdout",
     "output_type": "stream",
     "text": [
      "4.51.0\n"
     ]
    }
   ],
   "source": [
    "print(tqdm.__version__)"
   ]
  },
  {
   "cell_type": "code",
   "execution_count": null,
   "metadata": {},
   "outputs": [],
   "source": []
  }
 ],
 "metadata": {
  "kernelspec": {
   "display_name": "Python 3",
   "language": "python",
   "name": "python3"
  },
  "language_info": {
   "codemirror_mode": {
    "name": "ipython",
    "version": 3
   },
   "file_extension": ".py",
   "mimetype": "text/x-python",
   "name": "python",
   "nbconvert_exporter": "python",
   "pygments_lexer": "ipython3",
   "version": "3.7.4"
  }
 },
 "nbformat": 4,
 "nbformat_minor": 2
}
